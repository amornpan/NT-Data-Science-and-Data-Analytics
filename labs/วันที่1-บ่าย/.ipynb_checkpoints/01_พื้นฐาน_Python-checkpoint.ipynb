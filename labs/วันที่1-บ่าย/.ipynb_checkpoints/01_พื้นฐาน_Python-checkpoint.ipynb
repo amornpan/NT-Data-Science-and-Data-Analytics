{
 "cells": [
  {
   "cell_type": "markdown",
   "metadata": {},
   "source": [
    "# พื้นฐาน Python สำหรับ Data Science\n",
    "\n",
    "## วัตถุประสงค์การเรียนรู้\n",
    "- เข้าใจพื้นฐานการเขียนโปรแกรม Python\n",
    "- เรียนรู้ประเภทข้อมูลพื้นฐานใน Python\n",
    "- สามารถใช้งานตัวแปร ลิสต์ และดิกชันนารี\n",
    "- เข้าใจการใช้เงื่อนไขและการวนซ้ำ\n",
    "- เขียนฟังก์ชันพื้นฐานได้"
   ]
  },
  {
   "cell_type": "markdown",
   "metadata": {},
   "source": [
    "## ทำไม Python ถึงเป็นที่นิยมใน Data Science?\n",
    "\n",
    "Python เป็นภาษาโปรแกรมมิ่งที่เป็นที่นิยมในแวดวง Data Science ด้วยเหตุผลหลายประการ:\n",
    "- **เรียนรู้ง่าย**: ไวยากรณ์เข้าใจง่าย คล้ายภาษาอังกฤษ\n",
    "- **มีไลบรารีมากมาย**: มีไลบรารีสำหรับวิเคราะห์ข้อมูล เช่น NumPy, Pandas, Matplotlib\n",
    "- **ชุมชนใหญ่**: มีผู้ใช้งานจำนวนมาก ทำให้หาความช่วยเหลือได้ง่าย\n",
    "- **ยืดหยุ่นสูง**: ใช้ได้ทั้งงานวิเคราะห์ข้อมูล ทำเว็บไซต์ และอื่นๆ\n",
    "- **เป็น Open Source**: ใช้งานฟรี ไม่มีค่าใช้จ่าย"
   ]
  },
  {
   "cell_type": "markdown",
   "metadata": {},
   "source": [
    "## การใช้ Google Colab\n",
    "\n",
    "เราจะใช้ Google Colab เป็นเครื่องมือในการเขียนโค้ด Python ข้อดีของ Google Colab คือไม่ต้องติดตั้งอะไรในเครื่อง และทำงานบนเว็บเบราว์เซอร์ได้เลย\n",
    "\n",
    "### การใช้ Python เป็นเครื่องคิดเลข\n",
    "\n",
    "เราสามารถใช้ Python เป็นเครื่องคิดเลขได้อย่างง่ายดาย:"
   ]
  },
  {
   "cell_type": "code",
   "execution_count": null,
   "metadata": {},
   "outputs": [],
   "source": [
    "# การคำนวณพื้นฐาน\n",
    "print(5 + 3)   # บวก\n",
    "print(10 - 4)  # ลบ\n",
    "print(7 * 6)   # คูณ\n",
    "print(20 / 5)  # หาร (ได้ผลลัพธ์เป็นทศนิยม)\n",
    "print(20 // 3) # หารเอาเฉพาะส่วน (ไม่เอาเศษ)\n",
    "print(7 % 3)   # หารเอาเศษ\n",
    "print(2 ** 3)  # ยกกำลัง"
   ]
  },
  {
   "cell_type": "markdown",
   "metadata": {},
   "source": [
    "## ตัวแปรและประเภทข้อมูลพื้นฐาน\n",
    "\n",
    "### การใช้ตัวแปร\n",
    "\n",
    "ตัวแปรใน Python ใช้เพื่อเก็บค่าต่างๆ การสร้างตัวแปรทำได้โดยการกำหนดชื่อและค่า:"
   ]
  },
  {
   "cell_type": "code",
   "execution_count": null,
   "metadata": {},
   "outputs": [],
   "source": [
    "# การสร้างตัวแปรและกำหนดค่า\n",
    "x = 10\n",
    "y = 5\n",
    "\n",
    "# การคำนวณด้วยตัวแปร\n",
    "print(\"x + y =\", x + y)\n",
    "print(\"x - y =\", x - y)\n",
    "print(\"x * y =\", x * y)\n",
    "print(\"x / y =\", x / y)"
   ]
  },
  {
   "cell_type": "markdown",
   "metadata": {},
   "source": [
    "### ประเภทข้อมูลพื้นฐาน\n",
    "\n",
    "Python มีประเภทข้อมูลพื้นฐานหลายประเภท ที่สำคัญมีดังนี้:\n",
    "\n",
    "1. **int (จำนวนเต็ม)**: 1, 2, 100, -10\n",
    "2. **float (จำนวนทศนิยม)**: 1.5, 3.14, -0.5\n",
    "3. **str (ข้อความ)**: \"Hello\", 'Data Science'\n",
    "4. **bool (ค่าความจริง)**: True, False\n",
    "\n",
    "เราสามารถตรวจสอบประเภทข้อมูลได้ด้วยฟังก์ชัน `type()`:"
   ]
  },
  {
   "cell_type": "code",
   "execution_count": null,
   "metadata": {},
   "outputs": [],
   "source": [
    "# ประเภทข้อมูลพื้นฐาน\n",
    "num_int = 42\n",
    "num_float = 3.14\n",
    "text = \"Hello, Data Science\"\n",
    "is_python_fun = True\n",
    "\n",
    "# ตรวจสอบประเภทข้อมูล\n",
    "print(type(num_int))\n",
    "print(type(num_float))\n",
    "print(type(text))\n",
    "print(type(is_python_fun))"
   ]
  },
  {
   "cell_type": "markdown",
   "metadata": {},
   "source": [
    "### การทำงานกับข้อความ (String)\n",
    "\n",
    "ข้อความ (String) เป็นหนึ่งในประเภทข้อมูลพื้นฐานที่ใช้บ่อยใน Python สามารถทำการต่อข้อความ (Concatenation) และการทำซ้ำ (Repetition) ได้:"
   ]
  },
  {
   "cell_type": "code",
   "execution_count": null,
   "metadata": {},
   "outputs": [],
   "source": [
    "# การต่อข้อความ\n",
    "first_name = \"John\"\n",
    "last_name = \"Doe\"\n",
    "full_name = first_name + \" \" + last_name\n",
    "print(full_name)\n",
    "\n",
    "# การทำซ้ำข้อความ\n",
    "print(\"Python \" * 3)\n",
    "\n",
    "# การใช้ f-string (ใน Python 3.6+)\n",
    "age = 25\n",
    "info = f\"My name is {full_name} and I am {age} years old.\"\n",
    "print(info)"
   ]
  },
  {
   "cell_type": "markdown",
   "metadata": {},
   "source": [
    "## โครงสร้างข้อมูลพื้นฐาน\n",
    "\n",
    "### ลิสต์ (List)\n",
    "\n",
    "ลิสต์เป็นโครงสร้างข้อมูลที่ใช้เก็บข้อมูลหลายตัวในตัวแปรเดียว สามารถเก็บข้อมูลต่างประเภทกันได้และสามารถแก้ไขได้:"
   ]
  },
  {
   "cell_type": "code",
   "execution_count": null,
   "metadata": {},
   "outputs": [],
   "source": [
    "# การสร้างลิสต์\n",
    "fruits = [\"apple\", \"banana\", \"cherry\"]\n",
    "print(fruits)\n",
    "\n",
    "# การเข้าถึงสมาชิกในลิสต์ (index เริ่มจาก 0)\n",
    "print(fruits[0])  # apple\n",
    "print(fruits[1])  # banana\n",
    "print(fruits[-1]) # cherry (index ติดลบนับจากท้าย)\n",
    "\n",
    "# การแก้ไขสมาชิกในลิสต์\n",
    "fruits[0] = \"orange\"\n",
    "print(fruits)\n",
    "\n",
    "# การเพิ่มสมาชิกในลิสต์\n",
    "fruits.append(\"grape\")\n",
    "print(fruits)\n",
    "\n",
    "# การลบสมาชิกในลิสต์\n",
    "fruits.remove(\"banana\")\n",
    "print(fruits)\n",
    "\n",
    "# การหาความยาวของลิสต์\n",
    "print(len(fruits))"
   ]
  },
  {
   "cell_type": "markdown",
   "metadata": {},
   "source": [
    "### ดิกชันนารี (Dictionary)\n",
    "\n",
    "ดิกชันนารีใช้เก็บข้อมูลในรูปแบบคู่ของ key-value ซึ่งเหมาะสมสำหรับข้อมูลที่ต้องการค้นหาด้วย key แทนการใช้ index:"
   ]
  },
  {
   "cell_type": "code",
   "execution_count": null,
   "metadata": {},
   "outputs": [],
   "source": [
    "# การสร้างดิกชันนารี\n",
    "person = {\n",
    "    \"name\": \"John\",\n",
    "    \"age\": 30,\n",
    "    \"city\": \"New York\"\n",
    "}\n",
    "print(person)\n",
    "\n",
    "# การเข้าถึงค่าในดิกชันนารีด้วย key\n",
    "print(person[\"name\"])\n",
    "print(person[\"age\"])\n",
    "\n",
    "# การแก้ไขค่าในดิกชันนารี\n",
    "person[\"age\"] = 31\n",
    "print(person)\n",
    "\n",
    "# การเพิ่มคู่ key-value ใหม่\n",
    "person[\"email\"] = \"john@example.com\"\n",
    "print(person)\n",
    "\n",
    "# การลบคู่ key-value\n",
    "del person[\"city\"]\n",
    "print(person)\n",
    "\n",
    "# การตรวจสอบว่ามี key อยู่ในดิกชันนารีหรือไม่\n",
    "print(\"name\" in person)  # True\n",
    "print(\"city\" in person)   # False"
   ]
  },
  {
   "cell_type": "markdown",
   "metadata": {},
   "source": [
    "## การใช้เงื่อนไขและการวนซ้ำ\n",
    "\n",
    "### คำสั่งเงื่อนไข (if-elif-else)\n",
    "\n",
    "คำสั่งเงื่อนไขใช้ในการตัดสินใจว่าจะทำอะไรต่อไปขึ้นอยู่กับเงื่อนไขที่กำหนด:"
   ]
  },
  {
   "cell_type": "code",
   "execution_count": null,
   "metadata": {},
   "outputs": [],
   "source": [
    "# คำสั่ง if-elif-else\n",
    "x = 10\n",
    "\n",
    "if x > 10:\n",
    "    print(\"x มากกว่า 10\")\n",
    "elif x < 10:\n",
    "    print(\"x น้อยกว่า 10\")\n",
    "else:\n",
    "    print(\"x เท่ากับ 10\")"
   ]
  },
  {
   "cell_type": "markdown",
   "metadata": {},
   "source": [
    "### การเปรียบเทียบและตัวดำเนินการทางตรรกะ\n",
    "\n",
    "Python มีตัวดำเนินการสำหรับเปรียบเทียบและตัวดำเนินการทางตรรกะที่ใช้ในเงื่อนไข:"
   ]
  },
  {
   "cell_type": "code",
   "execution_count": null,
   "metadata": {},
   "outputs": [],
   "source": [
    "# ตัวดำเนินการเปรียบเทียบ\n",
    "print(5 > 3)    # มากกว่า\n",
    "print(5 < 3)    # น้อยกว่า\n",
    "print(5 >= 5)   # มากกว่าหรือเท่ากับ\n",
    "print(5 <= 4)   # น้อยกว่าหรือเท่ากับ\n",
    "print(5 == 5)   # เท่ากับ\n",
    "print(5 != 3)   # ไม่เท่ากับ\n",
    "\n",
    "# ตัวดำเนินการทางตรรกะ\n",
    "print(True and False)  # และ - ทั้งสองต้องเป็น True\n",
    "print(True or False)   # หรือ - อย่างน้อยหนึ่งตัวต้องเป็น True\n",
    "print(not True)        # ไม่ - กลับค่าจาก True เป็น False หรือจาก False เป็น True"
   ]
  },
  {
   "cell_type": "markdown",
   "metadata": {},
   "source": [
    "### การวนซ้ำด้วย for loop\n",
    "\n",
    "for loop ใช้สำหรับวนลูปผ่านสมาชิกในลิสต์หรือช่วงของตัวเลข:"
   ]
  },
  {
   "cell_type": "code",
   "execution_count": null,
   "metadata": {},
   "outputs": [],
   "source": [
    "# for loop กับลิสต์\n",
    "fruits = [\"apple\", \"banana\", \"cherry\"]\n",
    "for fruit in fruits:\n",
    "    print(fruit)\n",
    "\n",
    "# for loop กับช่วงตัวเลข\n",
    "for i in range(5):  # range(5) สร้างตัวเลข 0, 1, 2, 3, 4\n",
    "    print(i)"
   ]
  },
  {
   "cell_type": "markdown",
   "metadata": {},
   "source": [
    "### การวนซ้ำด้วย while loop\n",
    "\n",
    "while loop จะวนลูปตราบใดที่เงื่อนไขยังเป็น True:"
   ]
  },
  {
   "cell_type": "code",
   "execution_count": null,
   "metadata": {},
   "outputs": [],
   "source": [
    "# while loop\n",
    "count = 0\n",
    "while count < 5:\n",
    "    print(count)\n",
    "    count += 1  # เพิ่ม count ขึ้น 1"
   ]
  },
  {
   "cell_type": "markdown",
   "metadata": {},
   "source": [
    "## การสร้างฟังก์ชัน\n",
    "\n",
    "ฟังก์ชันคือกลุ่มของคำสั่งที่ทำงานอย่างใดอย่างหนึ่ง สามารถเรียกใช้ซ้ำได้หลายครั้ง การสร้างฟังก์ชันใน Python ใช้คำสั่ง `def`:"
   ]
  },
  {
   "cell_type": "code",
   "execution_count": null,
   "metadata": {},
   "outputs": [],
   "source": [
    "# การสร้างฟังก์ชันพื้นฐาน\n",
    "def say_hello(name):\n",
    "    print(f\"Hello, {name}!\")\n",
    "\n",
    "# การเรียกใช้ฟังก์ชัน\n",
    "say_hello(\"John\")\n",
    "say_hello(\"Sarah\")"
   ]
  },
  {
   "cell_type": "markdown",
   "metadata": {},
   "source": [
    "### ฟังก์ชันที่ส่งค่ากลับ\n",
    "\n",
    "ฟังก์ชันสามารถส่งค่ากลับได้โดยใช้คำสั่ง `return`:"
   ]
  },
  {
   "cell_type": "code",
   "execution_count": null,
   "metadata": {},
   "outputs": [],
   "source": [
    "# ฟังก์ชันที่ส่งค่ากลับ\n",
    "def add(a, b):\n",
    "    return a + b\n",
    "\n",
    "# การเรียกใช้ฟังก์ชันและเก็บค่าที่ส่งกลับ\n",
    "result = add(5, 3)\n",
    "print(result)"
   ]
  },
  {
   "cell_type": "markdown",
   "metadata": {},
   "source": [
    "### ฟังก์ชันที่มีค่าเริ่มต้น\n",
    "\n",
    "พารามิเตอร์ของฟังก์ชันสามารถกำหนดค่าเริ่มต้นได้:"
   ]
  },
  {
   "cell_type": "code",
   "execution_count": null,
   "metadata": {},
   "outputs": [],
   "source": [
    "# ฟังก์ชันที่มีค่าเริ่มต้น\n",
    "def greet(name, greeting=\"Hello\"):\n",
    "    print(f\"{greeting}, {name}!\")\n",
    "\n",
    "# การเรียกใช้ฟังก์ชัน\n",
    "greet(\"John\")  # ใช้ค่า greeting เริ่มต้น \"Hello\"\n",
    "greet(\"Sarah\", \"Hi\")  # กำหนดค่า greeting เป็น \"Hi\""
   ]
  },
  {
   "cell_type": "markdown",
   "metadata": {},
   "source": [
    "## กิจกรรมฝึกปฏิบัติ\n",
    "\n",
    "### กิจกรรม 1: การสร้างและวิเคราะห์ข้อมูลพนักงาน\n",
    "\n",
    "สร้างลิสต์ของพนักงานในบริษัทโดยใช้ดิกชันนารี และคำนวณค่าเฉลี่ยของเงินเดือน:"
   ]
  },
  {
   "cell_type": "code",
   "execution_count": null,
   "metadata": {},
   "outputs": [],
   "source": [
    "# สร้างข้อมูลพนักงาน\n",
    "employees = [\n",
    "    {\"name\": \"John\", \"age\": 30, \"salary\": 50000, \"department\": \"IT\"},\n",
    "    {\"name\": \"Sarah\", \"age\": 35, \"salary\": 60000, \"department\": \"HR\"},\n",
    "    {\"name\": \"Mike\", \"age\": 25, \"salary\": 45000, \"department\": \"IT\"},\n",
    "    {\"name\": \"Lisa\", \"age\": 40, \"salary\": 70000, \"department\": \"Finance\"},\n",
    "    {\"name\": \"David\", \"age\": 28, \"salary\": 55000, \"department\": \"HR\"}\n",
    "]\n",
    "\n",
    "# คำนวณค่าเฉลี่ยเงินเดือน\n",
    "total_salary = 0\n",
    "for emp in employees:\n",
    "    total_salary += emp[\"salary\"]\n",
    "    \n",
    "average_salary = total_salary / len(employees)\n",
    "print(f\"เงินเดือนเฉลี่ยของพนักงาน: {average_salary:,.2f} บาท\")\n",
    "\n",
    "# หาพนักงานที่มีเงินเดือนสูงกว่าค่าเฉลี่ย\n",
    "print(\"\\nพนักงานที่มีเงินเดือนสูงกว่าค่าเฉลี่ย:\")\n",
    "for emp in employees:\n",
    "    if emp[\"salary\"] > average_salary:\n",
    "        print(f\"{emp['name']} ({emp['department']}) - {emp['salary']:,} บาท\")\n",
    "\n",
    "# นับจำนวนพนักงานในแต่ละแผนก\n",
    "department_count = {}\n",
    "for emp in employees:\n",
    "    dept = emp[\"department\"]\n",
    "    if dept in department_count:\n",
    "        department_count[dept] += 1\n",
    "    else:\n",
    "        department_count[dept] = 1\n",
    "        \n",
    "print(\"\\nจำนวนพนักงานในแต่ละแผนก:\")\n",
    "for dept, count in department_count.items():\n",
    "    print(f\"{dept}: {count} คน\")"
   ]
  },
  {
   "cell_type": "markdown",
   "metadata": {},
   "source": [
    "### กิจกรรม 2: สร้างฟังก์ชันวิเคราะห์ข้อมูลยอดขาย\n",
    "\n",
    "สร้างฟังก์ชันสำหรับวิเคราะห์ข้อมูลยอดขายรายเดือน:"
   ]
  },
  {
   "cell_type": "code",
   "execution_count": null,
   "metadata": {},
   "outputs": [],
   "source": [
    "# ข้อมูลยอดขายรายเดือน\n",
    "monthly_sales = [\n",
    "    {\"month\": \"Jan\", \"sales\": 120000},\n",
    "    {\"month\": \"Feb\", \"sales\": 150000},\n",
    "    {\"month\": \"Mar\", \"sales\": 140000},\n",
    "    {\"month\": \"Apr\", \"sales\": 160000},\n",
    "    {\"month\": \"May\", \"sales\": 130000},\n",
    "    {\"month\": \"Jun\", \"sales\": 170000}\n",
    "]\n",
    "\n",
    "# สร้างฟังก์ชันวิเคราะห์ยอดขาย\n",
    "def analyze_sales(sales_data):\n",
    "    # หายอดขายรวม\n",
    "    total_sales = 0\n",
    "    for month in sales_data:\n",
    "        total_sales += month[\"sales\"]\n",
    "    \n",
    "    # หาค่าเฉลี่ย\n",
    "    average_sales = total_sales / len(sales_data)\n",
    "    \n",
    "    # หาเดือนที่มียอดขายสูงสุดและต่ำสุด\n",
    "    max_month = sales_data[0]\n",
    "    min_month = sales_data[0]\n",
    "    \n",
    "    for month in sales_data:\n",
    "        if month[\"sales\"] > max_month[\"sales\"]:\n",
    "            max_month = month\n",
    "        if month[\"sales\"] < min_month[\"sales\"]:\n",
    "            min_month = month\n",
    "    \n",
    "    # สร้างรายงานสรุป\n",
    "    report = {\n",
    "        \"total\": total_sales,\n",
    "        \"average\": average_sales,\n",
    "        \"max_month\": max_month[\"month\"],\n",
    "        \"max_sales\": max_month[\"sales\"],\n",
    "        \"min_month\": min_month[\"month\"],\n",
    "        \"min_sales\": min_month[\"sales\"]\n",
    "    }\n",
    "    \n",
    "    return report\n",
    "\n",
    "# เรียกใช้ฟังก์ชันและแสดงผล\n",
    "sales_report = analyze_sales(monthly_sales)\n",
    "\n",
    "print(f\"สรุปยอดขาย:\")\n",
    "print(f\"ยอดขายรวม: {sales_report['total']:,} บาท\")\n",
    "print(f\"ยอดขายเฉลี่ยต่อเดือน: {sales_report['average']:,.2f} บาท\")\n",
    "print(f\"เดือนที่ยอดขายสูงสุด: {sales_report['max_month']} ({sales_report['max_sales']:,} บาท)\")\n",
    "print(f\"เดือนที่ยอดขายต่ำสุด: {sales_report['min_month']} ({sales_report['min_sales']:,} บาท)\")"
   ]
  },
  {
   "cell_type": "markdown",
   "metadata": {},
   "source": [
    "## สรุป\n",
    "\n",
    "- Python เป็นภาษาโปรแกรมมิ่งที่เรียนรู้ง่ายและมีประโยชน์มากสำหรับ Data Science\n",
    "- ประเภทข้อมูลพื้นฐานใน Python ได้แก่ int, float, str, bool\n",
    "- โครงสร้างข้อมูลที่สำคัญได้แก่ ลิสต์ (list) และดิกชันนารี (dictionary)\n",
    "- การควบคุมการทำงานของโปรแกรมทำได้ด้วยเงื่อนไข (if-elif-else) และการวนซ้ำ (for, while)\n",
    "- ฟังก์ชันช่วยให้จัดระเบียบโค้ดและนำกลับมาใช้ใหม่ได้\n",
    "- การใช้ Python วิเคราะห์ข้อมูลเบื้องต้นสามารถทำได้โดยใช้ความรู้พื้นฐานเหล่านี้"
   ]
  }
 ],
 "metadata": {
  "kernelspec": {
   "display_name": "Python 3",
   "language": "python",
   "name": "python3"
  },
  "language_info": {
   "codemirror_mode": {
    "name": "ipython",
    "version": 3
   },
   "file_extension": ".py",
   "mimetype": "text/x-python",
   "name": "python",
   "nbconvert_exporter": "python",
   "pygments_lexer": "ipython3",
   "version": "3.8.8"
  }
 },
 "nbformat": 4,
 "nbformat_minor": 4
}