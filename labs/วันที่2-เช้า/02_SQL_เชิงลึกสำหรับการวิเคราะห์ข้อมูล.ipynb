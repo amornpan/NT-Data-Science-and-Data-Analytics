{
 "cells": [
  {
   "cell_type": "markdown",
   "metadata": {},
   "source": [
    "# SQL เชิงลึกสำหรับการวิเคราะห์ข้อมูล\n",
    "\n",
    "## วัตถุประสงค์การเรียนรู้\n",
    "- เข้าใจการใช้ JOIN เพื่อเชื่อมตาราง\n",
    "- สามารถใช้ฟังก์ชัน Aggregation (SUM, AVG, COUNT)\n",
    "- เรียนรู้การสร้าง Subqueries\n",
    "- ประยุกต์ใช้ SQL ในการวิเคราะห์ข้อมูลจริง"
   ]
  },
  {
   "cell_type": "markdown",
   "metadata": {},
   "source": [
    "## 1. แนะนำ SQL สำหรับการวิเคราะห์ข้อมูล\n",
    "\n",
    "SQL (Structured Query Language) เป็นภาษามาตรฐานสำหรับการจัดการและดึงข้อมูลจากฐานข้อมูลเชิงสัมพันธ์ (Relational Database) ในบทนี้เราจะเรียนรู้การใช้ SQL ในการวิเคราะห์ข้อมูลเชิงลึก\n",
    "\n",
    "เราจะใช้ `sqlite3` ซึ่งเป็นไลบรารีที่มาพร้อมกับ Python เพื่อทำงานกับฐานข้อมูล SQLite"
   ]
  },
  {
   "cell_type": "code",
   "execution_count": null,
   "metadata": {},
   "outputs": [],
   "source": [
    "# นำเข้าไลบรารีที่จำเป็น\n",
    "import sqlite3\n",
    "import pandas as pd\n",
    "import numpy as np\n",
    "import matplotlib.pyplot as plt\n",
    "\n",
    "# สร้างฐานข้อมูล in-memory\n",
    "conn = sqlite3.connect(':memory:')\n",
    "cursor = conn.cursor()\n",
    "\n",
    "print(\"เชื่อมต่อกับฐานข้อมูล SQLite เรียบร้อยแล้ว\")"
   ]
  },
  {
   "cell_type": "markdown",
   "metadata": {},
   "source": [
    "## 2. การสร้างและนำเข้าข้อมูลตัวอย่าง\n",
    "\n",
    "เราจะสร้างตารางข้อมูลจำลองเพื่อใช้ในการเรียนรู้ SQL เชิงลึก รวมทั้งสร้างความสัมพันธ์ระหว่างตาราง"
   ]
  },
  {
   "cell_type": "code",
   "execution_count": null,
   "metadata": {},
   "outputs": [],
   "source": [
    "# สร้างตาราง customers (ลูกค้า)\n",
    "cursor.execute('''\n",
    "CREATE TABLE customers (\n",
    "    customer_id INTEGER PRIMARY KEY,\n",
    "    first_name TEXT,\n",
    "    last_name TEXT,\n",
    "    email TEXT,\n",
    "    phone TEXT,\n",
    "    city TEXT,\n",
    "    registration_date DATE\n",
    ");\n",
    "''')\n",
    "\n",
    "# สร้างตาราง products (สินค้า)\n",
    "cursor.execute('''\n",
    "CREATE TABLE products (\n",
    "    product_id INTEGER PRIMARY KEY,\n",
    "    product_name TEXT,\n",
    "    category TEXT,\n",
    "    price REAL,\n",
    "    stock_quantity INTEGER\n",
    ");\n",
    "''')\n",
    "\n",
    "# สร้างตาราง orders (คำสั่งซื้อ)\n",
    "cursor.execute('''\n",
    "CREATE TABLE orders (\n",
    "    order_id INTEGER PRIMARY KEY,\n",
    "    customer_id INTEGER,\n",
    "    order_date DATE,\n",
    "    total_amount REAL,\n",
    "    status TEXT,\n",
    "    FOREIGN KEY (customer_id) REFERENCES customers (customer_id)\n",
    ");\n",
    "''')\n",
    "\n",
    "# สร้างตาราง order_items (รายการสินค้าในคำสั่งซื้อ)\n",
    "cursor.execute('''\n",
    "CREATE TABLE order_items (\n",
    "    order_item_id INTEGER PRIMARY KEY,\n",
    "    order_id INTEGER,\n",
    "    product_id INTEGER,\n",
    "    quantity INTEGER,\n",
    "    unit_price REAL,\n",
    "    FOREIGN KEY (order_id) REFERENCES orders (order_id),\n",
    "    FOREIGN KEY (product_id) REFERENCES products (product_id)\n",
    ");\n",
    "''')\n",
    "\n",
    "print(\"สร้างตารางเรียบร้อยแล้ว\")"
   ]
  },
  {
   "cell_type": "markdown",
   "metadata": {},
   "source": [
    "### 2.1 เพิ่มข้อมูลตัวอย่าง"
   ]
  },
  {
   "cell_type": "code",
   "execution_count": null,
   "metadata": {},
   "outputs": [],
   "source": [
    "# เพิ่มข้อมูลลูกค้า\n",
    "customers_data = [\n",
    "    (1, 'สมชาย', 'รักเรียน', 'somchai@email.com', '081-111-1111', 'กรุงเทพฯ', '2023-01-15'),\n",
    "    (2, 'วิชัย', 'ใจดี', 'wichai@email.com', '082-222-2222', 'เชียงใหม่', '2023-02-20'),\n",
    "    (3, 'มานี', 'มีทรัพย์', 'manee@email.com', '083-333-3333', 'ขอนแก่น', '2023-03-10'),\n",
    "    (4, 'ประหยัด', 'จัดเต็ม', 'prayad@email.com', '084-444-4444', 'กรุงเทพฯ', '2023-04-05'),\n",
    "    (5, 'สุชาติ', 'ชาตินิยม', 'suchart@email.com', '085-555-5555', 'ภูเก็ต', '2023-05-12'),\n",
    "    (6, 'พิมพา', 'น่ารัก', 'pimpa@email.com', '086-666-6666', 'เชียงใหม่', '2023-06-18'),\n",
    "    (7, 'กัญญา', 'รักสวย', 'kanya@email.com', '087-777-7777', 'กรุงเทพฯ', '2023-07-22'),\n",
    "    (8, 'อนุชา', 'ชาญฉลาด', 'anucha@email.com', '088-888-8888', 'อยุธยา', '2023-08-30'),\n",
    "    (9, 'อภิชาติ', 'ชาติชาย', 'apichart@email.com', '089-999-9999', 'กรุงเทพฯ', '2023-09-14'),\n",
    "    (10, 'รัตนา', 'น่าชื่นชม', 'rattana@email.com', '090-000-0000', 'เชียงใหม่', '2023-10-25')\n",
    "]\n",
    "\n",
    "cursor.executemany('''\n",
    "INSERT INTO customers VALUES (?, ?, ?, ?, ?, ?, ?)\n",
    "''', customers_data)\n",
    "\n",
    "# เพิ่มข้อมูลสินค้า\n",
    "products_data = [\n",
    "    (1, 'สมาร์ทโฟน รุ่น X', 'อิเล็กทรอนิกส์', 25000, 50),\n",
    "    (2, 'โน้ตบุ๊ก รุ่น Y', 'อิเล็กทรอนิกส์', 35000, 30),\n",
    "    (3, 'แท็บเล็ต รุ่น Z', 'อิเล็กทรอนิกส์', 15000, 40),\n",
    "    (4, 'เสื้อยืด ลาย A', 'เสื้อผ้า', 350, 200),\n",
    "    (5, 'กางเกงยีนส์ ทรง B', 'เสื้อผ้า', 990, 150),\n",
    "    (6, 'รองเท้าวิ่ง รุ่น C', 'รองเท้า', 2500, 100),\n",
    "    (7, 'กระเป๋าเป้ รุ่น D', 'กระเป๋า', 1200, 80),\n",
    "    (8, 'หูฟังไร้สาย รุ่น E', 'อิเล็กทรอนิกส์', 3500, 60),\n",
    "    (9, 'สายชาร์จ รุ่น F', 'อิเล็กทรอนิกส์', 250, 300),\n",
    "    (10, 'เครื่องฟอกอากาศ รุ่น G', 'เครื่องใช้ไฟฟ้า', 8000, 20)\n",
    "]\n",
    "\n",
    "cursor.executemany('''\n",
    "INSERT INTO products VALUES (?, ?, ?, ?, ?)\n",
    "''', products_data)\n",
    "\n",
    "# เพิ่มข้อมูลคำสั่งซื้อ\n",
    "orders_data = [\n",
    "    (1, 1, '2024-01-10', 25000, 'ส่งแล้ว'),\n",
    "    (2, 2, '2024-01-15', 35000, 'ส่งแล้ว'),\n",
    "    (3, 3, '2024-01-20', 15350, 'ส่งแล้ว'),\n",
    "    (4, 1, '2024-02-05', 3490, 'ส่งแล้ว'),\n",
    "    (5, 5, '2024-02-12', 8000, 'ส่งแล้ว'),\n",
    "    (6, 6, '2024-02-18', 3700, 'กำลังเตรียมการ'),\n",
    "    (7, 7, '2024-02-25', 25250, 'ส่งแล้ว'),\n",
    "    (8, 8, '2024-03-02', 15000, 'กำลังเตรียมการ'),\n",
    "    (9, 9, '2024-03-08', 35000, 'รอชำระเงิน'),\n",
    "    (10, 10, '2024-03-15', 8000, 'รอชำระเงิน'),\n",
    "    (11, 1, '2024-03-20', 3750, 'กำลังเตรียมการ'),\n",
    "    (12, 2, '2024-03-25', 15990, 'กำลังเตรียมการ'),\n",
    "    (13, 3, '2024-04-01', 25000, 'รอชำระเงิน'),\n",
    "    (14, 5, '2024-04-05', 3500, 'รอชำระเงิน'),\n",
    "    (15, 7, '2024-04-10', 35000, 'รอชำระเงิน')\n",
    "]\n",
    "\n",
    "cursor.executemany('''\n",
    "INSERT INTO orders VALUES (?, ?, ?, ?, ?)\n",
    "''', orders_data)\n",
    "\n",
    "# เพิ่มข้อมูลรายการสินค้าในคำสั่งซื้อ\n",
    "order_items_data = [\n",
    "    (1, 1, 1, 1, 25000),\n",
    "    (2, 2, 2, 1, 35000),\n",
    "    (3, 3, 3, 1, 15000),\n",
    "    (4, 3, 4, 1, 350),\n",
    "    (5, 4, 4, 5, 350),\n",
    "    (6, 4, 5, 2, 990),\n",
    "    (7, 5, 10, 1, 8000),\n",
    "    (8, 6, 8, 1, 3500),\n",
    "    (9, 6, 9, 1, 200),\n",
    "    (10, 7, 1, 1, 25000),\n",
    "    (11, 7, 9, 1, 250),\n",
    "    (12, 8, 3, 1, 15000),\n",
    "    (13, 9, 2, 1, 35000),\n",
    "    (14, 10, 10, 1, 8000),\n",
    "    (15, 11, 6, 1, 2500),\n",
    "    (16, 11, 8, 1, 1250),\n",
    "    (17, 12, 3, 1, 15000),\n",
    "    (18, 12, 5, 1, 990),\n",
    "    (19, 13, 1, 1, 25000),\n",
    "    (20, 14, 8, 1, 3500),\n",
    "    (21, 15, 2, 1, 35000)\n",
    "]\n",
    "\n",
    "cursor.executemany('''\n",
    "INSERT INTO order_items VALUES (?, ?, ?, ?, ?)\n",
    "''', order_items_data)\n",
    "\n",
    "conn.commit()\n",
    "print(\"เพิ่มข้อมูลเรียบร้อยแล้ว\")"
   ]
  },
  {
   "cell_type": "markdown",
   "metadata": {},
   "source": [
    "### 2.2 ทดสอบดูข้อมูลในตาราง"
   ]
  },
  {
   "cell_type": "code",
   "execution_count": null,
   "metadata": {},
   "outputs": [],
   "source": [
    "# ฟังก์ชันสำหรับดึงข้อมูลจาก SQL และแสดงผลเป็น DataFrame\n",
    "def run_query(query):\n",
    "    return pd.read_sql_query(query, conn)\n",
    "\n",
    "# ดูข้อมูลในตาราง customers\n",
    "print(\"ข้อมูลในตาราง customers:\")\n",
    "display(run_query(\"SELECT * FROM customers LIMIT 5\"))\n",
    "\n",
    "# ดูข้อมูลในตาราง products\n",
    "print(\"\\nข้อมูลในตาราง products:\")\n",
    "display(run_query(\"SELECT * FROM products LIMIT 5\"))\n",
    "\n",
    "# ดูข้อมูลในตาราง orders\n",
    "print(\"\\nข้อมูลในตาราง orders:\")\n",
    "display(run_query(\"SELECT * FROM orders LIMIT 5\"))\n",
    "\n",
    "# ดูข้อมูลในตาราง order_items\n",
    "print(\"\\nข้อมูลในตาราง order_items:\")\n",
    "display(run_query(\"SELECT * FROM order_items LIMIT 5\"))"
   ]
  },
  {
   "cell_type": "markdown",
   "metadata": {},
   "source": [
    "## 3. การใช้ JOIN เพื่อเชื่อมตาราง\n",
    "\n",
    "การใช้ JOIN เป็นเทคนิคสำคัญในการวิเคราะห์ข้อมูลจากหลายตาราง มีหลายประเภทของ JOIN ที่ใช้ในการเชื่อมต่อข้อมูล:\n",
    "\n",
    "1. **INNER JOIN**: รวมข้อมูลที่มีค่าตรงกันในทั้งสองตาราง\n",
    "2. **LEFT JOIN**: รวมทุกข้อมูลจากตารางทางซ้าย และข้อมูลที่ตรงกันจากตารางทางขวา\n",
    "3. **RIGHT JOIN**: รวมทุกข้อมูลจากตารางทางขวา และข้อมูลที่ตรงกันจากตารางทางซ้าย\n",
    "4. **FULL OUTER JOIN**: รวมทุกข้อมูลจากทั้งสองตาราง\n",
    "\n",
    "### 3.1 INNER JOIN\n",
    "\n",
    "INNER JOIN ใช้เพื่อรวมข้อมูลจากสองตารางที่มีค่าตรงกันตามเงื่อนไข"
   ]
  },
  {
   "cell_type": "code",
   "execution_count": null,
   "metadata": {},
   "outputs": [],
   "source": [
    "# ค้นหาข้อมูลคำสั่งซื้อพร้อมข้อมูลลูกค้า\n",
    "query = '''\n",
    "SELECT \n",
    "    o.order_id, \n",
    "    o.order_date, \n",
    "    o.total_amount, \n",
    "    o.status, \n",
    "    c.first_name, \n",
    "    c.last_name, \n",
    "    c.city\n",
    "FROM orders o\n",
    "INNER JOIN customers c ON o.customer_id = c.customer_id\n",
    "ORDER BY o.order_date DESC\n",
    "LIMIT 10\n",
    "'''\n",
    "\n",
    "result = run_query(query)\n",
    "print(\"คำสั่งซื้อพร้อมข้อมูลลูกค้า (INNER JOIN):\")\n",
    "display(result)"
   ]
  },
  {
   "cell_type": "markdown",
   "metadata": {},
   "source": [
    "### 3.2 LEFT JOIN\n",
    "\n",
    "LEFT JOIN ใช้เพื่อรวมทุกข้อมูลจากตารางทางซ้าย และข้อมูลที่ตรงกันจากตารางทางขวา"
   ]
  },
  {
   "cell_type": "code",
   "execution_count": null,
   "metadata": {},
   "outputs": [],
   "source": [
    "# ค้นหาลูกค้าทั้งหมดพร้อมคำสั่งซื้อถ้ามี (แสดงลูกค้าทุกคนแม้ไม่มีคำสั่งซื้อ)\n",
    "query = '''\n",
    "SELECT \n",
    "    c.customer_id, \n",
    "    c.first_name, \n",
    "    c.last_name, \n",
    "    c.city, \n",
    "    o.order_id, \n",
    "    o.order_date, \n",
    "    o.total_amount\n",
    "FROM customers c\n",
    "LEFT JOIN orders o ON c.customer_id = o.customer_id\n",
    "ORDER BY c.customer_id\n",
    "'''\n",
    "\n",
    "result = run_query(query)\n",
    "print(\"ลูกค้าทั้งหมดพร้อมคำสั่งซื้อ (LEFT JOIN):\")\n",
    "display(result)"
   ]
  },
  {
   "cell_type": "markdown",
   "metadata": {},
   "source": [
    "### 3.3 การเชื่อมตารางมากกว่า 2 ตาราง\n",
    "\n",
    "เราสามารถเชื่อมต่อข้อมูลจากหลายตารางได้ในคำสั่ง SQL เดียว"
   ]
  },
  {
   "cell_type": "code",
   "execution_count": null,
   "metadata": {},
   "outputs": [],
   "source": [
    "# ค้นหาข้อมูลรายละเอียดคำสั่งซื้อพร้อมข้อมูลลูกค้าและสินค้า\n",
    "query = '''\n",
    "SELECT \n",
    "    o.order_id, \n",
    "    o.order_date, \n",
    "    c.first_name, \n",
    "    c.last_name, \n",
    "    p.product_name, \n",
    "    oi.quantity, \n",
    "    oi.unit_price, \n",
    "    (oi.quantity * oi.unit_price) AS subtotal\n",
    "FROM orders o\n",
    "JOIN customers c ON o.customer_id = c.customer_id\n",
    "JOIN order_items oi ON o.order_id = oi.order_id\n",
    "JOIN products p ON oi.product_id = p.product_id\n",
    "ORDER BY o.order_date DESC, o.order_id\n",
    "LIMIT 15\n",
    "'''\n",
    "\n",
    "result = run_query(query)\n",
    "print(\"รายละเอียดคำสั่งซื้อพร้อมข้อมูลลูกค้าและสินค้า:\")\n",
    "display(result)"
   ]
  },
  {
   "cell_type": "markdown",
   "metadata": {},
   "source": [
    "## 4. ฟังก์ชัน Aggregation (SUM, AVG, COUNT, MIN, MAX)\n",
    "\n",
    "ฟังก์ชัน Aggregation ใช้ในการคำนวณค่าสรุปของข้อมูล เช่น ผลรวม, ค่าเฉลี่ย, จำนวน, ค่าต่ำสุด, ค่าสูงสุด เป็นต้น"
   ]
  },
  {
   "cell_type": "code",
   "execution_count": null,
   "metadata": {},
   "outputs": [],
   "source": [
    "# ค้นหาจำนวนคำสั่งซื้อ, ยอดขายรวม, ยอดขายเฉลี่ย, ยอดขายต่ำสุด, และยอดขายสูงสุด\n",
    "query = '''\n",
    "SELECT \n",
    "    COUNT(order_id) AS total_orders,\n",
    "    SUM(total_amount) AS total_sales,\n",
    "    AVG(total_amount) AS average_order_value,\n",
    "    MIN(total_amount) AS min_order_value,\n",
    "    MAX(total_amount) AS max_order_value\n",
    "FROM orders\n",
    "'''\n",
    "\n",
    "result = run_query(query)\n",
    "print(\"สรุปข้อมูลคำสั่งซื้อ:\")\n",
    "display(result)"
   ]
  },
  {
   "cell_type": "markdown",
   "metadata": {},
   "source": [
    "### 4.1 การใช้ GROUP BY\n",
    "\n",
    "คำสั่ง GROUP BY ใช้ในการจัดกลุ่มข้อมูลตามค่าในคอลัมน์หนึ่งหรือหลายคอลัมน์ และคำนวณค่าสรุปสำหรับแต่ละกลุ่ม"
   ]
  },
  {
   "cell_type": "code",
   "execution_count": null,
   "metadata": {},
   "outputs": [],
   "source": [
    "# ค้นหายอดขายรวมตามเมือง\n",
    "query = '''\n",
    "SELECT \n",
    "    c.city, \n",
    "    COUNT(o.order_id) AS order_count,\n",
    "    SUM(o.total_amount) AS total_sales\n",
    "FROM orders o\n",
    "JOIN customers c ON o.customer_id = c.customer_id\n",
    "GROUP BY c.city\n",
    "ORDER BY total_sales DESC\n",
    "'''\n",
    "\n",
    "result = run_query(query)\n",
    "print(\"ยอดขายรวมตามเมือง:\")\n",
    "display(result)\n",
    "\n",
    "# สร้างกราฟแสดงยอดขายตามเมือง\n",
    "plt.figure(figsize=(10, 6))\n",
    "plt.bar(result['city'], result['total_sales'])\n",
    "plt.title('ยอดขายรวมตามเมือง')\n",
    "plt.xlabel('เมือง')\n",
    "plt.ylabel('ยอดขายรวม (บาท)')\n",
    "plt.xticks(rotation=45)\n",
    "plt.grid(axis='y', linestyle='--', alpha=0.7)\n",
    "plt.tight_layout()\n",
    "plt.show()"
   ]
  },
  {
   "cell_type": "code",
   "execution_count": null,
   "metadata": {},
   "outputs": [],
   "source": [
    "# ค้นหายอดขายตามหมวดหมู่สินค้า\n",
    "query = '''\n",
    "SELECT \n",
    "    p.category, \n",
    "    COUNT(oi.order_item_id) AS item_count,\n",
    "    SUM(oi.quantity * oi.unit_price) AS total_sales\n",
    "FROM order_items oi\n",
    "JOIN products p ON oi.product_id = p.product_id\n",
    "GROUP BY p.category\n",
    "ORDER BY total_sales DESC\n",
    "'''\n",
    "\n",
    "result = run_query(query)\n",
    "print(\"ยอดขายตามหมวดหมู่สินค้า:\")\n",
    "display(result)\n",
    "\n",
    "# สร้างกราฟวงกลมแสดงสัดส่วนยอดขายตามหมวดหมู่สินค้า\n",
    "plt.figure(figsize=(8, 8))\n",
    "plt.pie(result['total_sales'], labels=result['category'], autopct='%1.1f%%', startangle=90, shadow=True)\n",
    "plt.title('สัดส่วนยอดขายตามหมวดหมู่สินค้า')\n",
    "plt.axis('equal')  # เพื่อให้วงกลมเป็นวงกลมจริงๆ\n",
    "plt.tight_layout()\n",
    "plt.show()"
   ]
  },
  {
   "cell_type": "markdown",
   "metadata": {},
   "source": [
    "### 4.2 การใช้ HAVING\n",
    "\n",
    "คำสั่ง HAVING ใช้ในการกรองผลลัพธ์หลังจากที่ GROUP BY ได้จัดกลุ่มข้อมูลแล้ว (คล้ายกับ WHERE แต่ใช้กับผลลัพธ์จาก GROUP BY)"
   ]
  },
  {
   "cell_type": "code",
   "execution_count": null,
   "metadata": {},
   "outputs": [],
   "source": [
    "# ค้นหาลูกค้าที่มียอดสั่งซื้อรวมมากกว่า 50,000 บาท\n",
    "query = '''\n",
    "SELECT \n",
    "    c.customer_id, \n",
    "    c.first_name, \n",
    "    c.last_name, \n",
    "    COUNT(o.order_id) AS order_count,\n",
    "    SUM(o.total_amount) AS total_spent\n",
    "FROM customers c\n",
    "JOIN orders o ON c.customer_id = o.customer_id\n",
    "GROUP BY c.customer_id, c.first_name, c.last_name\n",
    "HAVING SUM(o.total_amount) > 50000\n",
    "ORDER BY total_spent DESC\n",
    "'''\n",
    "\n",
    "result = run_query(query)\n",
    "print(\"ลูกค้าที่มียอดสั่งซื้อรวมมากกว่า 50,000 บาท:\")\n",
    "display(result)"
   ]
  },
  {
   "cell_type": "markdown",
   "metadata": {},
   "source": [
    "## 5. การใช้ Subqueries (การใช้คำสั่ง SQL ซ้อนกัน)\n",
    "\n",
    "Subqueries คือการใช้คำสั่ง SQL ซ้อนกันภายในคำสั่ง SQL อื่น ซึ่งทำให้เราสามารถทำการวิเคราะห์ข้อมูลที่ซับซ้อนมากขึ้น"
   ]
  },
  {
   "cell_type": "code",
   "execution_count": null,
   "metadata": {},
   "outputs": [],
   "source": [
    "# ค้นหาสินค้าที่มีราคาสูงกว่าราคาเฉลี่ยของสินค้าทั้งหมด\n",
    "query = '''\n",
    "SELECT \n",
    "    product_id, \n",
    "    product_name, \n",
    "    category, \n",
    "    price\n",
    "FROM products\n",
    "WHERE price > (SELECT AVG(price) FROM products)\n",
    "ORDER BY price DESC\n",
    "'''\n",
    "\n",
    "result = run_query(query)\n",
    "print(\"สินค้าที่มีราคาสูงกว่าราคาเฉลี่ย:\")\n",
    "display(result)"
   ]
  },
  {
   "cell_type": "code",
   "execution_count": null,
   "metadata": {},
   "outputs": [],
   "source": [
    "# ค้นหาลูกค้าที่มีคำสั่งซื้อในเดือนล่าสุด\n",
    "query = '''\n",
    "SELECT \n",
    "    c.customer_id, \n",
    "    c.first_name, \n",
    "    c.last_name, \n",
    "    c.email, \n",
    "    c.city\n",
    "FROM customers c\n",
    "WHERE c.customer_id IN (\n",
    "    SELECT DISTINCT customer_id\n",
    "    FROM orders\n",
    "    WHERE order_date >= (SELECT MAX(order_date) FROM orders) - 30\n",
    ")\n",
    "ORDER BY c.customer_id\n",
    "'''\n",
    "\n",
    "result = run_query(query)\n",
    "print(\"ลูกค้าที่มีคำสั่งซื้อในเดือนล่าสุด:\")\n",
    "display(result)"
   ]
  },
  {
   "cell_type": "markdown",
   "metadata": {},
   "source": [
    "### 5.1 Correlated Subqueries\n",
    "\n",
    "Correlated Subqueries คือ subqueries ที่อ้างอิงไปยังตารางในคำสั่ง query ภายนอก"
   ]
  },
  {
   "cell_type": "code",
   "execution_count": null,
   "metadata": {},
   "outputs": [],
   "source": [
    "# ค้นหาคำสั่งซื้อที่มีมูลค่าสูงกว่าค่าเฉลี่ยของลูกค้ารายนั้น\n",
    "query = '''\n",
    "SELECT \n",
    "    o.order_id, \n",
    "    o.customer_id, \n",
    "    c.first_name, \n",
    "    c.last_name, \n",
    "    o.order_date, \n",
    "    o.total_amount\n",
    "FROM orders o\n",
    "JOIN customers c ON o.customer_id = c.customer_id\n",
    "WHERE o.total_amount > (\n",
    "    SELECT AVG(total_amount)\n",
    "    FROM orders\n",
    "    WHERE customer_id = o.customer_id\n",
    ")\n",
    "ORDER BY o.customer_id, o.order_date\n",
    "'''\n",
    "\n",
    "result = run_query(query)\n",
    "print(\"คำสั่งซื้อที่มีมูลค่าสูงกว่าค่าเฉลี่ยของลูกค้ารายนั้น:\")\n",
    "display(result)"
   ]
  },
  {
   "cell_type": "markdown",
   "metadata": {},
   "source": [
    "## 6. Common Table Expressions (CTEs)\n",
    "\n",
    "CTEs ช่วยให้เราสามารถสร้าง \"ตารางชั่วคราว\" เพื่อใช้ในการ query ที่ซับซ้อน ทำให้โค้ดอ่านง่ายขึ้นและลดความซับซ้อน"
   ]
  },
  {
   "cell_type": "code",
   "execution_count": null,
   "metadata": {},
   "outputs": [],
   "source": [
    "# ใช้ CTE เพื่อหาลูกค้าที่มียอดซื้อสูงที่สุด 3 อันดับแรก\n",
    "query = '''\n",
    "WITH CustomerSales AS (\n",
    "    SELECT \n",
    "        c.customer_id, \n",
    "        c.first_name, \n",
    "        c.last_name, \n",
    "        c.city, \n",
    "        SUM(o.total_amount) AS total_spent\n",
    "    FROM customers c\n",
    "    JOIN orders o ON c.customer_id = o.customer_id\n",
    "    GROUP BY c.customer_id, c.first_name, c.last_name, c.city\n",
    ")\n",
    "SELECT *\n",
    "FROM CustomerSales\n",
    "ORDER BY total_spent DESC\n",
    "LIMIT 3\n",
    "'''\n",
    "\n",
    "result = run_query(query)\n",
    "print(\"ลูกค้าที่มียอดซื้อสูงที่สุด 3 อันดับแรก:\")\n",
    "display(result)"
   ]
  },
  {
   "cell_type": "code",
   "execution_count": null,
   "metadata": {},
   "outputs": [],
   "source": [
    "# ใช้หลาย CTEs เพื่อวิเคราะห์ข้อมูลที่ซับซ้อน\n",
    "query = '''\n",
    "WITH MonthlySales AS (\n",
    "    SELECT \n",
    "        strftime('%Y-%m', order_date) AS month,\n",
    "        SUM(total_amount) AS monthly_total\n",
    "    FROM orders\n",
    "    GROUP BY month\n",
    "),\n",
    "CategorySales AS (\n",
    "    SELECT \n",
    "        strftime('%Y-%m', o.order_date) AS month,\n",
    "        p.category,\n",
    "        SUM(oi.quantity * oi.unit_price) AS category_total\n",
    "    FROM orders o\n",
    "    JOIN order_items oi ON o.order_id = oi.order_id\n",
    "    JOIN products p ON oi.product_id = p.product_id\n",
    "    GROUP BY month, p.category\n",
    ")\n",
    "SELECT \n",
    "    cs.month, \n",
    "    cs.category, \n",
    "    cs.category_total,\n",
    "    ms.monthly_total,\n",
    "    ROUND(cs.category_total * 100.0 / ms.monthly_total, 2) AS percentage\n",
    "FROM CategorySales cs\n",
    "JOIN MonthlySales ms ON cs.month = ms.month\n",
    "ORDER BY cs.month, percentage DESC\n",
    "'''\n",
    "\n",
    "result = run_query(query)\n",
    "print(\"สัดส่วนยอดขายตามหมวดหมู่สินค้าในแต่ละเดือน:\")\n",
    "display(result)"
   ]
  },
  {
   "cell_type": "markdown",
   "metadata": {},
   "source": [
    "## 7. การสร้างวิว (Views)\n",
    "\n",
    "วิว (View) คือคำสั่ง SELECT ที่ถูกเก็บไว้ในฐานข้อมูลเพื่อใช้งานซ้ำ ช่วยให้เราสามารถเข้าถึงข้อมูลที่ซับซ้อนได้อย่างสะดวก"
   ]
  },
  {
   "cell_type": "code",
   "execution_count": null,
   "metadata": {},
   "outputs": [],
   "source": [
    "# สร้างวิวสำหรับข้อมูลลูกค้าและยอดซื้อ\n",
    "cursor.execute('''\n",
    "CREATE VIEW customer_sales_summary AS\n",
    "SELECT \n",
    "    c.customer_id, \n",
    "    c.first_name, \n",
    "    c.last_name, \n",
    "    c.city, \n",
    "    COUNT(o.order_id) AS order_count,\n",
    "    SUM(o.total_amount) AS total_spent,\n",
    "    AVG(o.total_amount) AS avg_order_value,\n",
    "    MAX(o.order_date) AS last_order_date\n",
    "FROM customers c\n",
    "LEFT JOIN orders o ON c.customer_id = o.customer_id\n",
    "GROUP BY c.customer_id, c.first_name, c.last_name, c.city\n",
    "''')\n",
    "\n",
    "print(\"สร้างวิว customer_sales_summary เรียบร้อยแล้ว\")\n",
    "\n",
    "# ใช้วิวที่สร้างขึ้น\n",
    "result = run_query(\"SELECT * FROM customer_sales_summary ORDER BY total_spent DESC\")\n",
    "print(\"\\nข้อมูลจากวิว customer_sales_summary:\")\n",
    "display(result)"
   ]
  },
  {
   "cell_type": "markdown",
   "metadata": {},
   "source": [
    "## 8. การใช้ Window Functions\n",
    "\n",
    "Window Functions เป็นฟังก์ชันที่ทำงานบน \"หน้าต่าง\" (window) ของแถวที่เกี่ยวข้องกับแถวปัจจุบัน ใช้สำหรับการวิเคราะห์ข้อมูลขั้นสูง"
   ]
  },
  {
   "cell_type": "code",
   "execution_count": null,
   "metadata": {},
   "outputs": [],
   "source": [
    "# ใช้ Window Function เพื่อคำนวณอันดับของลูกค้าตามยอดซื้อ\n",
    "query = '''\n",
    "SELECT \n",
    "    customer_id, \n",
    "    first_name, \n",
    "    last_name, \n",
    "    city, \n",
    "    total_spent,\n",
    "    RANK() OVER (ORDER BY total_spent DESC) AS sales_rank\n",
    "FROM customer_sales_summary\n",
    "WHERE total_spent > 0\n",
    "'''\n",
    "\n",
    "result = run_query(query)\n",
    "print(\"อันดับของลูกค้าตามยอดซื้อ:\")\n",
    "display(result)"
   ]
  },
  {
   "cell_type": "code",
   "execution_count": null,
   "metadata": {},
   "outputs": [],
   "source": [
    "# ใช้ Window Function เพื่อหายอดขายสะสมตามเวลา\n",
    "query = '''\n",
    "SELECT \n",
    "    order_date, \n",
    "    total_amount,\n",
    "    SUM(total_amount) OVER (ORDER BY order_date) AS running_total\n",
    "FROM orders\n",
    "ORDER BY order_date\n",
    "'''\n",
    "\n",
    "result = run_query(query)\n",
    "print(\"ยอดขายสะสมตามเวลา:\")\n",
    "display(result)\n",
    "\n",
    "# สร้างกราฟแสดงยอดขายสะสมตามเวลา\n",
    "plt.figure(figsize=(12, 6))\n",
    "plt.plot(result['order_date'], result['running_total'], marker='o', linestyle='-', color='blue')\n",
    "plt.title('ยอดขายสะสมตามเวลา')\n",
    "plt.xlabel('วันที่')\n",
    "plt.ylabel('ยอดขายสะสม (บาท)')\n",
    "plt.grid(True, linestyle='--', alpha=0.7)\n",
    "plt.xticks(rotation=45)\n",
    "plt.tight_layout()\n",
    "plt.show()"
   ]
  },
  {
   "cell_type": "markdown",
   "metadata": {},
   "source": [
    "## 9. แบบฝึกหัด: การวิเคราะห์ข้อมูลด้วย SQL\n",
    "\n",
    "ให้ใช้ความรู้เกี่ยวกับ SQL ที่ได้เรียนมาเพื่อทำการวิเคราะห์ข้อมูลต่อไปนี้:"
   ]
  },
  {
   "cell_type": "markdown",
   "metadata": {},
   "source": [
    "### แบบฝึกหัดที่ 1: รายงานยอดขายรายเดือน\n",
    "\n",
    "สร้างรายงานแสดงยอดขายรายเดือน จำนวนคำสั่งซื้อ และมูลค่าเฉลี่ยต่อคำสั่งซื้อ เรียงตามเดือน"
   ]
  },
  {
   "cell_type": "code",
   "execution_count": null,
   "metadata": {},
   "outputs": [],
   "source": [
    "# เพิ่มโค้ดของคุณที่นี่\n",
    "query = '''\n",
    "-- เขียนคำสั่ง SQL ของคุณที่นี่\n",
    "'''\n",
    "\n",
    "result = run_query(query)\n",
    "print(\"รายงานยอดขายรายเดือน:\")\n",
    "display(result)\n",
    "\n",
    "# สร้างกราฟแสดงผล (ถ้าต้องการ)"
   ]
  },
  {
   "cell_type": "markdown",
   "metadata": {},
   "source": [
    "### แบบฝึกหัดที่ 2: ค้นหาสินค้าขายดี\n",
    "\n",
    "ค้นหาสินค้า 5 อันดับแรกที่มียอดขายสูงสุด (จำนวนชิ้น × ราคาต่อชิ้น) พร้อมแสดงหมวดหมู่และจำนวนที่ขายได้"
   ]
  },
  {
   "cell_type": "code",
   "execution_count": null,
   "metadata": {},
   "outputs": [],
   "source": [
    "# เพิ่มโค้ดของคุณที่นี่\n",
    "query = '''\n",
    "-- เขียนคำสั่ง SQL ของคุณที่นี่\n",
    "'''\n",
    "\n",
    "result = run_query(query)\n",
    "print(\"สินค้า 5 อันดับแรกที่มียอดขายสูงสุด:\")\n",
    "display(result)\n",
    "\n",
    "# สร้างกราฟแสดงผล (ถ้าต้องการ)"
   ]
  },
  {
   "cell_type": "markdown",
   "metadata": {},
   "source": [
    "### แบบฝึกหัดที่ 3: ค้นหาลูกค้าที่ไม่มีคำสั่งซื้อในช่วง 30 วันล่าสุด\n",
    "\n",
    "ค้นหารายชื่อลูกค้าที่ไม่มีคำสั่งซื้อในช่วง 30 วันล่าสุด เรียงตามวันที่สั่งซื้อล่าสุด (จากเก่าสุดไปใหม่สุด)"
   ]
  },
  {
   "cell_type": "code",
   "execution_count": null,
   "metadata": {},
   "outputs": [],
   "source": [
    "# เพิ่มโค้ดของคุณที่นี่\n",
    "query = '''\n",
    "-- เขียนคำสั่ง SQL ของคุณที่นี่\n",
    "'''\n",
    "\n",
    "result = run_query(query)\n",
    "print(\"ลูกค้าที่ไม่มีคำสั่งซื้อในช่วง 30 วันล่าสุด:\")\n",
    "display(result)"
   ]
  },
  {
   "cell_type": "markdown",
   "metadata": {},
   "source": [
    "### แบบฝึกหัดที่ 4: วิเคราะห์ยอดขายตามเมืองและหมวดหมู่สินค้า\n",
    "\n",
    "สร้างรายงานแสดงยอดขายตามเมืองและหมวดหมู่สินค้า เพื่อวิเคราะห์ว่าลูกค้าในแต่ละเมืองมีความสนใจในสินค้าหมวดหมู่ใดบ้าง"
   ]
  },
  {
   "cell_type": "code",
   "execution_count": null,
   "metadata": {},
   "outputs": [],
   "source": [
    "# เพิ่มโค้ดของคุณที่นี่\n",
    "query = '''\n",
    "-- เขียนคำสั่ง SQL ของคุณที่นี่\n",
    "'''\n",
    "\n",
    "result = run_query(query)\n",
    "print(\"ยอดขายตามเมืองและหมวดหมู่สินค้า:\")\n",
    "display(result)\n",
    "\n",
    "# สร้างกราฟแสดงผล (ถ้าต้องการ)"
   ]
  },
  {
   "cell_type": "markdown",
   "metadata": {},
   "source": [
    "## 10. สรุป\n",
    "\n",
    "ในบทนี้ เราได้เรียนรู้เกี่ยวกับ SQL เชิงลึกสำหรับการวิเคราะห์ข้อมูล ซึ่งรวมถึง:\n",
    "\n",
    "1. **การใช้ JOIN เพื่อเชื่อมตาราง** - เรียนรู้วิธีการรวมข้อมูลจากหลายตารางด้วย INNER JOIN, LEFT JOIN และการเชื่อมตารางมากกว่า 2 ตาราง\n",
    "\n",
    "2. **ฟังก์ชัน Aggregation** - เรียนรู้การใช้ฟังก์ชัน SUM, AVG, COUNT, MIN, MAX และการใช้ GROUP BY และ HAVING\n",
    "\n",
    "3. **Subqueries** - เรียนรู้การใช้คำสั่ง SQL ซ้อนกันเพื่อวิเคราะห์ข้อมูลที่ซับซ้อน\n",
    "\n",
    "4. **Common Table Expressions (CTEs)** - เรียนรู้การสร้าง \"ตารางชั่วคราว\" เพื่อใช้ในการ query ที่ซับซ้อน\n",
    "\n",
    "5. **การสร้างวิว (Views)** - เรียนรู้การสร้างวิวเพื่อใช้งานคำสั่ง SQL ซ้ำ\n",
    "\n",
    "6. **Window Functions** - เรียนรู้การใช้ฟังก์ชันที่ทำงานบน \"หน้าต่าง\" ของแถวที่เกี่ยวข้องกับแถวปัจจุบัน\n",
    "\n",
    "ทักษะเหล่านี้เป็นพื้นฐานสำคัญสำหรับการวิเคราะห์ข้อมูลในโปรเจ็กต์ Data Science และ Data Analysis และช่วยให้สามารถดึงข้อมูลที่ต้องการจากฐานข้อมูลได้อย่างมีประสิทธิภาพ"
   ]
  }
 ],
 "metadata": {
  "kernelspec": {
   "display_name": "Python 3 (ipykernel)",
   "language": "python",
   "name": "python3"
  },
  "language_info": {
   "codemirror_mode": {
    "name": "ipython",
    "version": 3
   },
   "file_extension": ".py",
   "mimetype": "text/x-python",
   "name": "python",
   "nbconvert_exporter": "python",
   "pygments_lexer": "ipython3",
   "version": "3.10.16"
  }
 },
 "nbformat": 4,
 "nbformat_minor": 4
}