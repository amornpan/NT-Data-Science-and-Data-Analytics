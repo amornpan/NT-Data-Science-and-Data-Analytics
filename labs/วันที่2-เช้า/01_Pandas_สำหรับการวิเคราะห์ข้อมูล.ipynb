{
 "cells": [
  {
   "cell_type": "markdown",
   "metadata": {},
   "source": [
    "# การใช้ Pandas สำหรับการวิเคราะห์ข้อมูล\n",
    "\n",
    "## วัตถุประสงค์การเรียนรู้\n",
    "- เข้าใจความสามารถของ Pandas ในการจัดการข้อมูล\n",
    "- สามารถนำเข้าข้อมูลจากหลายรูปแบบ (CSV, Excel)\n",
    "- สามารถจัดการและทำความสะอาดข้อมูล\n",
    "- สามารถทำการ filter และ transform ข้อมูล"
   ]
  },
  {
   "cell_type": "markdown",
   "metadata": {},
   "source": [
    "## 1. แนะนำ Pandas\n",
    "\n",
    "Pandas เป็นไลบรารีที่ทรงพลังสำหรับการวิเคราะห์ข้อมูลใน Python โดยมีโครงสร้างข้อมูลหลัก 2 แบบ:\n",
    "\n",
    "1. **Series** - อาร์เรย์ 1 มิติที่มีดัชนี\n",
    "2. **DataFrame** - ตารางข้อมูล 2 มิติที่มีแถวและคอลัมน์ (คล้ายกับตารางใน Excel หรือตารางใน SQL)\n",
    "\n",
    "ก่อนเริ่มต้นใช้งาน เราต้องนำเข้าไลบรารี Pandas:"
   ]
  },
  {
   "cell_type": "code",
   "execution_count": null,
   "metadata": {},
   "outputs": [],
   "source": [
    "# นำเข้าไลบรารี\n",
    "import pandas as pd\n",
    "import numpy as np\n",
    "\n",
    "# ตรวจสอบเวอร์ชัน\n",
    "print(f\"Pandas version: {pd.__version__}\")\n",
    "print(f\"NumPy version: {np.__version__}\")"
   ]
  },
  {
   "cell_type": "markdown",
   "metadata": {},
   "source": [
    "## 2. การสร้าง DataFrame\n",
    "\n",
    "มีหลายวิธีในการสร้าง DataFrame:"
   ]
  },
  {
   "cell_type": "code",
   "execution_count": null,
   "metadata": {},
   "outputs": [],
   "source": [
    "# การสร้าง DataFrame จากดิกชันนารี\n",
    "data = {\n",
    "    'name': ['Alice', 'Bob', 'Charlie', 'David', 'Emma'],\n",
    "    'age': [25, 30, 35, 40, 45],\n",
    "    'city': ['Bangkok', 'Chiang Mai', 'Phuket', 'Bangkok', 'Khon Kaen'],\n",
    "    'salary': [30000, 40000, 50000, 60000, 70000]\n",
    "}\n",
    "\n",
    "df = pd.DataFrame(data)\n",
    "print(\"DataFrame จากดิกชันนารี:\")\n",
    "display(df)"
   ]
  },
  {
   "cell_type": "code",
   "execution_count": null,
   "metadata": {},
   "outputs": [],
   "source": [
    "# การสร้าง DataFrame จากลิสต์ของลิสต์\n",
    "data_list = [\n",
    "    ['Alice', 25, 'Bangkok', 30000],\n",
    "    ['Bob', 30, 'Chiang Mai', 40000],\n",
    "    ['Charlie', 35, 'Phuket', 50000],\n",
    "    ['David', 40, 'Bangkok', 60000],\n",
    "    ['Emma', 45, 'Khon Kaen', 70000]\n",
    "]\n",
    "\n",
    "df_from_list = pd.DataFrame(data_list, columns=['name', 'age', 'city', 'salary'])\n",
    "print(\"\\nDataFrame จากลิสต์ของลิสต์:\")\n",
    "display(df_from_list)"
   ]
  },
  {
   "cell_type": "markdown",
   "metadata": {},
   "source": [
    "## 3. การนำเข้าข้อมูลจากไฟล์\n",
    "\n",
    "Pandas สามารถอ่านข้อมูลจากหลายรูปแบบไฟล์ เช่น CSV, Excel, JSON, SQL และอื่น ๆ\n",
    "\n",
    "### 3.1 การอ่านไฟล์ CSV"
   ]
  },
  {
   "cell_type": "code",
   "execution_count": null,
   "metadata": {},
   "outputs": [],
   "source": [
    "# สร้างไฟล์ CSV ตัวอย่าง\n",
    "df.to_csv('sample_data.csv', index=False)\n",
    "\n",
    "# อ่านไฟล์ CSV\n",
    "df_csv = pd.read_csv('sample_data.csv')\n",
    "print(\"DataFrame จากไฟล์ CSV:\")\n",
    "display(df_csv)"
   ]
  },
  {
   "cell_type": "markdown",
   "metadata": {},
   "source": [
    "### 3.2 การอ่านไฟล์ Excel\n",
    "\n",
    "ในการอ่านไฟล์ Excel เราต้องใช้ไลบรารี openpyxl หรือ xlrd"
   ]
  },
  {
   "cell_type": "code",
   "execution_count": null,
   "metadata": {},
   "outputs": [],
   "source": [
    "# สร้างไฟล์ Excel ตัวอย่าง\n",
    "df.to_excel('sample_data.xlsx', index=False)\n",
    "\n",
    "# อ่านไฟล์ Excel\n",
    "try:\n",
    "    df_excel = pd.read_excel('sample_data.xlsx')\n",
    "    print(\"DataFrame จากไฟล์ Excel:\")\n",
    "    display(df_excel)\n",
    "except ImportError:\n",
    "    print(\"คุณต้องติดตั้งไลบรารี openpyxl หรือ xlrd ก่อน:\")\n",
    "    print(\"!pip install openpyxl\")"
   ]
  },
  {
   "cell_type": "markdown",
   "metadata": {},
   "source": [
    "## 4. การสำรวจข้อมูล\n",
    "\n",
    "หลังจากที่เรามีข้อมูลใน DataFrame แล้ว เราสามารถสำรวจข้อมูลได้ด้วยเมธอดต่าง ๆ:"
   ]
  },
  {
   "cell_type": "code",
   "execution_count": null,
   "metadata": {},
   "outputs": [],
   "source": [
    "# ดูข้อมูลสรุปของ DataFrame\n",
    "print(\"\\nข้อมูลสรุป:\")\n",
    "display(df.info())\n",
    "\n",
    "# ดูสถิติพื้นฐานของข้อมูลตัวเลข\n",
    "print(\"\\nสถิติพื้นฐาน:\")\n",
    "display(df.describe())\n",
    "\n",
    "# ดูข้อมูลส่วนหัว (แถวแรก ๆ)\n",
    "print(\"\\nข้อมูล 3 แถวแรก:\")\n",
    "display(df.head(3))\n",
    "\n",
    "# ดูข้อมูลส่วนท้าย (แถวสุดท้าย)\n",
    "print(\"\\nข้อมูล 2 แถวสุดท้าย:\")\n",
    "display(df.tail(2))"
   ]
  },
  {
   "cell_type": "markdown",
   "metadata": {},
   "source": [
    "## 5. การเข้าถึงข้อมูล\n",
    "\n",
    "เราสามารถเข้าถึงข้อมูลได้หลายวิธี:"
   ]
  },
  {
   "cell_type": "code",
   "execution_count": null,
   "metadata": {},
   "outputs": [],
   "source": [
    "# เข้าถึงคอลัมน์\n",
    "print(\"คอลัมน์ 'name':\")\n",
    "display(df['name'])\n",
    "\n",
    "# เข้าถึงหลายคอลัมน์\n",
    "print(\"\\nคอลัมน์ 'name' และ 'age':\")\n",
    "display(df[['name', 'age']])\n",
    "\n",
    "# เข้าถึงแถวด้วย .loc (ใช้ label)\n",
    "print(\"\\nแถวที่ 2:\")\n",
    "display(df.loc[2])\n",
    "\n",
    "# เข้าถึงแถวด้วย .iloc (ใช้ position)\n",
    "print(\"\\nแถวที่ 3 และคอลัมน์ที่ 0 และ 2:\")\n",
    "display(df.iloc[3, [0, 2]])"
   ]
  },
  {
   "cell_type": "markdown",
   "metadata": {},
   "source": [
    "## 6. การกรองข้อมูล (Filtering)\n",
    "\n",
    "เราสามารถกรองข้อมูลได้โดยการใช้เงื่อนไข:"
   ]
  },
  {
   "cell_type": "code",
   "execution_count": null,
   "metadata": {},
   "outputs": [],
   "source": [
    "# กรองข้อมูลด้วยเงื่อนไขเดียว\n",
    "print(\"คนที่มีอายุมากกว่า 30:\")\n",
    "display(df[df['age'] > 30])\n",
    "\n",
    "# กรองข้อมูลด้วยหลายเงื่อนไข\n",
    "print(\"\\nคนที่มีอายุมากกว่า 30 และอาศัยอยู่ในกรุงเทพฯ:\")\n",
    "display(df[(df['age'] > 30) & (df['city'] == 'Bangkok')])\n",
    "\n",
    "# การใช้ .isin() เพื่อกรองด้วยค่าหลายค่า\n",
    "print(\"\\nคนที่อาศัยอยู่ในกรุงเทพฯ หรือ เชียงใหม่:\")\n",
    "display(df[df['city'].isin(['Bangkok', 'Chiang Mai'])])"
   ]
  },
  {
   "cell_type": "markdown",
   "metadata": {},
   "source": [
    "## 7. การจัดเรียงข้อมูล (Sorting)"
   ]
  },
  {
   "cell_type": "code",
   "execution_count": null,
   "metadata": {},
   "outputs": [],
   "source": [
    "# จัดเรียงตามคอลัมน์เดียว\n",
    "print(\"จัดเรียงตามอายุ (น้อยไปมาก):\")\n",
    "display(df.sort_values('age'))\n",
    "\n",
    "# จัดเรียงตามหลายคอลัมน์\n",
    "print(\"\\nจัดเรียงตามเมืองและเงินเดือน (จากมากไปน้อย):\")\n",
    "display(df.sort_values(['city', 'salary'], ascending=[True, False]))"
   ]
  },
  {
   "cell_type": "markdown",
   "metadata": {},
   "source": [
    "## 8. การแปลงข้อมูล (Transforming)\n",
    "\n",
    "### 8.1 การเพิ่มคอลัมน์ใหม่"
   ]
  },
  {
   "cell_type": "code",
   "execution_count": null,
   "metadata": {},
   "outputs": [],
   "source": [
    "# เพิ่มคอลัมน์ใหม่\n",
    "df['salary_usd'] = df['salary'] / 35  # สมมติอัตราแลกเปลี่ยน 1 USD = 35 THB\n",
    "df['age_group'] = pd.cut(df['age'], bins=[20, 30, 40, 50], labels=['20-30', '31-40', '41-50'])\n",
    "display(df)"
   ]
  },
  {
   "cell_type": "markdown",
   "metadata": {},
   "source": [
    "### 8.2 การใช้ apply() เพื่อปรับเปลี่ยนข้อมูล"
   ]
  },
  {
   "cell_type": "code",
   "execution_count": null,
   "metadata": {},
   "outputs": [],
   "source": [
    "# การใช้ apply() กับคอลัมน์\n",
    "def get_first_name(name):\n",
    "    return name.split()[0]  # แยกชื่อและนามสกุล (ถ้ามี) และเลือกเฉพาะชื่อ\n",
    "\n",
    "df['first_name'] = df['name'].apply(get_first_name)\n",
    "display(df)"
   ]
  },
  {
   "cell_type": "markdown",
   "metadata": {},
   "source": [
    "## 9. การจัดการกับข้อมูลที่หายไป (Missing Values)"
   ]
  },
  {
   "cell_type": "code",
   "execution_count": null,
   "metadata": {},
   "outputs": [],
   "source": [
    "# สร้าง DataFrame ที่มีข้อมูลหายไป\n",
    "df_missing = pd.DataFrame({\n",
    "    'A': [1, 2, np.nan, 4],\n",
    "    'B': [5, np.nan, np.nan, 8],\n",
    "    'C': [9, 10, 11, 12]\n",
    "})\n",
    "\n",
    "print(\"DataFrame ที่มีข้อมูลหายไป:\")\n",
    "display(df_missing)\n",
    "\n",
    "# ตรวจสอบข้อมูลที่หายไป\n",
    "print(\"\\nตรวจสอบข้อมูลที่หายไป:\")\n",
    "display(df_missing.isnull())\n",
    "print(f\"จำนวนค่าที่หายไปในแต่ละคอลัมน์:\\n{df_missing.isnull().sum()}\")\n",
    "\n",
    "# แทนที่ข้อมูลที่หายไปด้วยค่าเฉลี่ย\n",
    "df_filled = df_missing.fillna(df_missing.mean())\n",
    "print(\"\\nDataFrame หลังจากแทนที่ข้อมูลที่หายไปด้วยค่าเฉลี่ย:\")\n",
    "display(df_filled)\n",
    "\n",
    "# ลบแถวที่มีข้อมูลหายไป\n",
    "df_dropped = df_missing.dropna()\n",
    "print(\"\\nDataFrame หลังจากลบแถวที่มีข้อมูลหายไป:\")\n",
    "display(df_dropped)"
   ]
  },
  {
   "cell_type": "markdown",
   "metadata": {},
   "source": [
    "## 10. การจัดกลุ่มและรวมข้อมูล (Grouping and Aggregation)"
   ]
  },
  {
   "cell_type": "code",
   "execution_count": null,
   "metadata": {},
   "outputs": [],
   "source": [
    "# จัดกลุ่มตามเมือง\n",
    "city_group = df.groupby('city')\n",
    "\n",
    "# หาค่าเฉลี่ยของอายุและเงินเดือนในแต่ละกลุ่ม\n",
    "print(\"ค่าเฉลี่ยของอายุและเงินเดือนตามเมือง:\")\n",
    "display(city_group[['age', 'salary']].mean())\n",
    "\n",
    "# หาหลายค่าสถิติพร้อมกัน\n",
    "print(\"\\nค่าสถิติหลายค่าสำหรับเงินเดือนตามเมือง:\")\n",
    "display(city_group['salary'].agg(['min', 'max', 'mean', 'count']))\n",
    "\n",
    "# จัดกลุ่มตามหลายคอลัมน์\n",
    "print(\"\\nเงินเดือนเฉลี่ยตามเมืองและกลุ่มอายุ:\")\n",
    "display(df.groupby(['city', 'age_group'])['salary'].mean())"
   ]
  },
  {
   "cell_type": "markdown",
   "metadata": {},
   "source": [
    "## 11. การ Join/Merge DataFrames\n",
    "\n",
    "การรวม DataFrames ทำได้คล้ายกับการ JOIN ในตาราง SQL"
   ]
  },
  {
   "cell_type": "code",
   "execution_count": null,
   "metadata": {},
   "outputs": [],
   "source": [
    "# สร้าง DataFrame เพิ่มเติม\n",
    "df_departments = pd.DataFrame({\n",
    "    'name': ['Alice', 'Bob', 'Charlie', 'David', 'Frank'],\n",
    "    'department': ['IT', 'Marketing', 'Finance', 'HR', 'IT']\n",
    "})\n",
    "\n",
    "print(\"DataFrame ตั้งต้น:\")\n",
    "display(df[['name', 'salary']])\n",
    "\n",
    "print(\"\\nDataFrame แผนก:\")\n",
    "display(df_departments)\n",
    "\n",
    "# Inner Join\n",
    "print(\"\\nInner Join:\")\n",
    "inner_join = pd.merge(df[['name', 'salary']], df_departments, on='name', how='inner')\n",
    "display(inner_join)\n",
    "\n",
    "# Left Join\n",
    "print(\"\\nLeft Join:\")\n",
    "left_join = pd.merge(df[['name', 'salary']], df_departments, on='name', how='left')\n",
    "display(left_join)\n",
    "\n",
    "# Right Join\n",
    "print(\"\\nRight Join:\")\n",
    "right_join = pd.merge(df[['name', 'salary']], df_departments, on='name', how='right')\n",
    "display(right_join)"
   ]
  },
  {
   "cell_type": "markdown",
   "metadata": {},
   "source": [
    "## 12. การปรับเปลี่ยนรูปแบบข้อมูล (Reshaping)\n",
    "\n",
    "### 12.1 Pivot Table"
   ]
  },
  {
   "cell_type": "code",
   "execution_count": null,
   "metadata": {},
   "outputs": [],
   "source": [
    "# สร้างข้อมูลสำหรับการทำ pivot\n",
    "df_sales = pd.DataFrame({\n",
    "    'date': ['2025-01-01', '2025-01-01', '2025-01-02', '2025-01-02', '2025-01-03', '2025-01-03'],\n",
    "    'product': ['A', 'B', 'A', 'B', 'A', 'B'],\n",
    "    'sales': [100, 150, 200, 250, 300, 350]\n",
    "})\n",
    "\n",
    "print(\"ข้อมูลยอดขาย:\")\n",
    "display(df_sales)\n",
    "\n",
    "# สร้าง pivot table\n",
    "pivot = df_sales.pivot_table(index='date', columns='product', values='sales')\n",
    "print(\"\\nPivot Table:\")\n",
    "display(pivot)"
   ]
  },
  {
   "cell_type": "markdown",
   "metadata": {},
   "source": [
    "### 12.2 Melt (Unpivot)"
   ]
  },
  {
   "cell_type": "code",
   "execution_count": null,
   "metadata": {},
   "outputs": [],
   "source": [
    "# Melt (ทำ unpivot)\n",
    "melted = pd.melt(pivot.reset_index(), id_vars='date', var_name='product', value_name='sales')\n",
    "print(\"Melted (Unpivoted) Data:\")\n",
    "display(melted)"
   ]
  },
  {
   "cell_type": "markdown",
   "metadata": {},
   "source": [
    "## 13. การบันทึกข้อมูล\n",
    "\n",
    "Pandas สามารถบันทึกข้อมูลในหลายรูปแบบ:"
   ]
  },
  {
   "cell_type": "code",
   "execution_count": null,
   "metadata": {},
   "outputs": [],
   "source": [
    "# บันทึกเป็น CSV\n",
    "df.to_csv('output_data.csv', index=False)\n",
    "print(\"บันทึกเป็น CSV เรียบร้อยแล้ว\")\n",
    "\n",
    "# บันทึกเป็น Excel\n",
    "try:\n",
    "    df.to_excel('output_data.xlsx', index=False)\n",
    "    print(\"บันทึกเป็น Excel เรียบร้อยแล้ว\")\n",
    "except ImportError:\n",
    "    print(\"คุณต้องติดตั้งไลบรารี openpyxl ก่อน:\")\n",
    "    print(\"!pip install openpyxl\")"
   ]
  },
  {
   "cell_type": "markdown",
   "metadata": {},
   "source": [
    "## แบบฝึกหัด\n",
    "\n",
    "ให้ทำแบบฝึกหัดต่อไปนี้เพื่อทดสอบความเข้าใจ:"
   ]
  },
  {
   "cell_type": "markdown",
   "metadata": {},
   "source": [
    "### แบบฝึกหัดที่ 1: นำเข้าและวิเคราะห์ข้อมูลยอดขาย\n",
    "\n",
    "ในแบบฝึกหัดนี้ เราจะสร้างข้อมูลยอดขายจำลองและทำการวิเคราะห์ข้อมูล"
   ]
  },
  {
   "cell_type": "code",
   "execution_count": null,
   "metadata": {},
   "outputs": [],
   "source": [
    "# สร้างข้อมูลจำลอง\n",
    "np.random.seed(42)\n",
    "dates = pd.date_range(start='2024-01-01', end='2024-12-31', freq='D')\n",
    "products = ['ProductA', 'ProductB', 'ProductC', 'ProductD']\n",
    "regions = ['North', 'South', 'East', 'West', 'Central']\n",
    "\n",
    "data = []\n",
    "for date in dates:\n",
    "    for product in products:\n",
    "        for region in regions:\n",
    "            # สร้างยอดขายจำลอง\n",
    "            base_sales = 100 if product in ['ProductA', 'ProductB'] else 50\n",
    "            season_factor = 1.5 if date.month in [6, 7, 8, 12] else 1.0  # ขายดีในช่วงฤดูร้อนและเทศกาลปีใหม่\n",
    "            region_factor = 1.2 if region in ['Central', 'North'] else 0.9\n",
    "            random_factor = np.random.uniform(0.8, 1.2)\n",
    "            \n",
    "            sales = int(base_sales * season_factor * region_factor * random_factor)\n",
    "            \n",
    "            data.append([date, product, region, sales])\n",
    "\n",
    "# สร้าง DataFrame\n",
    "sales_df = pd.DataFrame(data, columns=['date', 'product', 'region', 'sales'])\n",
    "\n",
    "# บันทึกเป็น CSV เพื่อใช้ในการฝึก\n",
    "sales_df.to_csv('sales_data.csv', index=False)\n",
    "\n",
    "# แสดงข้อมูลตัวอย่าง\n",
    "print(\"ข้อมูลยอดขายจำลอง (5 แถวแรก):\")\n",
    "display(sales_df.head())"
   ]
  },
  {
   "cell_type": "markdown",
   "metadata": {},
   "source": [
    "คำถาม:\n",
    "\n",
    "1. อ่านข้อมูลจากไฟล์ 'sales_data.csv' และตรวจสอบโครงสร้างข้อมูล (ประเภทข้อมูล, จำนวนแถว, จำนวนคอลัมน์)\n",
    "2. แปลงคอลัมน์ 'date' ให้เป็นประเภท datetime\n",
    "3. สร้างคอลัมน์ใหม่ 'month', 'quarter', และ 'year' จากคอลัมน์ 'date'\n",
    "4. หายอดขายรวมและยอดขายเฉลี่ยตามผลิตภัณฑ์\n",
    "5. หายอดขายรวมตามภูมิภาคและไตรมาส\n",
    "6. สร้าง pivot table ที่แสดงยอดขายรวมตามผลิตภัณฑ์ (แถว) และเดือน (คอลัมน์)\n",
    "7. คำนวณยอดขายเฉลี่ยต่อวันตามผลิตภัณฑ์และภูมิภาค\n",
    "8. หาผลิตภัณฑ์ที่มียอดขายสูงสุดในแต่ละภูมิภาค"
   ]
  },
  {
   "cell_type": "code",
   "execution_count": null,
   "metadata": {},
   "outputs": [],
   "source": [
    "# เพิ่มโค้ดของคุณที่นี่\n",
    "\n",
    "# 1. อ่านข้อมูลจากไฟล์ 'sales_data.csv' และตรวจสอบโครงสร้างข้อมูล\n",
    "\n",
    "\n",
    "# 2. แปลงคอลัมน์ 'date' ให้เป็นประเภท datetime\n",
    "\n",
    "\n",
    "# 3. สร้างคอลัมน์ใหม่ 'month', 'quarter', และ 'year' จากคอลัมน์ 'date'\n",
    "\n",
    "\n",
    "# 4. หายอดขายรวมและยอดขายเฉลี่ยตามผลิตภัณฑ์\n",
    "\n",
    "\n",
    "# 5. หายอดขายรวมตามภูมิภาคและไตรมาส\n",
    "\n",
    "\n",
    "# 6. สร้าง pivot table ที่แสดงยอดขายรวมตามผลิตภัณฑ์ (แถว) และเดือน (คอลัมน์)\n",
    "\n",
    "\n",
    "# 7. คำนวณยอดขายเฉลี่ยต่อวันตามผลิตภัณฑ์และภูมิภาค\n",
    "\n",
    "\n",
    "# 8. หาผลิตภัณฑ์ที่มียอดขายสูงสุดในแต่ละภูมิภาค\n"
   ]
  },
  {
   "cell_type": "markdown",
   "metadata": {},
   "source": [
    "### แบบฝึกหัดที่ 2: การจัดการข้อมูลที่หายไปและการสร้างเงื่อนไข\n",
    "\n",
    "ในแบบฝึกหัดนี้ เราจะฝึกการจัดการกับข้อมูลที่หายไปและการสร้างเงื่อนไขต่าง ๆ"
   ]
  },
  {
   "cell_type": "code",
   "execution_count": null,
   "metadata": {},
   "outputs": [],
   "source": [
    "# สร้างข้อมูลจำลองที่มีค่า missing\n",
    "np.random.seed(42)\n",
    "data = {\n",
    "    'customer_id': range(1, 21),\n",
    "    'name': ['Customer' + str(i) for i in range(1, 21)],\n",
    "    'age': np.random.randint(18, 70, 20),\n",
    "    'income': np.random.randint(15000, 100000, 20),\n",
    "    'purchase_amount': np.random.randint(100, 10000, 20),\n",
    "    'loyalty_points': np.random.randint(0, 1000, 20)\n",
    "}\n",
    "\n",
    "# สร้าง DataFrame\n",
    "customers_df = pd.DataFrame(data)\n",
    "\n",
    "# สร้างข้อมูล missing ใน DataFrame\n",
    "customers_df.loc[np.random.choice(customers_df.index, 4, replace=False), 'age'] = np.nan\n",
    "customers_df.loc[np.random.choice(customers_df.index, 5, replace=False), 'income'] = np.nan\n",
    "customers_df.loc[np.random.choice(customers_df.index, 3, replace=False), 'purchase_amount'] = np.nan\n",
    "\n",
    "# แสดงข้อมูล\n",
    "print(\"ข้อมูลลูกค้าที่มี missing values:\")\n",
    "display(customers_df)"
   ]
  },
  {
   "cell_type": "markdown",
   "metadata": {},
   "source": [
    "คำถาม:\n",
    "\n",
    "1. ตรวจสอบและระบุจำนวน missing values ในแต่ละคอลัมน์\n",
    "2. แทนที่ missing values ในคอลัมน์ 'age' ด้วยค่ามัธยฐาน (median)\n",
    "3. แทนที่ missing values ในคอลัมน์ 'income' ด้วยค่าเฉลี่ย (mean)\n",
    "4. ลบแถวทั้งหมดที่มี missing values ในคอลัมน์ 'purchase_amount' และบันทึกในตัวแปรใหม่\n",
    "5. สร้างคอลัมน์ใหม่ 'income_category' โดยแบ่งเป็น 3 กลุ่ม: 'Low' (< 30000), 'Medium' (30000-60000), 'High' (> 60000)\n",
    "6. สร้างคอลัมน์ 'loyalty_tier' ตามเงื่อนไข:\n",
    "   - 'Bronze' ถ้า loyalty_points < 200\n",
    "   - 'Silver' ถ้า loyalty_points อยู่ระหว่าง 200 และ 500\n",
    "   - 'Gold' ถ้า loyalty_points > 500\n",
    "7. หาค่าเฉลี่ย purchase_amount ตาม income_category และ loyalty_tier"
   ]
  },
  {
   "cell_type": "code",
   "execution_count": null,
   "metadata": {},
   "outputs": [],
   "source": [
    "# เพิ่มโค้ดของคุณที่นี่\n",
    "\n",
    "# 1. ตรวจสอบและระบุจำนวน missing values ในแต่ละคอลัมน์\n",
    "\n",
    "\n",
    "# 2. แทนที่ missing values ในคอลัมน์ 'age' ด้วยค่ามัธยฐาน (median)\n",
    "\n",
    "\n",
    "# 3. แทนที่ missing values ในคอลัมน์ 'income' ด้วยค่าเฉลี่ย (mean)\n",
    "\n",
    "\n",
    "# 4. ลบแถวทั้งหมดที่มี missing values ในคอลัมน์ 'purchase_amount' และบันทึกในตัวแปรใหม่\n",
    "\n",
    "\n",
    "# 5. สร้างคอลัมน์ใหม่ 'income_category' โดยแบ่งเป็น 3 กลุ่ม\n",
    "\n",
    "\n",
    "# 6. สร้างคอลัมน์ 'loyalty_tier' ตามเงื่อนไข\n",
    "\n",
    "\n",
    "# 7. หาค่าเฉลี่ย purchase_amount ตาม income_category และ loyalty_tier\n"
   ]
  },
  {
   "cell_type": "markdown",
   "metadata": {},
   "source": [
    "## สรุป\n",
    "\n",
    "ในบทนี้ เราได้เรียนรู้เกี่ยวกับการใช้ Pandas สำหรับการวิเคราะห์ข้อมูล ประกอบด้วย:\n",
    "\n",
    "1. การสร้างและนำเข้าข้อมูลใน DataFrame\n",
    "2. การสำรวจและเข้าถึงข้อมูล\n",
    "3. การกรองและจัดเรียงข้อมูล\n",
    "4. การแปลงข้อมูลและเพิ่มคอลัมน์ใหม่\n",
    "5. การจัดการกับข้อมูลที่หายไป\n",
    "6. การจัดกลุ่มและรวมข้อมูล\n",
    "7. การรวม DataFrame หลายตัว\n",
    "8. การปรับเปลี่ยนรูปแบบข้อมูลด้วย pivot และ melt\n",
    "9. การบันทึกข้อมูลในรูปแบบต่าง ๆ\n",
    "\n",
    "ทักษะเหล่านี้เป็นพื้นฐานสำคัญสำหรับการวิเคราะห์ข้อมูลในโปรเจ็กต์ Data Science และ Data Analysis"
   ]
  }
 ],
 "metadata": {
  "kernelspec": {
   "display_name": "Python 3 (ipykernel)",
   "language": "python",
   "name": "python3"
  },
  "language_info": {
   "codemirror_mode": {
    "name": "ipython",
    "version": 3
   },
   "file_extension": ".py",
   "mimetype": "text/x-python",
   "name": "python",
   "nbconvert_exporter": "python",
   "pygments_lexer": "ipython3",
   "version": "3.10.16"
  }
 },
 "nbformat": 4,
 "nbformat_minor": 4
}