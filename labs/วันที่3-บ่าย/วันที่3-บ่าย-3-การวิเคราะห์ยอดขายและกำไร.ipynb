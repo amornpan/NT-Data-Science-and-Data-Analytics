{
 "cells": [
  {
   "cell_type": "markdown",
   "metadata": {},
   "source": [
    "# วันที่ 3: การสร้าง Dashboard และวิเคราะห์กรณีศึกษา\n",
    "## ช่วงบ่าย (13.00 น.–16.00 น.): กรณีศึกษา – วิเคราะห์ข้อมูลจากสถานการณ์จริง\n",
    "\n",
    "## 3. การวิเคราะห์ข้อมูลเบื้องต้น\n",
    "\n",
    "ก่อนที่จะสร้าง Dashboard ใน Power BI เราจะวิเคราะห์ข้อมูลเบื้องต้นเพื่อทำความเข้าใจข้อมูลและหาข้อมูลเชิงลึกที่น่าสนใจ"
   ]
  },
  {
   "cell_type": "code",
   "execution_count": null,
   "metadata": {},
   "outputs": [],
   "source": [
    "# นำเข้าไลบรารีที่จำเป็น\n",
    "import pandas as pd\n",
    "import numpy as np\n",
    "import matplotlib.pyplot as plt\n",
    "import seaborn as sns\n",
    "from datetime import datetime, timedelta\n",
    "import os\n",
    "\n",
    "# กำหนดให้แสดงกราฟในโน้ตบุ๊ก\n",
    "%matplotlib inline\n",
    "# กำหนดสไตล์ของกราฟ\n",
    "plt.style.use('seaborn-v0_8')\n",
    "# กำหนดให้แสดงคอลัมน์ทั้งหมดในดาต้าเฟรม\n",
    "pd.set_option('display.max_columns', None)\n",
    "\n",
    "# โหลดข้อมูลที่ได้สร้างไว้\n",
    "# หากไม่มีไฟล์ CSV ให้รันโค้ดในไฟล์ 'วันที่3-บ่าย-2-การเตรียมข้อมูล.ipynb' ก่อน\n",
    "\n",
    "try:\n",
    "    products_df = pd.read_csv('power_bi_data/products.csv')\n",
    "    customers_df = pd.read_csv('power_bi_data/customers.csv')\n",
    "    stores_df = pd.read_csv('power_bi_data/stores.csv')\n",
    "    sales_df = pd.read_csv('power_bi_data/sales.csv')\n",
    "    \n",
    "    # แปลงคอลัมน์ที่เกี่ยวกับวันที่ให้เป็น datetime\n",
    "    sales_df['sale_date'] = pd.to_datetime(sales_df['sale_date'])\n",
    "    sales_df['month'] = sales_df['sale_date'].dt.strftime('%Y-%m')\n",
    "    sales_df['quarter'] = sales_df['sale_date'].dt.to_period('Q').astype(str)\n",
    "    sales_df['year'] = sales_df['sale_date'].dt.year\n",
    "    sales_df['weekday'] = sales_df['sale_date'].dt.day_name()\n",
    "    \n",
    "    # เชื่อมข้อมูลการขายกับข้อมูลอื่นๆ\n",
    "    sales_with_info = sales_df.merge(products_df, on='product_id', how='left')\n",
    "    sales_with_info = sales_with_info.merge(customers_df, on='customer_id', how='left')\n",
    "    sales_with_info = sales_with_info.merge(stores_df, on='store_id', how='left')\n",
    "    \n",
    "    print(\"โหลดข้อมูลเรียบร้อยแล้ว!\")\n",
    "except FileNotFoundError:\n",
    "    print(\"ไม่พบไฟล์ข้อมูล โปรดรันโค้ดในไฟล์ 'วันที่3-บ่าย-2-การเตรียมข้อมูล.ipynb' ก่อน\")"
   ]
  },
  {
   "cell_type": "markdown",
   "metadata": {},
   "source": [
    "### 3.1 การวิเคราะห์ยอดขายและกำไร"
   ]
  },
  {
   "cell_type": "code",
   "execution_count": null,
   "metadata": {},
   "outputs": [],
   "source": [
    "# สรุปยอดขายและกำไรโดยรวม\n",
    "total_sales = sales_df['sales_amount'].sum()\n",
    "total_profit = sales_df['profit'].sum()\n",
    "profit_margin = (total_profit / total_sales) * 100\n",
    "total_transactions = sales_df['transaction_id'].nunique()\n",
    "avg_transaction_value = total_sales / total_transactions\n",
    "\n",
    "print(f\"ยอดขายรวม: {total_sales:,.2f} บาท\")\n",
    "print(f\"กำไรรวม: {total_profit:,.2f} บาท\")\n",
    "print(f\"อัตรากำไร: {profit_margin:.2f}%\")\n",
    "print(f\"จำนวนธุรกรรมทั้งหมด: {total_transactions:,}\")\n",
    "print(f\"มูลค่าเฉลี่ยต่อธุรกรรม: {avg_transaction_value:,.2f} บาท\")"
   ]
  },
  {
   "cell_type": "code",
   "execution_count": null,
   "metadata": {},
   "outputs": [],
   "source": [
    "# วิเคราะห์ยอดขายตามหมวดหมู่สินค้า\n",
    "sales_by_category = sales_with_info.groupby('category').agg({\n",
    "    'sales_amount': 'sum',\n",
    "    'profit': 'sum',\n",
    "    'transaction_id': pd.Series.nunique\n",
    "}).reset_index()\n",
    "sales_by_category['profit_margin'] = (sales_by_category['profit'] / sales_by_category['sales_amount']) * 100\n",
    "sales_by_category = sales_by_category.sort_values('sales_amount', ascending=False)\n",
    "\n",
    "print(\"ยอดขายและกำไรตามหมวดหมู่สินค้า:\")\n",
    "display(sales_by_category)\n",
    "\n",
    "# แสดงกราฟแท่งเปรียบเทียบยอดขายตามหมวดหมู่สินค้า\n",
    "plt.figure(figsize=(10, 6))\n",
    "sns.barplot(x='category', y='sales_amount', data=sales_by_category)\n",
    "plt.title('ยอดขายตามหมวดหมู่สินค้า')\n",
    "plt.xticks(rotation=45)\n",
    "plt.tight_layout()\n",
    "plt.show()"
   ]
  },
  {
   "cell_type": "code",
   "execution_count": null,
   "metadata": {},
   "outputs": [],
   "source": [
    "# วิเคราะห์อัตรากำไรตามหมวดหมู่สินค้า\n",
    "plt.figure(figsize=(10, 6))\n",
    "sns.barplot(x='category', y='profit_margin', data=sales_by_category)\n",
    "plt.title('อัตรากำไรตามหมวดหมู่สินค้า')\n",
    "plt.xticks(rotation=45)\n",
    "plt.ylabel('อัตรากำไร (%)')\n",
    "plt.tight_layout()\n",
    "plt.show()"
   ]
  },
  {
   "cell_type": "code",
   "execution_count": null,
   "metadata": {},
   "outputs": [],
   "source": [
    "# วิเคราะห์แนวโน้มยอดขายรายเดือน\n",
    "monthly_sales = sales_df.groupby('month').agg({\n",
    "    'sales_amount': 'sum',\n",
    "    'profit': 'sum',\n",
    "    'transaction_id': pd.Series.nunique\n",
    "}).reset_index()\n",
    "monthly_sales = monthly_sales.sort_values('month')\n",
    "\n",
    "print(\"แนวโน้มยอดขายและกำไรรายเดือน:\")\n",
    "display(monthly_sales.head())\n",
    "\n",
    "# แสดงกราฟเส้นแนวโน้มยอดขายรายเดือน\n",
    "plt.figure(figsize=(12, 6))\n",
    "plt.plot(monthly_sales['month'], monthly_sales['sales_amount'], marker='o', linewidth=2, label='ยอดขาย')\n",
    "plt.plot(monthly_sales['month'], monthly_sales['profit'], marker='o', linewidth=2, label='กำไร')\n",
    "plt.title('แนวโน้มยอดขายและกำไรรายเดือน')\n",
    "plt.xticks(rotation=45)\n",
    "plt.legend()\n",
    "plt.tight_layout()\n",
    "plt.show()"
   ]
  },
  {
   "cell_type": "code",
   "execution_count": null,
   "metadata": {},
   "outputs": [],
   "source": [
    "# วิเคราะห์ยอดขายและกำไรตามไตรมาส\n",
    "quarterly_sales = sales_df.groupby('quarter').agg({\n",
    "    'sales_amount': 'sum',\n",
    "    'profit': 'sum',\n",
    "    'transaction_id': pd.Series.nunique\n",
    "}).reset_index()\n",
    "quarterly_sales['profit_margin'] = (quarterly_sales['profit'] / quarterly_sales['sales_amount']) * 100\n",
    "quarterly_sales = quarterly_sales.sort_values('quarter')\n",
    "\n",
    "print(\"ยอดขายและกำไรตามไตรมาส:\")\n",
    "display(quarterly_sales)\n",
    "\n",
    "# แสดงกราฟแท่งเปรียบเทียบยอดขายตามไตรมาส\n",
    "plt.figure(figsize=(10, 6))\n",
    "x = range(len(quarterly_sales))\n",
    "width = 0.35\n",
    "\n",
    "plt.bar(x, quarterly_sales['sales_amount'], width, label='ยอดขาย')\n",
    "plt.bar([i + width for i in x], quarterly_sales['profit'], width, label='กำไร')\n",
    "\n",
    "plt.xlabel('ไตรมาส')\n",
    "plt.ylabel('จำนวนเงิน (บาท)')\n",
    "plt.title('ยอดขายและกำไรตามไตรมาส')\n",
    "plt.xticks([i + width/2 for i in x], quarterly_sales['quarter'])\n",
    "plt.legend()\n",
    "plt.tight_layout()\n",
    "plt.show()"
   ]
  },
  {
   "cell_type": "code",
   "execution_count": null,
   "metadata": {},
   "outputs": [],
   "source": [
    "# วิเคราะห์อัตรากำไรและจำนวนธุรกรรมตามไตรมาส\n",
    "fig, ax1 = plt.subplots(figsize=(10, 6))\n",
    "\n",
    "color = 'tab:blue'\n",
    "ax1.set_xlabel('ไตรมาส')\n",
    "ax1.set_ylabel('อัตรากำไร (%)', color=color)\n",
    "ax1.plot(quarterly_sales['quarter'], quarterly_sales['profit_margin'], color=color, marker='o', linewidth=2)\n",
    "ax1.tick_params(axis='y', labelcolor=color)\n",
    "\n",
    "ax2 = ax1.twinx()  # สร้างแกน y ที่สอง\n",
    "color = 'tab:red'\n",
    "ax2.set_ylabel('จำนวนธุรกรรม', color=color)\n",
    "ax2.plot(quarterly_sales['quarter'], quarterly_sales['transaction_id'], color=color, marker='s', linewidth=2)\n",
    "ax2.tick_params(axis='y', labelcolor=color)\n",
    "\n",
    "plt.title('อัตรากำไรและจำนวนธุรกรรมตามไตรมาส')\n",
    "fig.tight_layout()\n",
    "plt.show()"
   ]
  }
 ],
 "metadata": {
  "kernelspec": {
   "display_name": "Python 3",
   "language": "python",
   "name": "python3"
  },
  "language_info": {
   "codemirror_mode": {
    "name": "ipython",
    "version": 3
   },
   "file_extension": ".py",
   "mimetype": "text/x-python",
   "name": "python",
   "nbconvert_exporter": "python",
   "pygments_lexer": "ipython3",
   "version": "3.8.8"
  }
 },
 "nbformat": 4,
 "nbformat_minor": 4
}
