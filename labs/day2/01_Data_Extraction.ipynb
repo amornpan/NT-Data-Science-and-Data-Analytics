{
  "cells": [
    {
      "cell_type": "markdown",
      "metadata": {},
      "source": [
        "# ส่วนที่ 1: การดึงข้อมูล (Data Extraction)\n",
        "\n",
        "Notebook นี้แสดงขั้นตอนการดึงข้อมูลจากแหล่งต่างๆ สำหรับการวิเคราะห์ข้อมูลการจ้างงาน"
      ]
    },
    {
      "cell_type": "markdown",
      "metadata": {},
      "source": [
        "## 1. ติดตั้งแพ็คเกจที่จำเป็น"
      ]
    },
    {
      "cell_type": "code",
      "execution_count": null,
      "metadata": {},
      "source": [
        "# ติดตั้งแพ็คเกจที่จำเป็น\n",
        "!pip install pandas numpy matplotlib seaborn sqlalchemy"
      ]
    },
    {
      "cell_type": "markdown",
      "metadata": {},
      "source": [
        "## 2. Import Libraries"
      ]
    },
    {
      "cell_type": "code",
      "execution_count": null,
      "metadata": {},
      "source": [
        "import pandas as pd\n",
        "import numpy as np\n",
        "import matplotlib.pyplot as plt\n",
        "import seaborn as sns\n",
        "import os\n",
        "from datetime import datetime\n",
        "\n",
        "# ตั้งค่าการแสดงผลกราฟให้สวยงาม\n",
        "plt.style.use('ggplot')\n",
        "sns.set(style='whitegrid')\n",
        "\n",
        "# ตั้งค่าให้แสดงข้อมูลภาษาไทยได้\n",
        "plt.rcParams['font.family'] = 'DejaVu Sans'\n",
        "\n",
        "# แสดงเวอร์ชันของแพ็คเกจ\n",
        "print(f\"Pandas version: {pd.__version__}\")\n",
        "print(f\"NumPy version: {np.__version__}\")"
      ]
    },
    {
      "cell_type": "markdown",
      "metadata": {},
      "source": [
        "## 3. เชื่อมต่อกับ Google Drive\n",
        "\n",
        "เชื่อมต่อ Google Drive เพื่อเข้าถึงไฟล์ข้อมูลและบันทึกผลลัพธ์"
      ]
    },
    {
      "cell_type": "code",
      "execution_count": null,
      "metadata": {},
      "source": [
        "# กำหนดพาธหลักสำหรับโปรเจค\n",
        "project_path = './Employee_Data_Analytics_Project'  # ปรับตามโครงสร้างของคุณ\n",
        "\n",
        "# สร้างโฟลเดอร์โปรเจค (ถ้ายังไม่มี)\n",
        "if not os.path.exists(project_path):\n",
        "    os.makedirs(project_path)\n",
        "    print(f\"สร้างโฟลเดอร์ {project_path} สำเร็จ\")\n",
        "else:\n",
        "    print(f\"โฟลเดอร์ {project_path} มีอยู่แล้ว\")"
      ]
    },
    {
      "cell_type": "markdown",
      "metadata": {},
      "source": [
        "## 4. อัปโหลดไฟล์ข้อมูล\n",
        "\n",
        "อัปโหลดไฟล์ข้อมูล dataset_employee.csv"
      ]
    },
    {
      "cell_type": "code",
      "execution_count": null,
      "metadata": {},
      "source": [
        "# ตรวจสอบว่าไฟล์มีอยู่ในโปรเจคหรือไม่\n",
        "file_path = f\"{project_path}/dataset_employee.csv\"\n",
        "\n",
        "if os.path.exists(file_path):\n",
        "    print(f\"ไฟล์ {file_path} มีอยู่แล้ว\")\n",
        "else:\n",
        "    print(\"กรุณาอัปโหลดไฟล์ dataset_employee.csv\")\n",
        "    \n",
        "    # สำหรับ Jupyter Notebook local ให้ใช้ ipywidgets\n",
        "    from ipywidgets import FileUpload\n",
        "    upload = FileUpload(accept='.csv', multiple=False)\n",
        "    display(upload)\n",
        "    \n",
        "    # คำสั่งสำหรับดำเนินการหลังจากอัปโหลดไฟล์\n",
        "    # โค้ดนี้จะทำงานหลังจากผู้ใช้อัปโหลดไฟล์แล้ว\n",
        "    # จะต้องรันเซลล์นี้อีกครั้งหลังจากอัปโหลดไฟล์"
      ]
    },
    {
      "cell_type": "code",
      "execution_count": null,
      "metadata": {},
      "source": [
        "# บันทึกไฟล์ที่อัปโหลด (รันหลังจากอัปโหลดไฟล์)\n",
        "# หากใช้ FileUpload widget จาก ipywidgets\n",
        "if 'upload' in globals() and upload.value:\n",
        "    # อ่านไฟล์ที่อัปโหลด\n",
        "    for filename, data in upload.value.items():\n",
        "        with open(f\"{project_path}/dataset_employee.csv\", 'wb') as f:\n",
        "            f.write(data['content'])\n",
        "    print(f\"บันทึกไฟล์ไปยัง {file_path} สำเร็จ\")"
      ]
    },
    {
      "cell_type": "markdown",
      "metadata": {},
      "source": [
        "## 5. อ่านข้อมูลและตรวจสอบโครงสร้าง"
      ]
    },
    {
      "cell_type": "code",
      "execution_count": null,
      "metadata": {},
      "source": [
        "# อ่านข้อมูลจากไฟล์ CSV\n",
        "df = pd.read_csv(file_path)\n",
        "\n",
        "# แสดงข้อมูล 5 แถวแรก\n",
        "print(\"ตัวอย่างข้อมูล 5 แถวแรก:\")\n",
        "display(df.head())\n",
        "\n",
        "# แสดงโครงสร้างข้อมูล\n",
        "print(\"\\nโครงสร้างข้อมูล:\")\n",
        "print(f\"จำนวนแถว: {df.shape[0]}\")\n",
        "print(f\"จำนวนคอลัมน์: {df.shape[1]}\")\n",
        "\n",
        "# แสดงประเภทข้อมูลของแต่ละคอลัมน์\n",
        "print(\"\\nประเภทข้อมูลของแต่ละคอลัมน์:\")\n",
        "display(df.dtypes)\n",
        "\n",
        "# แสดงข้อมูลทางสถิติพื้นฐาน\n",
        "print(\"\\nข้อมูลทางสถิติพื้นฐาน:\")\n",
        "display(df.describe())\n",
        "\n",
        "# ตรวจสอบข้อมูลที่หายไป\n",
        "print(\"\\nตรวจสอบข้อมูลที่หายไป:\")\n",
        "missing_data = df.isnull().sum()\n",
        "missing_percentage = (missing_data / df.shape[0]) * 100\n",
        "missing_info = pd.DataFrame({'จำนวนข้อมูลที่หายไป': missing_data, 'เปอร์เซ็นต์': missing_percentage})\n",
        "display(missing_info)"
      ]
    },
    {
      "cell_type": "markdown",
      "metadata": {},
      "source": [
        "## 6. สำรวจค่าที่เป็นไปได้ในแต่ละคอลัมน์"
      ]
    },
    {
      "cell_type": "code",
      "execution_count": null,
      "metadata": {},
      "source": [
        "# ตรวจสอบค่าที่เป็นไปได้ในคอลัมน์ REGION\n",
        "print(\"ค่าที่เป็นไปได้ในคอลัมน์ REGION:\")\n",
        "region_counts = df['REGION'].value_counts().reset_index()\n",
        "region_counts.columns = ['REGION', 'COUNT']\n",
        "display(region_counts)\n",
        "\n",
        "# ตรวจสอบค่าที่เป็นไปได้ในคอลัมน์ QUARTER\n",
        "print(\"\\nค่าที่เป็นไปได้ในคอลัมน์ QUARTER:\")\n",
        "quarter_counts = df['QUARTER'].value_counts().reset_index()\n",
        "quarter_counts.columns = ['QUARTER', 'COUNT']\n",
        "display(quarter_counts)\n",
        "\n",
        "# ตรวจสอบค่าที่เป็นไปได้ในคอลัมน์ SEX\n",
        "print(\"\\nค่าที่เป็นไปได้ในคอลัมน์ SEX:\")\n",
        "sex_counts = df['SEX'].value_counts().reset_index()\n",
        "sex_counts.columns = ['SEX', 'COUNT']\n",
        "display(sex_counts)\n",
        "\n",
        "# ตรวจสอบช่วงของข้อมูล YEAR\n",
        "print(\"\\nช่วงของข้อมูล YEAR:\")\n",
        "year_range = df['YEAR'].unique()\n",
        "print(f\"ปีที่มีในข้อมูล: {sorted(year_range)}\")\n",
        "\n",
        "# ตรวจสอบจำนวนจังหวัดทั้งหมด\n",
        "print(f\"\\nจำนวนจังหวัดทั้งหมดในข้อมูล: {df['PROVINCE'].nunique()} จังหวัด\")"
      ]
    },
    {
      "cell_type": "markdown",
      "metadata": {},
      "source": [
        "## 7. วิเคราะห์ข้อมูลเบื้องต้น"
      ]
    },
    {
      "cell_type": "code",
      "execution_count": null,
      "metadata": {},
      "source": [
        "# สรุปข้อมูลตามภูมิภาค\n",
        "region_summary = df.groupby('REGION')['VALUE'].agg(['sum', 'mean', 'min', 'max', 'count']).reset_index()\n",
        "region_summary.columns = ['ภูมิภาค', 'จำนวนรวม', 'ค่าเฉลี่ย', 'ค่าต่ำสุด', 'ค่าสูงสุด', 'จำนวนข้อมูล']\n",
        "region_summary = region_summary.sort_values('จำนวนรวม', ascending=False)\n",
        "\n",
        "print(\"สรุปข้อมูลตามภูมิภาค:\")\n",
        "display(region_summary)\n",
        "\n",
        "# สรุปข้อมูลตามเพศ\n",
        "sex_summary = df.groupby('SEX')['VALUE'].agg(['sum', 'mean']).reset_index()\n",
        "sex_summary.columns = ['เพศ', 'จำนวนรวม', 'ค่าเฉลี่ย']\n",
        "\n",
        "print(\"\\nสรุปข้อมูลตามเพศ:\")\n",
        "display(sex_summary)\n",
        "\n",
        "# สรุปข้อมูลตามปีและไตรมาส\n",
        "time_summary = df.groupby(['YEAR', 'QUARTER'])['VALUE'].sum().reset_index()\n",
        "time_summary.columns = ['ปี', 'ไตรมาส', 'จำนวนรวม']\n",
        "time_summary = time_summary.sort_values(['ปี', 'ไตรมาส'])\n",
        "\n",
        "print(\"\\nสรุปข้อมูลตามปีและไตรมาส:\")\n",
        "display(time_summary)"
      ]
    },
    {
      "cell_type": "markdown",
      "metadata": {},
      "source": [
        "## 8. เตรียมข้อมูลสำหรับส่งต่อไปยัง Data Transformation"
      ]
    },
    {
      "cell_type": "code",
      "execution_count": null,
      "metadata": {},
      "source": [
        "# บันทึกข้อมูลดิบ\n",
        "raw_data_path = f\"{project_path}/raw_employee_data.csv\"\n",
        "df.to_csv(raw_data_path, index=False)\n",
        "print(f\"บันทึกข้อมูลดิบไปยัง {raw_data_path} สำเร็จ\")\n",
        "\n",
        "# บันทึกข้อมูลสรุปเบื้องต้น\n",
        "summary_path = f\"{project_path}/initial_summary.csv\"\n",
        "region_summary.to_csv(summary_path, index=False)\n",
        "print(f\"บันทึกข้อมูลสรุปเบื้องต้นไปยัง {summary_path} สำเร็จ\")"
      ]
    },
    {
      "cell_type": "markdown",
      "metadata": {},
      "source": [
        "## 9. สรุปผลการดึงข้อมูล"
      ]
    },
    {
      "cell_type": "code",
      "execution_count": null,
      "metadata": {},
      "source": [
        "# สรุปข้อมูลทั้งหมด\n",
        "print(\"สรุปผลการดึงข้อมูล:\")\n",
        "print(f\"- อ่านข้อมูลจากไฟล์ {file_path} สำเร็จ\")\n",
        "print(f\"- ข้อมูลมีทั้งหมด {df.shape[0]} แถว และ {df.shape[1]} คอลัมน์\")\n",
        "print(f\"- มีข้อมูลจาก {df['YEAR'].nunique()} ปี ({min(df['YEAR'])} - {max(df['YEAR'])})\")\n",
        "print(f\"- มีข้อมูลจาก {df['QUARTER'].nunique()} ไตรมาส\")\n",
        "print(f\"- มีข้อมูลจาก {df['REGION'].nunique()} ภูมิภาค\")\n",
        "print(f\"- มีข้อมูลจาก {df['PROVINCE'].nunique()} จังหวัด\")\n",
        "print(f\"- มีข้อมูลแยกตามเพศ {df['SEX'].nunique()} ประเภท\")\n",
        "print(f\"- จำนวนพนักงานรวมทั้งหมด: {df['VALUE'].sum():,.2f} {df['UNIT'].iloc[0]}\")\n",
        "print(f\"- ข้อมูลทั้งหมดได้รับจากแหล่งข้อมูล: {df['SOURCE'].iloc[0]}\")"
      ]
    },
    {
      "cell_type": "markdown",
      "metadata": {},
      "source": [
        "## 10. ข้อมูลเสร็จพร้อมสำหรับการแปลงข้อมูล (Data Transformation)\n",
        "\n",
        "ดำเนินการดึงข้อมูลเสร็จสิ้น ข้อมูลพร้อมสำหรับขั้นตอนการแปลงข้อมูลในไฟล์ `02_Data_Transformation.ipynb`"
      ]
    }
  ],
  "metadata": {
    "kernelspec": {
      "display_name": "Python 3",
      "language": "python",
      "name": "python3"
    },
    "language_info": {
      "codemirror_mode": {
        "name": "ipython",
        "version": 3
      },
      "file_extension": ".py",
      "mimetype": "text/x-python",
      "name": "python",
      "nbconvert_exporter": "python",
      "pygments_lexer": "ipython3",
      "version": "3.8.10"
    }
  },
  "nbformat": 4,
  "nbformat_minor": 4
}