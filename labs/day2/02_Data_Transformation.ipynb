{
  "cells": [
    {
      "cell_type": "markdown",
      "metadata": {},
      "source": [
        "# ส่วนที่ 2: การแปลงข้อมูล (Data Transformation)\n",
        "\n",
        "Notebook นี้แสดงขั้นตอนการแปลงข้อมูลให้พร้อมสำหรับการวิเคราะห์และจัดเก็บในฐานข้อมูล"
      ]
    },
    {
      "cell_type": "markdown",
      "metadata": {},
      "source": [
        "## 1. ติดตั้งแพ็คเกจที่จำเป็น"
      ]
    },
    {
      "cell_type": "code",
      "execution_count": null,
      "metadata": {},
      "source": [
        "# ติดตั้งแพ็คเกจที่จำเป็น\n",
        "!pip install pandas numpy matplotlib seaborn sqlalchemy"
      ]
    },
    {
      "cell_type": "markdown",
      "metadata": {},
      "source": [
        "## 2. Import Libraries"
      ]
    },
    {
      "cell_type": "code",
      "execution_count": null,
      "metadata": {},
      "source": [
        "import pandas as pd\n",
        "import numpy as np\n",
        "import matplotlib.pyplot as plt\n",
        "import seaborn as sns\n",
        "import os\n",
        "from datetime import datetime\n",
        "\n",
        "# ตั้งค่าการแสดงผลกราฟให้สวยงาม\n",
        "plt.style.use('ggplot')\n",
        "sns.set(style='whitegrid')\n",
        "\n",
        "# ตั้งค่าให้แสดงข้อมูลภาษาไทยได้\n",
        "plt.rcParams['font.family'] = 'DejaVu Sans'\n",
        "\n",
        "# แสดงเวอร์ชันของแพ็คเกจ\n",
        "print(f\"Pandas version: {pd.__version__}\")\n",
        "print(f\"NumPy version: {np.__version__}\")"
      ]
    },
    {
      "cell_type": "markdown",
      "metadata": {},
      "source": [
        "## 3. โหลดข้อมูลจากไฟล์ที่บันทึกไว้"
      ]
    },
    {
      "cell_type": "code",
      "execution_count": null,
      "metadata": {},
      "source": [
        "# กำหนดพาธหลักสำหรับโปรเจค\n",
        "project_path = './Employee_Data_Analytics_Project'  # ปรับตามโครงสร้างของคุณ\n",
        "\n",
        "# แสดงไฟล์ในโปรเจค\n",
        "print(\"ไฟล์ในโปรเจค:\")\n",
        "for file in os.listdir(project_path):\n",
        "    print(f\"- {file}\")"
      ]
    },
    {
      "cell_type": "code",
      "execution_count": null,
      "metadata": {},
      "source": [
        "# โหลดข้อมูลจากไฟล์ที่บันทึกไว้\n",
        "raw_data_path = f\"{project_path}/raw_employee_data.csv\"\n",
        "\n",
        "if os.path.exists(raw_data_path):\n",
        "    df = pd.read_csv(raw_data_path)\n",
        "    print(f\"โหลดข้อมูลจาก {raw_data_path} สำเร็จ\")\n",
        "    print(f\"ข้อมูลมีทั้งหมด {df.shape[0]} แถว และ {df.shape[1]} คอลัมน์\")\n",
        "else:\n",
        "    print(f\"ไม่พบไฟล์ {raw_data_path}\")\n",
        "    print(\"จะโหลดข้อมูลจากไฟล์ dataset_employee.csv แทน\")\n",
        "    df = pd.read_csv(f\"{project_path}/dataset_employee.csv\")\n",
        "    print(f\"โหลดข้อมูลจาก dataset_employee.csv สำเร็จ\")\n",
        "    print(f\"ข้อมูลมีทั้งหมด {df.shape[0]} แถว และ {df.shape[1]} คอลัมน์\")\n",
        "\n",
        "# แสดงข้อมูลตัวอย่าง\n",
        "print(\"\\nตัวอย่างข้อมูล 5 แถวแรก:\")\n",
        "display(df.head())"
      ]
    },
    {
      "cell_type": "markdown",
      "metadata": {},
      "source": [
        "## 5. การแปลงข้อมูล (Data Transformation)\n",
        "\n",
        "### 5.1 แปลงปีจาก พ.ศ. เป็น ค.ศ. และสร้างคอลัมน์ใหม่"
      ]
    },
    {
      "cell_type": "code",
      "execution_count": null,
      "metadata": {},
      "source": [
        "# สร้าง DataFrame ใหม่เพื่อไม่ให้กระทบข้อมูลเดิม\n",
        "df_transformed = df.copy()\n",
        "\n",
        "# แปลงปีจาก พ.ศ. เป็น ค.ศ. และสร้างคอลัมน์ใหม่\n",
        "df_transformed['YEAR_CE'] = df_transformed['YEAR'] - 543\n",
        "\n",
        "print(\"ตัวอย่างข้อมูลหลังการแปลงปี:\")\n",
        "display(df_transformed[['YEAR', 'YEAR_CE', 'QUARTER', 'REGION', 'PROVINCE']].head())"
      ]
    },
    {
      "cell_type": "markdown",
      "metadata": {},
      "source": [
        "### 5.2 แปลงไตรมาสเป็นตัวเลข (เพื่อให้เรียงลำดับได้)"
      ]
    },
    {
      "cell_type": "code",
      "execution_count": null,
      "metadata": {},
      "source": [
        "# แปลงไตรมาสเป็นตัวเลข\n",
        "quarter_map = {\n",
        "    'ไตรมาสที่ 1': 1,\n",
        "    'ไตรมาสที่ 2': 2,\n",
        "    'ไตรมาสที่ 3': 3,\n",
        "    'ไตรมาสที่ 4': 4\n",
        "}\n",
        "df_transformed['QUARTER_NUM'] = df_transformed['QUARTER'].map(quarter_map)\n",
        "\n",
        "print(\"ตัวอย่างข้อมูลหลังการแปลงไตรมาส:\")\n",
        "display(df_transformed[['QUARTER', 'QUARTER_NUM', 'YEAR', 'YEAR_CE']].head())"
      ]
    },
    {
      "cell_type": "markdown",
      "metadata": {},
      "source": [
        "### 5.3 สร้างคอลัมน์วันที่โดยประมาณสำหรับช่วงกลางของแต่ละไตรมาส"
      ]
    },
    {
      "cell_type": "code",
      "execution_count": null,
      "metadata": {},
      "source": [
        "# สร้างคอลัมน์วันที่โดยประมาณสำหรับช่วงกลางของแต่ละไตรมาส\n",
        "def get_quarter_date(row):\n",
        "    year = row['YEAR_CE']\n",
        "    quarter = row['QUARTER_NUM']\n",
        "    if quarter == 1:\n",
        "        return f\"{year}-02-15\"\n",
        "    elif quarter == 2:\n",
        "        return f\"{year}-05-15\"\n",
        "    elif quarter == 3:\n",
        "        return f\"{year}-08-15\"\n",
        "    elif quarter == 4:\n",
        "        return f\"{year}-11-15\"\n",
        "\n",
        "df_transformed['ESTIMATED_DATE'] = df_transformed.apply(get_quarter_date, axis=1)\n",
        "df_transformed['ESTIMATED_DATE'] = pd.to_datetime(df_transformed['ESTIMATED_DATE'])\n",
        "\n",
        "print(\"ตัวอย่างข้อมูลหลังการสร้างวันที่โดยประมาณ:\")\n",
        "display(df_transformed[['YEAR', 'QUARTER', 'QUARTER_NUM', 'ESTIMATED_DATE']].head())"
      ]
    },
    {
      "cell_type": "markdown",
      "metadata": {},
      "source": [
        "### 5.4 สร้างคอลัมน์เพิ่มเติมสำหรับการวิเคราะห์ - สัดส่วนการจ้างงานต่อภูมิภาค"
      ]
    },
    {
      "cell_type": "code",
      "execution_count": null,
      "metadata": {},
      "source": [
        "# คำนวณสัดส่วนการจ้างงานต่อภูมิภาค\n",
        "region_totals = df_transformed.groupby(['YEAR', 'QUARTER', 'REGION'])['VALUE'].sum().reset_index()\n",
        "region_totals.rename(columns={'VALUE': 'REGION_TOTAL'}, inplace=True)\n",
        "\n",
        "df_transformed = pd.merge(df_transformed, region_totals, on=['YEAR', 'QUARTER', 'REGION'], how='left')\n",
        "df_transformed['PERCENT_OF_REGION'] = (df_transformed['VALUE'] / df_transformed['REGION_TOTAL'] * 100).round(2)\n",
        "\n",
        "print(\"ตัวอย่างข้อมูลหลังการคำนวณสัดส่วนต่อภูมิภาค:\")\n",
        "display(df_transformed[['REGION', 'PROVINCE', 'VALUE', 'REGION_TOTAL', 'PERCENT_OF_REGION']].head(10))"
      ]
    },
    {
      "cell_type": "markdown",
      "metadata": {},
      "source": [
        "### 5.5 คำนวณอัตราการเปลี่ยนแปลงตามไตรมาส (QoQ)"
      ]
    },
    {
      "cell_type": "code",
      "execution_count": null,
      "metadata": {},
      "source": [
        "# คำนวณอัตราการเปลี่ยนแปลงตามไตรมาส (QoQ)\n",
        "df_sorted = df_transformed.sort_values(['PROVINCE', 'SEX', 'YEAR', 'QUARTER_NUM'])\n",
        "df_transformed['PREV_VALUE'] = df_sorted.groupby(['PROVINCE', 'SEX'])['VALUE'].shift(1)\n",
        "df_transformed['QOQ_CHANGE_PCT'] = ((df_transformed['VALUE'] - df_transformed['PREV_VALUE']) / df_transformed['PREV_VALUE'] * 100).round(2)\n",
        "\n",
        "print(\"ตัวอย่างข้อมูลหลังการคำนวณอัตราการเปลี่ยนแปลง QoQ:\")\n",
        "sample_province = df_transformed[df_transformed['PROVINCE'] == df_transformed['PROVINCE'].iloc[0]]\n",
        "sample_province = sample_province.sort_values(['YEAR', 'QUARTER_NUM'])\n",
        "display(sample_province[['PROVINCE', 'YEAR', 'QUARTER', 'VALUE', 'PREV_VALUE', 'QOQ_CHANGE_PCT']].head(8))"
      ]
    },
    {
      "cell_type": "markdown",
      "metadata": {},
      "source": [
        "### 5.6 คำนวณอัตราการเปลี่ยนแปลงเทียบกับปีก่อน (YoY)"
      ]
    },
    {
      "cell_type": "code",
      "execution_count": null,
      "metadata": {},
      "source": [
        "# คำนวณอัตราการเปลี่ยนแปลงเทียบกับปีก่อน (YoY)\n",
        "df_transformed['YOY_PREV_VALUE'] = df_sorted.groupby(['PROVINCE', 'SEX', 'QUARTER_NUM'])['VALUE'].shift(4)  # ย้อนหลัง 4 ไตรมาส\n",
        "df_transformed['YOY_CHANGE_PCT'] = ((df_transformed['VALUE'] - df_transformed['YOY_PREV_VALUE']) / df_transformed['YOY_PREV_VALUE'] * 100).round(2)\n",
        "\n",
        "print(\"ตัวอย่างข้อมูลหลังการคำนวณอัตราการเปลี่ยนแปลง YoY:\")\n",
        "sample_province = df_transformed[df_transformed['PROVINCE'] == df_transformed['PROVINCE'].iloc[0]]\n",
        "sample_province = sample_province.sort_values(['YEAR', 'QUARTER_NUM'])\n",
        "display(sample_province[['PROVINCE', 'YEAR', 'QUARTER', 'VALUE', 'YOY_PREV_VALUE', 'YOY_CHANGE_PCT']].head(8))"
      ]
    },
    {
      "cell_type": "markdown",
      "metadata": {},
      "source": [
        "### 5.7 คำนวณค่าเฉลี่ยเคลื่อนที่ 4 ไตรมาส"
      ]
    },
    {
      "cell_type": "code",
      "execution_count": null,
      "metadata": {},
      "source": [
        "# คำนวณค่าเฉลี่ยเคลื่อนที่ 4 ไตรมาส\n",
        "df_transformed['ROLLING_AVG_4Q'] = df_sorted.groupby(['PROVINCE', 'SEX'])['VALUE'].transform(lambda x: x.rolling(window=4, min_periods=1).mean()).round(2)\n",
        "\n",
        "print(\"ตัวอย่างข้อมูลหลังการคำนวณค่าเฉลี่ยเคลื่อนที่:\")\n",
        "sample_province = df_transformed[df_transformed['PROVINCE'] == df_transformed['PROVINCE'].iloc[0]]\n",
        "sample_province = sample_province.sort_values(['YEAR', 'QUARTER_NUM'])\n",
        "display(sample_province[['PROVINCE', 'YEAR', 'QUARTER', 'VALUE', 'ROLLING_AVG_4Q']].head(8))"
      ]
    },
    {
      "cell_type": "markdown",
      "metadata": {},
      "source": [
        "### 5.8 เพิ่มคอลัมน์รายวันที่สำหรับการจัดกลุ่ม (เพื่อให้วิเคราะห์ได้หลากหลายมิติ)"
      ]
    },
    {
      "cell_type": "code",
      "execution_count": null,
      "metadata": {},
      "source": [
        "# เพิ่มคอลัมน์รายวันที่สำหรับการจัดกลุ่ม\n",
        "df_transformed['YEAR_QUARTER'] = df_transformed['YEAR'].astype(str) + '-Q' + df_transformed['QUARTER_NUM'].astype(str)\n",
        "df_transformed['YEAR_QUARTER_CE'] = df_transformed['YEAR_CE'].astype(str) + '-Q' + df_transformed['QUARTER_NUM'].astype(str)\n",
        "\n",
        "print(\"ตัวอย่างข้อมูลหลังการเพิ่มคอลัมน์รายวันที่:\")\n",
        "display(df_transformed[['YEAR', 'QUARTER', 'YEAR_QUARTER', 'YEAR_CE', 'YEAR_QUARTER_CE']].head())"
      ]
    },
    {
      "cell_type": "markdown",
      "metadata": {},
      "source": [
        "## 6. ตรวจสอบข้อมูลที่แปลงแล้ว"
      ]
    },
    {
      "cell_type": "code",
      "execution_count": null,
      "metadata": {},
      "source": [
        "# แสดงโครงสร้างข้อมูลหลังการแปลง\n",
        "print(\"โครงสร้างข้อมูลหลังการแปลง:\")\n",
        "print(f\"จำนวนแถว: {df_transformed.shape[0]}\")\n",
        "print(f\"จำนวนคอลัมน์: {df_transformed.shape[1]}\")\n",
        "\n",
        "# แสดงรายชื่อคอลัมน์ทั้งหมด\n",
        "print(\"\\nรายชื่อคอลัมน์ทั้งหมด:\")\n",
        "print(df_transformed.columns.tolist())\n",
        "\n",
        "# แสดงตัวอย่างข้อมูลที่แปลงแล้ว\n",
        "print(\"\\nตัวอย่างข้อมูลที่แปลงแล้ว:\")\n",
        "display(df_transformed.head())\n",
        "\n",
        "# ตรวจสอบข้อมูลที่ขาดหาย\n",
        "print(\"\\nตรวจสอบข้อมูลที่ขาดหาย:\")\n",
        "missing_data = df_transformed.isnull().sum()\n",
        "missing_data = missing_data[missing_data > 0]  # แสดงเฉพาะคอลัมน์ที่มีข้อมูลขาดหาย\n",
        "if len(missing_data) > 0:\n",
        "    display(missing_data)\n",
        "else:\n",
        "    print(\"ไม่มีข้อมูลที่ขาดหาย\")"
      ]
    },
    {
      "cell_type": "markdown",
      "metadata": {},
      "source": [
        "## 7. จัดการข้อมูลที่ขาดหาย (ถ้ามี)"
      ]
    },
    {
      "cell_type": "code",
      "execution_count": null,
      "metadata": {},
      "source": [
        "# จัดการข้อมูลที่ขาดหาย (ถ้ามี)\n",
        "# เนื่องจากมีค่า PREV_VALUE, QOQ_CHANGE_PCT, YOY_PREV_VALUE, YOY_CHANGE_PCT ที่ขาดหาย (ไตรมาสแรกไม่มีค่าก่อนหน้า)\n",
        "# เราจะไม่เติมค่าเหล่านี้ แต่จะให้เป็น NaN เพื่อไม่ให้บิดเบือนข้อมูล\n",
        "\n",
        "# แสดงจำนวนแถวที่มีการขาดหายในแต่ละคอลัมน์\n",
        "missing_counts = df_transformed.isnull().sum()\n",
        "print(\"จำนวนแถวที่มีการขาดหายในแต่ละคอลัมน์:\")\n",
        "missing_counts = missing_counts[missing_counts > 0]\n",
        "if len(missing_counts) > 0:\n",
        "    display(missing_counts)\n",
        "    \n",
        "    # ตรวจสอบว่าการขาดหายข้อมูลเกิดขึ้นที่ไตรมาสแรกหรือไม่\n",
        "    first_quarters = df_transformed[df_transformed['PREV_VALUE'].isnull()][['PROVINCE', 'SEX', 'YEAR', 'QUARTER']].head()\n",
        "    print(\"\\nตัวอย่างข้อมูลที่ขาดหาย:\")\n",
        "    display(first_quarters)\n",
        "else:\n",
        "    print(\"ไม่มีข้อมูลที่ขาดหาย\")"
      ]
    },
    {
      "cell_type": "markdown",
      "metadata": {},
      "source": [
        "## 8. สร้างตารางสำหรับการวิเคราะห์เพิ่มเติม"
      ]
    },
    {
      "cell_type": "code",
      "execution_count": null,
      "metadata": {},
      "source": [
        "# 1. ตารางสรุปตามภูมิภาค\n",
        "region_summary = df_transformed.groupby(['YEAR', 'QUARTER', 'REGION', 'SEX']).agg(\n",
        "    total_employees=('VALUE', 'sum'),\n",
        "    avg_employees=('VALUE', 'mean'),\n",
        "    min_employees=('VALUE', 'min'),\n",
        "    max_employees=('VALUE', 'max'),\n",
        "    province_count=('PROVINCE', 'nunique')\n",
        ").reset_index()\n",
        "\n",
        "print(\"ตารางสรุปตามภูมิภาค:\")\n",
        "display(region_summary.head())\n",
        "\n",
        "# 2. ตารางสรุปตามปีและไตรมาส\n",
        "time_summary = df_transformed.groupby(['YEAR', 'QUARTER', 'YEAR_QUARTER']).agg(\n",
        "    total_employees=('VALUE', 'sum')\n",
        ").reset_index()\n",
        "\n",
        "# เพิ่มข้อมูลแยกตามเพศ\n",
        "male_data = df_transformed[df_transformed['SEX'] == 'ชาย'].groupby(['YEAR', 'QUARTER', 'YEAR_QUARTER'])['VALUE'].sum().reset_index()\n",
        "male_data.rename(columns={'VALUE': 'male_employees'}, inplace=True)\n",
        "\n",
        "female_data = df_transformed[df_transformed['SEX'] == 'หญิง'].groupby(['YEAR', 'QUARTER', 'YEAR_QUARTER'])['VALUE'].sum().reset_index()\n",
        "female_data.rename(columns={'VALUE': 'female_employees'}, inplace=True)\n",
        "\n",
        "# รวมข้อมูล\n",
        "time_summary = pd.merge(time_summary, male_data, on=['YEAR', 'QUARTER', 'YEAR_QUARTER'], how='left')\n",
        "time_summary = pd.merge(time_summary, female_data, on=['YEAR', 'QUARTER', 'YEAR_QUARTER'], how='left')\n",
        "\n",
        "# คำนวณสัดส่วนเพศ\n",
        "time_summary['male_ratio'] = (time_summary['male_employees'] / time_summary['total_employees'] * 100).round(2)\n",
        "time_summary['female_ratio'] = (time_summary['female_employees'] / time_summary['total_employees'] * 100).round(2)\n",
        "\n",
        "print(\"\\nตารางสรุปตามปีและไตรมาส:\")\n",
        "display(time_summary.head())\n",
        "\n",
        "# 3. ตารางสรุปตามจังหวัด\n",
        "province_summary = df_transformed.groupby(['PROVINCE', 'SEX']).agg(\n",
        "    avg_employees=('VALUE', 'mean'),\n",
        "    min_employees=('VALUE', 'min'),\n",
        "    max_employees=('VALUE', 'max'),\n",
        "    count=('VALUE', 'count')\n",
        ").reset_index()\n",
        "\n",
        "print(\"\\nตารางสรุปตามจังหวัด:\")\n",
        "display(province_summary.head())"
      ]
    },
    {
      "cell_type": "markdown",
      "metadata": {},
      "source": [
        "## 9. บันทึกข้อมูลที่แปลงแล้ว"
      ]
    },
    {
      "cell_type": "code",
      "execution_count": null,
      "metadata": {},
      "source": [
        "# บันทึกข้อมูลที่แปลงแล้ว\n",
        "transformed_data_path = f\"{project_path}/transformed_employee_data.csv\"\n",
        "df_transformed.to_csv(transformed_data_path, index=False)\n",
        "print(f\"บันทึกข้อมูลที่แปลงแล้วไปยัง {transformed_data_path} สำเร็จ\")\n",
        "\n",
        "# บันทึกตารางสรุป\n",
        "region_summary_path = f\"{project_path}/region_summary.csv\"\n",
        "region_summary.to_csv(region_summary_path, index=False)\n",
        "print(f\"บันทึกตารางสรุปตามภูมิภาคไปยัง {region_summary_path} สำเร็จ\")\n",
        "\n",
        "time_summary_path = f\"{project_path}/time_summary.csv\"\n",
        "time_summary.to_csv(time_summary_path, index=False)\n",
        "print(f\"บันทึกตารางสรุปตามปีและไตรมาสไปยัง {time_summary_path} สำเร็จ\")\n",
        "\n",
        "province_summary_path = f\"{project_path}/province_summary.csv\"\n",
        "province_summary.to_csv(province_summary_path, index=False)\n",
        "print(f\"บันทึกตารางสรุปตามจังหวัดไปยัง {province_summary_path} สำเร็จ\")"
      ]
    },
    {
      "cell_type": "markdown",
      "metadata": {},
      "source": [
        "## 10. สรุปผลการแปลงข้อมูล"
      ]
    },
    {
      "cell_type": "code",
      "execution_count": null,
      "metadata": {},
      "source": [
        "# สรุปผลการแปลงข้อมูล\n",
        "print(\"สรุปผลการแปลงข้อมูล:\")\n",
        "print(f\"1. แปลงข้อมูลจำนวน {df.shape[0]} แถว\")\n",
        "print(f\"2. เพิ่มคอลัมน์ใหม่จาก {df.shape[1]} คอลัมน์ เป็น {df_transformed.shape[1]} คอลัมน์\")\n",
        "print(\"3. เพิ่มคอลัมน์ใหม่:\")\n",
        "new_columns = set(df_transformed.columns) - set(df.columns)\n",
        "for col in new_columns:\n",
        "    print(f\"   - {col}\")\n",
        "print(\"4. สร้างตารางสรุปเพิ่มเติม:\")\n",
        "print(f\"   - ตารางสรุปตามภูมิภาค ({region_summary.shape[0]} แถว, {region_summary.shape[1]} คอลัมน์)\")\n",
        "print(f\"   - ตารางสรุปตามปีและไตรมาส ({time_summary.shape[0]} แถว, {time_summary.shape[1]} คอลัมน์)\")\n",
        "print(f\"   - ตารางสรุปตามจังหวัด ({province_summary.shape[0]} แถว, {province_summary.shape[1]} คอลัมน์)\")"
      ]
    },
    {
      "cell_type": "markdown",
      "metadata": {},
      "source": [
        "## 11. ข้อมูลเสร็จพร้อมสำหรับการโหลดลงฐานข้อมูล (Data Loading)\n",
        "\n",
        "ดำเนินการแปลงข้อมูลเสร็จสิ้น ข้อมูลพร้อมสำหรับขั้นตอนการโหลดข้อมูลลงฐานข้อมูล SQLite ในไฟล์ `03_Data_Loading_SQLite.ipynb`"
      ]
    }
  ],
  "metadata": {
    "kernelspec": {
      "display_name": "Python 3",
      "language": "python",
      "name": "python3"
    },
    "language_info": {
      "codemirror_mode": {
        "name": "ipython",
        "version": 3
      },
      "file_extension": ".py",
      "mimetype": "text/x-python",
      "name": "python",
      "nbconvert_exporter": "python",
      "pygments_lexer": "ipython3",
      "version": "3.8.10"
    }
  },
  "nbformat": 4,
  "nbformat_minor": 4
}