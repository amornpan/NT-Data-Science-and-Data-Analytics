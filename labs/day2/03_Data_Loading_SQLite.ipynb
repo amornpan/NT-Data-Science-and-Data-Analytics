{
  "cells": [
    {
      "cell_type": "markdown",
      "metadata": {},
      "source": [
        "# ส่วนที่ 3: การโหลดข้อมูลลง SQLite (Data Loading)\n",
        "\n",
        "Notebook นี้แสดงขั้นตอนการโหลดข้อมูลลงในฐานข้อมูล SQLite และการตรวจสอบความถูกต้องของข้อมูล"
      ]
    },
    {
      "cell_type": "markdown",
      "metadata": {},
      "source": [
        "## 1. ติดตั้งแพ็คเกจที่จำเป็น"
      ]
    },
    {
      "cell_type": "code",
      "execution_count": null,
      "metadata": {},
      "source": [
        "# ติดตั้งแพ็คเกจที่จำเป็น\n",
        "!pip install pandas numpy matplotlib seaborn sqlalchemy"
      ]
    },
    {
      "cell_type": "markdown",
      "metadata": {},
      "source": [
        "## 2. Import Libraries"
      ]
    },
    {
      "cell_type": "code",
      "execution_count": null,
      "metadata": {},
      "source": [
        "import pandas as pd\n",
        "import numpy as np\n",
        "import sqlite3\n",
        "import os\n",
        "import matplotlib.pyplot as plt\n",
        "import seaborn as sns\n",
        "from datetime import datetime\n",
        "from sqlalchemy import create_engine\n",
        "\n",
        "# ตั้งค่าการแสดงผลกราฟให้สวยงาม\n",
        "plt.style.use('ggplot')\n",
        "sns.set(style='whitegrid')\n",
        "\n",
        "# ตั้งค่าให้แสดงข้อมูลภาษาไทยได้\n",
        "plt.rcParams['font.family'] = 'DejaVu Sans'\n",
        "\n",
        "# แสดงเวอร์ชันของแพ็คเกจ\n",
        "print(f\"Pandas version: {pd.__version__}\")\n",
        "print(f\"SQLite version: {sqlite3.sqlite_version}\")"
      ]
    },
    {
      "cell_type": "markdown",
      "metadata": {},
      "source": [
        "## 3. กำหนดพาธของโปรเจค"
      ]
    },
    {
      "cell_type": "code",
      "execution_count": null,
      "metadata": {},
      "source": [
        "# กำหนดพาธหลักสำหรับโปรเจค\n",
        "project_path = './Employee_Data_Analytics_Project'  # ปรับตามโครงสร้างของคุณ\n",
        "\n",
        "# แสดงไฟล์ในโปรเจค\n",
        "print(\"ไฟล์ในโปรเจค:\")\n",
        "for file in os.listdir(project_path):\n",
        "    print(f\"- {file}\")"
      ]
    },
    {
      "cell_type": "markdown",
      "metadata": {},
      "source": [
        "## 4. โหลดข้อมูลที่แปลงแล้ว"
      ]
    },
    {
      "cell_type": "code",
      "execution_count": null,
      "metadata": {},
      "source": [
        "# โหลดข้อมูลที่แปลงแล้ว\n",
        "transformed_data_path = f\"{project_path}/transformed_employee_data.csv\"\n",
        "\n",
        "if os.path.exists(transformed_data_path):\n",
        "    df_transformed = pd.read_csv(transformed_data_path)\n",
        "    print(f\"โหลดข้อมูลจาก {transformed_data_path} สำเร็จ\")\n",
        "    print(f\"ข้อมูลมีทั้งหมด {df_transformed.shape[0]} แถว และ {df_transformed.shape[1]} คอลัมน์\")\n",
        "else:\n",
        "    print(f\"ไม่พบไฟล์ {transformed_data_path}\")\n",
        "    print(\"กรุณารันไฟล์ 02_Data_Transformation.ipynb ก่อน\")\n",
        "    # ทางเลือกสำหรับกรณีไม่พบไฟล์\n",
        "    print(\"จะโหลดข้อมูลจากไฟล์ต้นฉบับและทำการแปลงข้อมูลอย่างง่ายแทน\")\n",
        "    \n",
        "    # โหลดข้อมูลต้นฉบับ\n",
        "    original_data_path = f\"{project_path}/dataset_employee.csv\"\n",
        "    df = pd.read_csv(original_data_path)\n",
        "    \n",
        "    # แปลงข้อมูลอย่างง่าย\n",
        "    df_transformed = df.copy()\n",
        "    df_transformed['YEAR_CE'] = df_transformed['YEAR'] - 543\n",
        "    \n",
        "    # แปลงไตรมาสเป็นตัวเลข\n",
        "    quarter_map = {\n",
        "        'ไตรมาสที่ 1': 1,\n",
        "        'ไตรมาสที่ 2': 2,\n",
        "        'ไตรมาสที่ 3': 3,\n",
        "        'ไตรมาสที่ 4': 4\n",
        "    }\n",
        "    df_transformed['QUARTER_NUM'] = df_transformed['QUARTER'].map(quarter_map)\n",
        "    \n",
        "    # สร้างคอลัมน์วันที่โดยประมาณ\n",
        "    def get_quarter_date(row):\n",
        "        year = row['YEAR_CE']\n",
        "        quarter = row['QUARTER_NUM']\n",
        "        if quarter == 1:\n",
        "            return f\"{year}-02-15\"\n",
        "        elif quarter == 2:\n",
        "            return f\"{year}-05-15\"\n",
        "        elif quarter == 3:\n",
        "            return f\"{year}-08-15\"\n",
        "        elif quarter == 4:\n",
        "            return f\"{year}-11-15\"\n",
        "\n",
        "    df_transformed['ESTIMATED_DATE'] = df_transformed.apply(get_quarter_date, axis=1)\n",
        "    df_transformed['ESTIMATED_DATE'] = pd.to_datetime(df_transformed['ESTIMATED_DATE'])\n",
        "    \n",
        "    # สร้างคอลัมน์ YEAR_QUARTER\n",
        "    df_transformed['YEAR_QUARTER'] = df_transformed['YEAR'].astype(str) + '-Q' + df_transformed['QUARTER_NUM'].astype(str)\n",
        "    \n",
        "    print(f\"สร้างข้อมูลทดแทนสำเร็จ: {df_transformed.shape[0]} แถว และ {df_transformed.shape[1]} คอลัมน์\")\n",
        "\n",
        "# โหลดตารางสรุปต่างๆ\n",
        "region_summary_path = f\"{project_path}/region_summary.csv\"\n",
        "time_summary_path = f\"{project_path}/time_summary.csv\"\n",
        "province_summary_path = f\"{project_path}/province_summary.csv\"\n",
        "\n",
        "# ตรวจสอบและโหลดข้อมูลสรุปตามภูมิภาค\n",
        "if os.path.exists(region_summary_path):\n",
        "    df_region = pd.read_csv(region_summary_path)\n",
        "    print(f\"โหลดข้อมูลสรุปตามภูมิภาคจาก {region_summary_path} สำเร็จ\")\n",
        "else:\n",
        "    print(f\"ไม่พบไฟล์ {region_summary_path} จะสร้างข้อมูลสรุปจากข้อมูลที่มี\")\n",
        "    df_region = df_transformed.groupby(['YEAR', 'QUARTER', 'REGION', 'SEX']).agg(\n",
        "        total_employees=('VALUE', 'sum'),\n",
        "        avg_employees=('VALUE', 'mean'),\n",
        "        min_employees=('VALUE', 'min'),\n",
        "        max_employees=('VALUE', 'max'),\n",
        "        province_count=('PROVINCE', 'nunique')\n",
        "    ).reset_index()\n",
        "\n",
        "# ตรวจสอบและโหลดข้อมูลสรุปตามเวลา\n",
        "if os.path.exists(time_summary_path):\n",
        "    df_time = pd.read_csv(time_summary_path)\n",
        "    print(f\"โหลดข้อมูลสรุปตามเวลาจาก {time_summary_path} สำเร็จ\")\n",
        "else:\n",
        "    print(f\"ไม่พบไฟล์ {time_summary_path} จะสร้างข้อมูลสรุปจากข้อมูลที่มี\")\n",
        "    df_time = df_transformed.groupby(['YEAR', 'QUARTER', 'YEAR_QUARTER'])['VALUE'].sum().reset_index()\n",
        "    df_time.rename(columns={'VALUE': 'total_employees'}, inplace=True)\n",
        "\n",
        "# ตรวจสอบและโหลดข้อมูลสรุปตามจังหวัด\n",
        "if os.path.exists(province_summary_path):\n",
        "    df_province = pd.read_csv(province_summary_path)\n",
        "    print(f\"โหลดข้อมูลสรุปตามจังหวัดจาก {province_summary_path} สำเร็จ\")\n",
        "else:\n",
        "    print(f\"ไม่พบไฟล์ {province_summary_path} จะสร้างข้อมูลสรุปจากข้อมูลที่มี\")\n",
        "    df_province = df_transformed.groupby(['PROVINCE', 'SEX']).agg(\n",
        "        avg_employees=('VALUE', 'mean'),\n",
        "        min_employees=('VALUE', 'min'),\n",
        "        max_employees=('VALUE', 'max'),\n",
        "        count=('VALUE', 'count')\n",
        "    ).reset_index()"
      ]
    },
    {
      "cell_type": "markdown",
      "metadata": {},
      "source": [
        "## 5. แปลง Data Type ให้เหมาะสมก่อนโหลดลงฐานข้อมูล"
      ]
    },
    {
      "cell_type": "code",
      "execution_count": null,
      "metadata": {},
      "source": [
        "# แปลง Data Type ให้เหมาะสมสำหรับ SQLite\n",
        "# แปลงคอลัมน์วันที่เป็น string ในรูปแบบ ISO\n",
        "if 'ESTIMATED_DATE' in df_transformed.columns and pd.api.types.is_datetime64_any_dtype(df_transformed['ESTIMATED_DATE']):\n",
        "    df_transformed['ESTIMATED_DATE'] = df_transformed['ESTIMATED_DATE'].dt.strftime('%Y-%m-%d')\n",
        "    print(\"แปลงคอลัมน์ ESTIMATED_DATE เป็น ISO date string\")\n",
        "\n",
        "# ตรวจสอบและจัดการค่า NaN\n",
        "print(\"\\nตรวจสอบค่า NaN ในแต่ละตาราง:\")\n",
        "print(f\"- ตารางหลัก: {df_transformed.isnull().sum().sum()} ค่า\")\n",
        "print(f\"- ตารางสรุปตามภูมิภาค: {df_region.isnull().sum().sum()} ค่า\")\n",
        "print(f\"- ตารางสรุปตามเวลา: {df_time.isnull().sum().sum()} ค่า\")\n",
        "print(f\"- ตารางสรุปตามจังหวัด: {df_province.isnull().sum().sum()} ค่า\")\n",
        "\n",
        "# แทนค่า NaN ด้วย NULL สำหรับ SQLite\n",
        "# (SQLite จะแปลง NaN เป็น NULL โดยอัตโนมัติเมื่อใช้ pandas to_sql)"
      ]
    },
    {
      "cell_type": "markdown",
      "metadata": {},
      "source": [
        "## 6. สร้างฐานข้อมูล SQLite และโหลดข้อมูล"
      ]
    },
    {
      "cell_type": "code",
      "execution_count": null,
      "metadata": {},
      "source": [
        "# กำหนดพาธของฐานข้อมูล SQLite\n",
        "db_path = f\"{project_path}/employee_database.db\"\n",
        "\n",
        "# สร้างการเชื่อมต่อกับฐานข้อมูล SQLite\n",
        "conn = sqlite3.connect(db_path)\n",
        "print(f\"เชื่อมต่อกับฐานข้อมูล {db_path} สำเร็จ\")\n",
        "\n",
        "# สร้างเอนจินสำหรับ SQLAlchemy\n",
        "engine = create_engine(f'sqlite:///{db_path}')\n",
        "\n",
        "# โหลดข้อมูลลงในฐานข้อมูล SQLite\n",
        "try:\n",
        "    # โหลดข้อมูลหลัก\n",
        "    df_transformed.to_sql('employee_stats', engine, if_exists='replace', index=False)\n",
        "    print(\"โหลดข้อมูลหลักลงฐานข้อมูลสำเร็จ\")\n",
        "    \n",
        "    # โหลดข้อมูลสรุปตามภูมิภาค\n",
        "    df_region.to_sql('region_summary', engine, if_exists='replace', index=False)\n",
        "    print(\"โหลดข้อมูลสรุปตามภูมิภาคลงฐานข้อมูลสำเร็จ\")\n",
        "    \n",
        "    # โหลดข้อมูลสรุปตามเวลา\n",
        "    df_time.to_sql('time_summary', engine, if_exists='replace', index=False)\n",
        "    print(\"โหลดข้อมูลสรุปตามเวลาลงฐานข้อมูลสำเร็จ\")\n",
        "    \n",
        "    # โหลดข้อมูลสรุปตามจังหวัด\n",
        "    df_province.to_sql('province_summary', engine, if_exists='replace', index=False)\n",
        "    print(\"โหลดข้อมูลสรุปตามจังหวัดลงฐานข้อมูลสำเร็จ\")\n",
        "    \n",
        "    print(\"\\nโหลดข้อมูลทั้งหมดลงฐานข้อมูลสำเร็จ\")\n",
        "except Exception as e:\n",
        "    print(f\"เกิดข้อผิดพลาดในการโหลดข้อมูล: {e}\")"
      ]
    },
    {
      "cell_type": "markdown",
      "metadata": {},
      "source": [
        "## 7. สร้าง Index เพื่อเพิ่มประสิทธิภาพในการสืบค้นข้อมูล"
      ]
    },
    {
      "cell_type": "code",
      "execution_count": null,
      "metadata": {},
      "source": [
        "# สร้าง Index เพื่อเพิ่มประสิทธิภาพในการสืบค้นข้อมูล\n",
        "try:\n",
        "    cursor = conn.cursor()\n",
        "    \n",
        "    # สร้าง Index สำหรับตารางหลัก\n",
        "    cursor.execute(\"CREATE INDEX IF NOT EXISTS idx_year_quarter ON employee_stats (YEAR, QUARTER)\")\n",
        "    cursor.execute(\"CREATE INDEX IF NOT EXISTS idx_region ON employee_stats (REGION)\")\n",
        "    cursor.execute(\"CREATE INDEX IF NOT EXISTS idx_province ON employee_stats (PROVINCE)\")\n",
        "    cursor.execute(\"CREATE INDEX IF NOT EXISTS idx_sex ON employee_stats (SEX)\")\n",
        "    cursor.execute(\"CREATE INDEX IF NOT EXISTS idx_estimated_date ON employee_stats (ESTIMATED_DATE)\")\n",
        "    \n",
        "    # สร้าง Index สำหรับตารางสรุปตามภูมิภาค\n",
        "    cursor.execute(\"CREATE INDEX IF NOT EXISTS idx_region_summary_region ON region_summary (REGION)\")\n",
        "    \n",
        "    # สร้าง Index สำหรับตารางสรุปตามเวลา\n",
        "    cursor.execute(\"CREATE INDEX IF NOT EXISTS idx_time_summary_year_quarter ON time_summary (YEAR, QUARTER)\")\n",
        "    \n",
        "    # สร้าง Index สำหรับตารางสรุปตามจังหวัด\n",
        "    cursor.execute(\"CREATE INDEX IF NOT EXISTS idx_province_summary_province ON province_summary (PROVINCE)\")\n",
        "    \n",
        "    conn.commit()\n",
        "    print(\"สร้าง Index ทั้งหมดสำเร็จ\")\n",
        "except Exception as e:\n",
        "    print(f\"เกิดข้อผิดพลาดในการสร้าง Index: {e}\")"
      ]
    },
    {
      "cell_type": "markdown",
      "metadata": {},
      "source": [
        "## 8. ตรวจสอบข้อมูลในฐานข้อมูล"
      ]
    },
    {
      "cell_type": "code",
      "execution_count": null,
      "metadata": {},
      "source": [
        "# ตรวจสอบข้อมูลในฐานข้อมูล\n",
        "try:\n",
        "    # ตรวจสอบตารางทั้งหมดในฐานข้อมูล\n",
        "    cursor = conn.cursor()\n",
        "    cursor.execute(\"SELECT name FROM sqlite_master WHERE type='table';\")\n",
        "    tables = cursor.fetchall()\n",
        "    \n",
        "    print(\"ตารางทั้งหมดในฐานข้อมูล:\")\n",
        "    for table in tables:\n",
        "        cursor.execute(f\"SELECT COUNT(*) FROM {table[0]}\")\n",
        "        count = cursor.fetchone()[0]\n",
        "        print(f\"- {table[0]}: {count} แถว\")\n",
        "        \n",
        "        # แสดงโครงสร้างของตาราง\n",
        "        cursor.execute(f\"PRAGMA table_info({table[0]})\")\n",
        "        columns = cursor.fetchall()\n",
        "        print(f\"  ประกอบด้วยคอลัมน์: {len(columns)} คอลัมน์\")\n",
        "        \n",
        "        # แสดงตัวอย่างข้อมูล 3 แถวแรก\n",
        "        query = f\"SELECT * FROM {table[0]} LIMIT 3\"\n",
        "        sample_data = pd.read_sql_query(query, conn)\n",
        "        print(f\"  ตัวอย่างข้อมูล {table[0]}:\")\n",
        "        display(sample_data)\n",
        "except Exception as e:\n",
        "    print(f\"เกิดข้อผิดพลาดในการตรวจสอบข้อมูล: {e}\")"
      ]
    },
    {
      "cell_type": "markdown",
      "metadata": {},
      "source": [
        "## 9. ทดสอบการสืบค้นข้อมูลด้วย SQL"
      ]
    },
    {
      "cell_type": "code",
      "execution_count": null,
      "metadata": {},
      "source": [
        "# ทดสอบการสืบค้นข้อมูลด้วย SQL\n",
        "try:\n",
        "    # 1. จำนวนพนักงานทั้งหมดแยกตามภูมิภาค\n",
        "    query1 = \"\"\"\n",
        "    SELECT REGION, SUM(VALUE) as TOTAL_EMPLOYEES\n",
        "    FROM employee_stats\n",
        "    GROUP BY REGION\n",
        "    ORDER BY TOTAL_EMPLOYEES DESC\n",
        "    \"\"\"\n",
        "    result1 = pd.read_sql_query(query1, conn)\n",
        "    print(\"1. จำนวนพนักงานทั้งหมดแยกตามภูมิภาค:\")\n",
        "    display(result1)\n",
        "    \n",
        "    # 2. จำนวนพนักงานแยกตามเพศในแต่ละปีและไตรมาส\n",
        "    query2 = \"\"\"\n",
        "    SELECT YEAR, QUARTER, SEX, SUM(VALUE) as TOTAL_EMPLOYEES\n",
        "    FROM employee_stats\n",
        "    GROUP BY YEAR, QUARTER, SEX\n",
        "    ORDER BY YEAR, QUARTER, SEX\n",
        "    \"\"\"\n",
        "    result2 = pd.read_sql_query(query2, conn)\n",
        "    print(\"\\n2. จำนวนพนักงานแยกตามเพศในแต่ละปีและไตรมาส:\")\n",
        "    display(result2.head(10))\n",
        "    \n",
        "    # 3. จังหวัดที่มีพนักงานมากที่สุด 10 อันดับแรก\n",
        "    query3 = \"\"\"\n",
        "    SELECT PROVINCE, SUM(VALUE) as TOTAL_EMPLOYEES\n",
        "    FROM employee_stats\n",
        "    GROUP BY PROVINCE\n",
        "    ORDER BY TOTAL_EMPLOYEES DESC\n",
        "    LIMIT 10\n",
        "    \"\"\"\n",
        "    result3 = pd.read_sql_query(query3, conn)\n",
        "    print(\"\\n3. จังหวัดที่มีพนักงานมากที่สุด 10 อันดับแรก:\")\n",
        "    display(result3)\n",
        "    \n",
        "    # 4. แนวโน้มจำนวนพนักงานตามไตรมาส\n",
        "    query4 = \"\"\"\n",
        "    SELECT YEAR, QUARTER, SUM(VALUE) as TOTAL_EMPLOYEES\n",
        "    FROM employee_stats\n",
        "    GROUP BY YEAR, QUARTER\n",
        "    ORDER BY YEAR, QUARTER\n",
        "    \"\"\"\n",
        "    result4 = pd.read_sql_query(query4, conn)\n",
        "    print(\"\\n4. แนวโน้มจำนวนพนักงานตามไตรมาส:\")\n",
        "    display(result4.head(10))\n",
        "    \n",
        "    # 5. สัดส่วนชาย-หญิงในแต่ละภูมิภาค\n",
        "    query5 = \"\"\"\n",
        "    SELECT REGION, SEX, SUM(VALUE) as TOTAL_EMPLOYEES,\n",
        "           ROUND(SUM(VALUE) * 100.0 / (\n",
        "               SELECT SUM(VALUE) FROM employee_stats e2 WHERE e2.REGION = e1.REGION\n",
        "           ), 2) as PERCENTAGE\n",
        "    FROM employee_stats e1\n",
        "    GROUP BY REGION, SEX\n",
        "    ORDER BY REGION, SEX\n",
        "    \"\"\"\n",
        "    result5 = pd.read_sql_query(query5, conn)\n",
        "    print(\"\\n5. สัดส่วนชาย-หญิงในแต่ละภูมิภาค:\")\n",
        "    display(result5)\n",
        "except Exception as e:\n",
        "    print(f\"เกิดข้อผิดพลาดในการสืบค้นข้อมูล: {e}\")"
      ]
    },
    {
      "cell_type": "markdown",
      "metadata": {},
      "source": [
        "## 10. สรุปผลการโหลดข้อมูลลงฐานข้อมูล"
      ]
    },
    {
      "cell_type": "code",
      "execution_count": null,
      "metadata": {},
      "source": [
        "# สรุปผลการโหลดข้อมูลลงฐานข้อมูล\n",
        "print(\"สรุปผลการโหลดข้อมูลลงฐานข้อมูล:\")\n",
        "print(f\"1. สร้างฐานข้อมูล {db_path} สำเร็จ\")\n",
        "print(f\"2. โหลดข้อมูลลงในตาราง:\")\n",
        "cursor = conn.cursor()\n",
        "cursor.execute(\"SELECT name FROM sqlite_master WHERE type='table';\")\n",
        "tables = cursor.fetchall()\n",
        "for table in tables:\n",
        "    cursor.execute(f\"SELECT COUNT(*) FROM {table[0]}\")\n",
        "    count = cursor.fetchone()[0]\n",
        "    print(f\"   - {table[0]}: {count} แถว\")\n",
        "print(\"3. สร้าง Index เพื่อเพิ่มประสิทธิภาพในการสืบค้นข้อมูลสำเร็จ\")\n",
        "print(\"4. ทดสอบการสืบค้นข้อมูลด้วย SQL สำเร็จ\")\n",
        "print(\"\\nข้อมูลพร้อมสำหรับการวิเคราะห์และการสร้างแดชบอร์ด\")\n",
        "\n",
        "# ปิดการเชื่อมต่อกับฐานข้อมูล\n",
        "conn.close()\n",
        "print(\"ปิดการเชื่อมต่อกับฐานข้อมูลสำเร็จ\")"
      ]
    },
    {
      "cell_type": "markdown",
      "metadata": {},
      "source": [
        "## 11. ข้อมูลเสร็จพร้อมสำหรับการวิเคราะห์และการสร้างแดชบอร์ด\n",
        "\n",
        "ดำเนินการโหลดข้อมูลลงฐานข้อมูล SQLite เสร็จสิ้น ข้อมูลพร้อมสำหรับขั้นตอนการวิเคราะห์และการสร้างแดชบอร์ดใน Power BI ในไฟล์ `04_Data_Visualization.ipynb` และ `05_PowerBI_Design_Guide.ipynb`"
      ]
    }
  ],
  "metadata": {
    "kernelspec": {
      "display_name": "Python 3",
      "language": "python",
      "name": "python3"
    },
    "language_info": {
      "codemirror_mode": {
        "name": "ipython",
        "version": 3
      },
      "file_extension": ".py",
      "mimetype": "text/x-python",
      "name": "python",
      "nbconvert_exporter": "python",
      "pygments_lexer": "ipython3",
      "version": "3.8.10"
    }
  },
  "nbformat": 4,
  "nbformat_minor": 4
}