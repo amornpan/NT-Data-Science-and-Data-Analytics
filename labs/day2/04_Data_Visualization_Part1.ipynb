{
  "cells": [
    {
      "cell_type": "markdown",
      "metadata": {},
      "source": [
        "# ส่วนที่ 4.1: การวิเคราะห์และสร้างตัวอย่างการแสดงผล (Data Visualization) - ตอนที่ 1\n",
        "\n",
        "Notebook นี้แสดงตัวอย่างการวิเคราะห์ข้อมูลและการสร้างกราฟแบบต่างๆ ที่จะนำไปสร้างใน Power BI (ส่วนที่ 1)"
      ]
    },
    {
      "cell_type": "markdown",
      "metadata": {},
      "source": [
        "## 1. ติดตั้งแพ็คเกจที่จำเป็น"
      ]
    },
    {
      "cell_type": "code",
      "execution_count": null,
      "metadata": {},
      "source": [
        "# ติดตั้งแพ็คเกจที่จำเป็น\n",
        "!pip install pandas numpy matplotlib seaborn sqlite3 sqlalchemy plotly"
      ]
    },
    {
      "cell_type": "markdown",
      "metadata": {},
      "source": [
        "## 2. Import Libraries"
      ]
    },
    {
      "cell_type": "code",
      "execution_count": null,
      "metadata": {},
      "source": [
        "import pandas as pd\n",
        "import numpy as np\n",
        "import matplotlib.pyplot as plt\n",
        "import seaborn as sns\n",
        "import sqlite3\n",
        "import os\n",
        "from datetime import datetime\n",
        "from sqlalchemy import create_engine\n",
        "import plotly.express as px\n",
        "import plotly.graph_objects as go\n",
        "from IPython.display import display, HTML\n",
        "\n",
        "# ตั้งค่าการแสดงผลกราฟให้สวยงาม\n",
        "plt.style.use('ggplot')\n",
        "sns.set(style='whitegrid')\n",
        "\n",
        "# ตั้งค่าให้แสดงข้อมูลภาษาไทยได้\n",
        "plt.rcParams['font.family'] = 'DejaVu Sans'\n",
        "\n",
        "# แสดงเวอร์ชันของแพ็คเกจ\n",
        "print(f\"Pandas version: {pd.__version__}\")\n",
        "print(f\"Matplotlib version: {plt.__version__}\")\n",
        "print(f\"Seaborn version: {sns.__version__}\")\n",
        "try:\n",
        "    print(f\"Plotly version: {px.__version__}\")\n",
        "except:\n",
        "    print(\"Plotly not installed or version info not available\")"
      ]
    },
    {
      "cell_type": "markdown",
      "metadata": {},
      "source": [
        "## 3. กำหนดพาธของโปรเจค"
      ]
    },
    {
      "cell_type": "code",
      "execution_count": null,
      "metadata": {},
      "source": [
        "# กำหนดพาธหลักสำหรับโปรเจค\n",
        "project_path = './Employee_Data_Analytics_Project'  # ปรับตามโครงสร้างของคุณ\n",
        "\n",
        "# สร้างโฟลเดอร์สำหรับเก็บรูปภาพ (ถ้ายังไม่มี)\n",
        "viz_folder = f\"{project_path}/visualizations\"\n",
        "if not os.path.exists(viz_folder):\n",
        "    os.makedirs(viz_folder)\n",
        "    print(f\"สร้างโฟลเดอร์ {viz_folder} สำเร็จ\")\n",
        "else:\n",
        "    print(f\"โฟลเดอร์ {viz_folder} มีอยู่แล้ว\")\n",
        "\n",
        "# แสดงไฟล์ในโปรเจค\n",
        "print(\"\\nไฟล์ในโปรเจค:\")\n",
        "for file in os.listdir(project_path):\n",
        "    if os.path.isfile(os.path.join(project_path, file)):\n",
        "        print(f\"- {file}\")"
      ]
    },
    {
      "cell_type": "markdown",
      "metadata": {},
      "source": [
        "## 4. เชื่อมต่อกับฐานข้อมูล SQLite"
      ]
    },
    {
      "cell_type": "code",
      "execution_count": null,
      "metadata": {},
      "source": [
        "# กำหนดพาธของฐานข้อมูล SQLite\n",
        "db_path = f\"{project_path}/employee_database.db\"\n",
        "\n",
        "# ตรวจสอบว่าไฟล์ฐานข้อมูลมีอยู่หรือไม่\n",
        "if not os.path.exists(db_path):\n",
        "    print(f\"ไม่พบไฟล์ฐานข้อมูล {db_path}\")\n",
        "    print(\"กรุณารันไฟล์ 03_Data_Loading_SQLite.ipynb ก่อน\")\n",
        "    raise FileNotFoundError(f\"ไม่พบไฟล์ฐานข้อมูล {db_path}\")\n",
        "\n",
        "# สร้างการเชื่อมต่อกับฐานข้อมูล SQLite\n",
        "conn = sqlite3.connect(db_path)\n",
        "print(f\"เชื่อมต่อกับฐานข้อมูล {db_path} สำเร็จ\")\n",
        "\n",
        "# สร้างเอนจินสำหรับ SQLAlchemy\n",
        "engine = create_engine(f'sqlite:///{db_path}')\n",
        "\n",
        "# ตรวจสอบตารางทั้งหมดในฐานข้อมูล\n",
        "cursor = conn.cursor()\n",
        "cursor.execute(\"SELECT name FROM sqlite_master WHERE type='table';\")\n",
        "tables = cursor.fetchall()\n",
        "\n",
        "print(\"\\nตารางทั้งหมดในฐานข้อมูล:\")\n",
        "for table in tables:\n",
        "    cursor.execute(f\"SELECT COUNT(*) FROM {table[0]}\")\n",
        "    count = cursor.fetchone()[0]\n",
        "    print(f\"- {table[0]}: {count} แถว\")"
      ]
    },
    {
      "cell_type": "markdown",
      "metadata": {},
      "source": [
        "## 5. โหลดข้อมูลจากฐานข้อมูล"
      ]
    },
    {
      "cell_type": "code",
      "execution_count": null,
      "metadata": {},
      "source": [
        "# กำหนดชื่อตาราง\n",
        "employee_table = 'employee_stats'\n",
        "region_table = 'region_summary'\n",
        "time_table = 'time_summary'\n",
        "province_table = 'province_summary'\n",
        "\n",
        "# โหลดข้อมูลหลัก\n",
        "df_employee = pd.read_sql_query(f\"SELECT * FROM {employee_table}\", conn)\n",
        "print(f\"โหลดข้อมูลจากตาราง {employee_table} สำเร็จ: {df_employee.shape[0]} แถว, {df_employee.shape[1]} คอลัมน์\")\n",
        "\n",
        "# โหลดข้อมูลสรุปตามภูมิภาค\n",
        "df_region = pd.read_sql_query(f\"SELECT * FROM {region_table}\", conn)\n",
        "print(f\"โหลดข้อมูลจากตาราง {region_table} สำเร็จ: {df_region.shape[0]} แถว, {df_region.shape[1]} คอลัมน์\")\n",
        "\n",
        "# โหลดข้อมูลสรุปตามเวลา\n",
        "df_time = pd.read_sql_query(f\"SELECT * FROM {time_table}\", conn)\n",
        "print(f\"โหลดข้อมูลจากตาราง {time_table} สำเร็จ: {df_time.shape[0]} แถว, {df_time.shape[1]} คอลัมน์\")\n",
        "\n",
        "# โหลดข้อมูลสรุปตามจังหวัด\n",
        "df_province = pd.read_sql_query(f\"SELECT * FROM {province_table}\", conn)\n",
        "print(f\"โหลดข้อมูลจากตาราง {province_table} สำเร็จ: {df_province.shape[0]} แถว, {df_province.shape[1]} คอลัมน์\")\n",
        "\n",
        "# แสดงข้อมูลตัวอย่าง\n",
        "print(\"\\nตัวอย่างข้อมูลหลัก:\")\n",
        "display(df_employee.head())"
      ]
    },
    {
      "cell_type": "markdown",
      "metadata": {},
      "source": [
        "## 6. การจัดเตรียมข้อมูลเพิ่มเติมสำหรับการแสดงผล"
      ]
    },
    {
      "cell_type": "code",
      "execution_count": null,
      "metadata": {},
      "source": [
        "# จัดเตรียมข้อมูลเพิ่มเติมสำหรับการแสดงผล\n",
        "\n",
        "# แปลงวันที่ให้เป็นรูปแบบที่เหมาะสม (ถ้ามี)\n",
        "if 'ESTIMATED_DATE' in df_employee.columns:\n",
        "    if pd.api.types.is_object_dtype(df_employee['ESTIMATED_DATE']):\n",
        "        df_employee['ESTIMATED_DATE'] = pd.to_datetime(df_employee['ESTIMATED_DATE'])\n",
        "\n",
        "# สร้างข้อมูลสรุปเพิ่มเติม\n",
        "# 1. ข้อมูลสรุปตามภูมิภาคและเพศ\n",
        "region_sex_summary = df_employee.groupby(['REGION', 'SEX'])['VALUE'].sum().reset_index()\n",
        "region_sex_summary.rename(columns={'VALUE': 'TOTAL_EMPLOYEES'}, inplace=True)\n",
        "\n",
        "# 2. ข้อมูลสรุปตามปีและไตรมาส\n",
        "time_summary = df_employee.groupby(['YEAR', 'QUARTER', 'QUARTER_NUM'])['VALUE'].sum().reset_index()\n",
        "time_summary.rename(columns={'VALUE': 'TOTAL_EMPLOYEES'}, inplace=True)\n",
        "time_summary = time_summary.sort_values(['YEAR', 'QUARTER_NUM'])\n",
        "\n",
        "# 3. ข้อมูลแนวโน้มตามเพศและเวลา\n",
        "gender_time_trend = df_employee.groupby(['YEAR', 'QUARTER', 'QUARTER_NUM', 'SEX'])['VALUE'].sum().reset_index()\n",
        "gender_time_trend.rename(columns={'VALUE': 'TOTAL_EMPLOYEES'}, inplace=True)\n",
        "gender_time_trend = gender_time_trend.sort_values(['YEAR', 'QUARTER_NUM', 'SEX'])\n",
        "\n",
        "# 4. ข้อมูลจังหวัดที่มีจำนวนพนักงานมากที่สุดในแต่ละภูมิภาค\n",
        "top_provinces = df_employee.groupby(['REGION', 'PROVINCE'])['VALUE'].sum().reset_index()\n",
        "top_provinces.rename(columns={'VALUE': 'TOTAL_EMPLOYEES'}, inplace=True)\n",
        "top_provinces = top_provinces.sort_values(['REGION', 'TOTAL_EMPLOYEES'], ascending=[True, False])\n",
        "top_provinces = top_provinces.groupby('REGION').head(3).reset_index(drop=True)\n",
        "\n",
        "# แสดงข้อมูลที่จัดเตรียม\n",
        "print(\"1. ข้อมูลสรุปตามภูมิภาคและเพศ:\")\n",
        "display(region_sex_summary.head())\n",
        "\n",
        "print(\"\\n2. ข้อมูลสรุปตามปีและไตรมาส:\")\n",
        "display(time_summary.head())\n",
        "\n",
        "print(\"\\n3. ข้อมูลแนวโน้มตามเพศและเวลา:\")\n",
        "display(gender_time_trend.head())\n",
        "\n",
        "print(\"\\n4. ข้อมูลจังหวัดที่มีจำนวนพนักงานมากที่สุดในแต่ละภูมิภาค:\")\n",
        "display(top_provinces.head(10))"
      ]
    },
    {
      "cell_type": "markdown",
      "metadata": {},
      "source": [
        "## 7. การสร้างกราฟและการวิเคราะห์ข้อมูล\n",
        "\n",
        "### 7.1 แผนภูมิแท่งแสดงจำนวนพนักงานตามภูมิภาค"
      ]
    },
    {
      "cell_type": "code",
      "execution_count": null,
      "metadata": {},
      "source": [
        "# แผนภูมิแท่งแสดงจำนวนพนักงานตามภูมิภาค\n",
        "region_total = df_employee.groupby('REGION')['VALUE'].sum().reset_index()\n",
        "region_total = region_total.sort_values('VALUE', ascending=False)\n",
        "\n",
        "plt.figure(figsize=(12, 6))\n",
        "ax = sns.barplot(x='REGION', y='VALUE', data=region_total, palette='viridis')\n",
        "plt.title('จำนวนพนักงานรวมตามภูมิภาค', fontsize=16)\n",
        "plt.xlabel('ภูมิภาค', fontsize=12)\n",
        "plt.ylabel('จำนวนพนักงาน (พันคน)', fontsize=12)\n",
        "plt.xticks(rotation=45)\n",
        "plt.grid(axis='y', linestyle='--', alpha=0.7)\n",
        "\n",
        "# เพิ่มค่าตัวเลขบนแผนภูมิ\n",
        "for i, v in enumerate(region_total['VALUE']):\n",
        "    ax.text(i, v + 5, f'{v:.1f}', ha='center', fontsize=10)\n",
        "\n",
        "plt.tight_layout()\n",
        "plt.savefig(f\"{viz_folder}/region_bar_chart.png\", dpi=300, bbox_inches='tight')\n",
        "plt.show()\n",
        "\n",
        "print(\"การวิเคราะห์: แผนภูมิแท่งเป็นเครื่องมือที่เหมาะสมสำหรับการเปรียบเทียบค่าระหว่างกลุ่มที่แตกต่างกัน (ในกรณีนี้คือภูมิภาค)\")\n",
        "print(\"- เห็นได้ชัดว่า กรุงเทพมหานคร และภาคกลาง มีจำนวนพนักงานมากที่สุด\")\n",
        "print(\"- การเรียงลำดับจากมากไปน้อยช่วยให้เห็นความแตกต่างได้ชัดเจน\")\n",
        "print(\"- แนะนำให้ใช้แผนภูมิแท่งแนวนอนใน Power BI เมื่อมีจำนวนภูมิภาคหรือหมวดหมู่มาก เพื่อให้อ่านชื่อภูมิภาคได้สะดวกขึ้น\")"
      ]
    },
    {
      "cell_type": "markdown",
      "metadata": {},
      "source": [
        "### 7.2 แผนภูมิวงกลมแสดงสัดส่วนพนักงานตามเพศ"
      ]
    },
    {
      "cell_type": "code",
      "execution_count": null,
      "metadata": {},
      "source": [
        "# แผนภูมิวงกลมแสดงสัดส่วนพนักงานตามเพศ\n",
        "gender_total = df_employee.groupby('SEX')['VALUE'].sum().reset_index()\n",
        "total = gender_total['VALUE'].sum()\n",
        "gender_total['PERCENTAGE'] = (gender_total['VALUE'] / total * 100).round(1)\n",
        "\n",
        "colors = ['#3498db', '#e74c3c']\n",
        "plt.figure(figsize=(8, 8))\n",
        "plt.pie(gender_total['VALUE'], labels=gender_total['SEX'], autopct='%1.1f%%', startangle=90, colors=colors,\n",
        "        wedgeprops={'edgecolor': 'white', 'linewidth': 1.5}, textprops={'fontsize': 12})\n",
        "plt.title('สัดส่วนพนักงานตามเพศ', fontsize=16)\n",
        "plt.axis('equal')  # Equal aspect ratio ensures that pie is drawn as a circle\n",
        "\n",
        "# เพิ่มคำอธิบายเพิ่มเติม\n",
        "legend_labels = [f\"{sex}: {value:,.1f} พันคน ({pct}%)\" for sex, value, pct in \n",
        "                 zip(gender_total['SEX'], gender_total['VALUE'], gender_total['PERCENTAGE'])]\n",
        "plt.legend(legend_labels, loc='best', fontsize=10)\n",
        "\n",
        "plt.savefig(f\"{viz_folder}/gender_pie_chart.png\", dpi=300, bbox_inches='tight')\n",
        "plt.show()\n",
        "\n",
        "print(\"การวิเคราะห์: แผนภูมิวงกลมเป็นเครื่องมือที่เหมาะสมสำหรับการแสดงสัดส่วนของข้อมูลเมื่อมีจำนวนหมวดหมู่น้อย (ไม่เกิน 5-7 หมวดหมู่)\")\n",
        "print(f\"- สัดส่วนพนักงานชาย {gender_total['PERCENTAGE'].iloc[0]}% และพนักงานหญิง {gender_total['PERCENTAGE'].iloc[1]}%\")\n",
        "print(\"- แนะนำให้ใช้แผนภูมิวงกลมหรือแผนภูมิโดนัทใน Power BI สำหรับแสดงสัดส่วนที่มีจำนวนหมวดหมู่น้อย\")\n",
        "print(\"- ควรใช้สีที่แตกต่างกันอย่างชัดเจนเพื่อให้แยกแยะได้ง่าย และควรแสดงเปอร์เซ็นต์บนกราฟเพื่อให้อ่านค่าได้ทันที\")"
      ]
    },
    {
      "cell_type": "markdown",
      "metadata": {},
      "source": [
        "### 7.3 แผนภูมิเส้นแสดงแนวโน้มการจ้างงานตามเวลา"
      ]
    },
    {
      "cell_type": "code",
      "execution_count": null,
      "metadata": {},
      "source": [
        "# แผนภูมิเส้นแสดงแนวโน้มการจ้างงานตามเวลา\n",
        "# สร้างข้อมูลแนวโน้มตามเวลา\n",
        "time_trend = df_employee.groupby(['YEAR', 'QUARTER', 'QUARTER_NUM'])['VALUE'].sum().reset_index()\n",
        "time_trend = time_trend.sort_values(['YEAR', 'QUARTER_NUM'])\n",
        "time_trend['YEAR_QUARTER'] = time_trend['YEAR'].astype(str) + '-Q' + time_trend['QUARTER_NUM'].astype(str)\n",
        "\n",
        "plt.figure(figsize=(14, 6))\n",
        "plt.plot(time_trend['YEAR_QUARTER'], time_trend['VALUE'], marker='o', linewidth=2, color='#3498db')\n",
        "plt.title('แนวโน้มการจ้างงานตามไตรมาส', fontsize=16)\n",
        "plt.xlabel('ปี-ไตรมาส', fontsize=12)\n",
        "plt.ylabel('จำนวนพนักงาน (พันคน)', fontsize=12)\n",
        "plt.xticks(rotation=45)\n",
        "plt.grid(True, linestyle='--', alpha=0.7)\n",
        "\n",
        "# เพิ่มเส้นแนวโน้ม (Trend Line)\n",
        "z = np.polyfit(range(len(time_trend)), time_trend['VALUE'], 1)\n",
        "p = np.poly1d(z)\n",
        "plt.plot(time_trend['YEAR_QUARTER'], p(range(len(time_trend))), \"r--\", linewidth=1)\n",
        "\n",
        "plt.tight_layout()\n",
        "plt.savefig(f\"{viz_folder}/time_trend_line_chart.png\", dpi=300, bbox_inches='tight')\n",
        "plt.show()\n",
        "\n",
        "print(\"การวิเคราะห์: แผนภูมิเส้นเป็นเครื่องมือที่เหมาะสมสำหรับการแสดงแนวโน้มตามช่วงเวลา\")\n",
        "print(\"- เห็นได้ชัดว่าจำนวนพนักงานมีการเปลี่ยนแปลงขึ้นลงตามไตรมาส\")\n",
        "print(\"- เส้นแนวโน้ม (เส้นประสีแดง) แสดงให้เห็นแนวโน้มโดยรวมของการจ้างงาน\")\n",
        "print(\"- แนะนำให้ใช้แผนภูมิเส้นใน Power BI สำหรับการแสดงข้อมูลแนวโน้มตามช่วงเวลา\")"
      ]
    },
    {
      "cell_type": "markdown",
      "metadata": {},
      "source": [
        "### 7.4 แผนภูมิเส้นแสดงแนวโน้มการจ้างงานแยกตามเพศ"
      ]
    },
    {
      "cell_type": "code",
      "execution_count": null,
      "metadata": {},
      "source": [
        "# แผนภูมิเส้นแสดงแนวโน้มการจ้างงานแยกตามเพศ\n",
        "gender_time = gender_time_trend.copy()\n",
        "gender_time['YEAR_QUARTER'] = gender_time['YEAR'].astype(str) + '-Q' + gender_time['QUARTER_NUM'].astype(str)\n",
        "\n",
        "plt.figure(figsize=(14, 6))\n",
        "for sex, color in zip(['ชาย', 'หญิง'], ['#3498db', '#e74c3c']):\n",
        "    data = gender_time[gender_time['SEX'] == sex]\n",
        "    plt.plot(data['YEAR_QUARTER'], data['TOTAL_EMPLOYEES'], marker='o', linewidth=2, label=sex, color=color)\n",
        "\n",
        "plt.title('แนวโน้มการจ้างงานตามเพศและไตรมาส', fontsize=16)\n",
        "plt.xlabel('ปี-ไตรมาส', fontsize=12)\n",
        "plt.ylabel('จำนวนพนักงาน (พันคน)', fontsize=12)\n",
        "plt.xticks(rotation=45)\n",
        "plt.grid(True, linestyle='--', alpha=0.7)\n",
        "plt.legend(fontsize=12)\n",
        "\n",
        "plt.tight_layout()\n",
        "plt.savefig(f\"{viz_folder}/gender_time_trend_line_chart.png\", dpi=300, bbox_inches='tight')\n",
        "plt.show()\n",
        "\n",
        "print(\"การวิเคราะห์: แผนภูมิเส้นหลายเส้นช่วยให้เห็นการเปรียบเทียบแนวโน้มระหว่างกลุ่มต่างๆ (ในที่นี้คือเพศ)\")\n",
        "print(\"- สามารถเปรียบเทียบแนวโน้มการจ้างงานระหว่างเพศชายและหญิงได้อย่างชัดเจน\")\n",
        "print(\"- เห็นได้ว่าแนวโน้มการจ้างงานของทั้งสองเพศมีรูปแบบคล้ายกัน แต่มีจำนวนที่แตกต่างกัน\")\n",
        "print(\"- แนะนำให้ใช้แผนภูมิเส้นหลายเส้นใน Power BI สำหรับการเปรียบเทียบแนวโน้มระหว่างกลุ่มต่างๆ\")"
      ]
    },
    {
      "cell_type": "markdown",
      "metadata": {},
      "source": [
        "### 7.5 แผนภูมิแท่งแบบจัดกลุ่มแสดงการเปรียบเทียบจำนวนพนักงานตามเพศและภูมิภาค"
      ]
    },
    {
      "cell_type": "code",
      "execution_count": null,
      "metadata": {},
      "source": [
        "# แผนภูมิแท่งแบบจัดกลุ่มแสดงการเปรียบเทียบจำนวนพนักงานตามเพศและภูมิภาค\n",
        "region_sex = df_employee.groupby(['REGION', 'SEX'])['VALUE'].sum().reset_index()\n",
        "region_sex = region_sex.pivot(index='REGION', columns='SEX', values='VALUE').reset_index()\n",
        "region_sex = region_sex.sort_values('ชาย', ascending=False)\n",
        "\n",
        "plt.figure(figsize=(14, 8))\n",
        "x = np.arange(len(region_sex['REGION']))\n",
        "width = 0.35\n",
        "\n",
        "fig, ax = plt.subplots(figsize=(14, 8))\n",
        "rects1 = ax.bar(x - width/2, region_sex['ชาย'], width, label='ชาย', color='#3498db')\n",
        "rects2 = ax.bar(x + width/2, region_sex['หญิง'], width, label='หญิง', color='#e74c3c')\n",
        "\n",
        "ax.set_title('จำนวนพนักงานตามเพศและภูมิภาค', fontsize=16)\n",
        "ax.set_xlabel('ภูมิภาค', fontsize=12)\n",
        "ax.set_ylabel('จำนวนพนักงาน (พันคน)', fontsize=12)\n",
        "ax.set_xticks(x)\n",
        "ax.set_xticklabels(region_sex['REGION'], rotation=45)\n",
        "ax.legend(fontsize=12)\n",
        "ax.grid(axis='y', linestyle='--', alpha=0.7)\n",
        "\n",
        "# เพิ่มค่าตัวเลขบนแผนภูมิ\n",
        "def autolabel(rects):\n",
        "    for rect in rects:\n",
        "        height = rect.get_height()\n",
        "        ax.annotate(f'{height:.1f}',\n",
        "                    xy=(rect.get_x() + rect.get_width() / 2, height),\n",
        "                    xytext=(0, 3),  # 3 points vertical offset\n",
        "                    textcoords=\"offset points\",\n",
        "                    ha='center', va='bottom', fontsize=9)\n",
        "\n",
        "autolabel(rects1)\n",
        "autolabel(rects2)\n",
        "\n",
        "fig.tight_layout()\n",
        "plt.savefig(f\"{viz_folder}/region_sex_bar_chart.png\", dpi=300, bbox_inches='tight')\n",
        "plt.show()\n",
        "\n",
        "print(\"การวิเคราะห์: แผนภูมิแท่งแบบจัดกลุ่มช่วยให้เห็นการเปรียบเทียบระหว่างกลุ่มย่อยในแต่ละหมวดหมู่หลัก\")\n",
        "print(\"- สามารถเปรียบเทียบจำนวนพนักงานชายและหญิงในแต่ละภูมิภาคได้อย่างชัดเจน\")\n",
        "print(\"- เห็นได้ว่าในทุกภูมิภาคมีจำนวนพนักงานชายมากกว่าพนักงานหญิง\")\n",
        "print(\"- แนะนำให้ใช้แผนภูมิแท่งแบบจัดกลุ่มใน Power BI สำหรับการเปรียบเทียบระหว่างกลุ่มย่อยในแต่ละหมวดหมู่หลัก\")"
      ]
    }
  ],
  "metadata": {
    "kernelspec": {
      "display_name": "Python 3",
      "language": "python",
      "name": "python3"
    },
    "language_info": {
      "codemirror_mode": {
        "name": "ipython",
        "version": 3
      },
      "file_extension": ".py",
      "mimetype": "text/x-python",
      "name": "python",
      "nbconvert_exporter": "python",
      "pygments_lexer": "ipython3",
      "version": "3.8.10"
    }
  },
  "nbformat": 4,
  "nbformat_minor": 4
}