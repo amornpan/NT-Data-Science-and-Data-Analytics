{
 "cells": [
  {
   "cell_type": "markdown",
   "metadata": {},
   "source": [
    "# การสร้าง Data Visualization ด้วย Python (Matplotlib และ Seaborn)\n",
    "\n",
    "## วัตถุประสงค์การเรียนรู้\n",
    "- เข้าใจความสำคัญของการแสดงผลข้อมูล (Data Visualization)\n",
    "- สามารถใช้ Matplotlib สร้างกราฟพื้นฐานได้\n",
    "- สามารถใช้ Seaborn สร้างการแสดงผลข้อมูลที่สวยงาม\n",
    "- รู้จักการเลือกใช้ประเภทของการแสดงผลข้อมูลให้เหมาะสมกับข้อมูล"
   ]
  },
  {
   "cell_type": "markdown",
   "metadata": {},
   "source": [
    "## 1. ความสำคัญของการแสดงผลข้อมูล (Data Visualization)\n",
    "\n",
    "การแสดงผลข้อมูล (Data Visualization) เป็นการนำเสนอข้อมูลในรูปแบบที่มองเห็นได้ เช่น กราฟ แผนภูมิ แผนที่ หรือแดชบอร์ด ซึ่งมีความสำคัญหลายประการ:\n",
    "\n",
    "1. **สื่อสารข้อมูลซับซ้อนได้อย่างชัดเจน**: ช่วยให้เข้าใจข้อมูลที่ซับซ้อนได้ง่ายขึ้น\n",
    "2. **ค้นพบแนวโน้มและรูปแบบ**: มองเห็นแนวโน้ม รูปแบบ และความผิดปกติในข้อมูลได้ง่าย\n",
    "3. **ตัดสินใจได้ดีขึ้น**: สนับสนุนการตัดสินใจโดยอิงจากข้อมูลที่ชัดเจน\n",
    "4. **นำเสนอข้อมูลได้น่าสนใจ**: ทำให้การนำเสนอข้อมูลน่าสนใจและน่าจดจำ\n",
    "5. **เปรียบเทียบข้อมูลได้ง่าย**: ช่วยในการเปรียบเทียบข้อมูลหลายชุดได้อย่างมีประสิทธิภาพ\n",
    "\n",
    "ในการสร้าง Data Visualization ด้วย Python มีไลบรารีที่นิยมใช้กันมากคือ Matplotlib และ Seaborn"
   ]
  },
  {
   "cell_type": "markdown",
   "metadata": {},
   "source": [
    "## 2. การติดตั้งและนำเข้าไลบรารี\n",
    "\n",
    "ก่อนที่จะเริ่มต้นสร้าง Data Visualization เราจำเป็นต้องติดตั้งและนำเข้าไลบรารีที่จำเป็น ซึ่งประกอบด้วย Matplotlib, Seaborn และ Pandas (สำหรับจัดการข้อมูล)"
   ]
  },
  {
   "cell_type": "code",
   "execution_count": null,
   "metadata": {},
   "outputs": [],
   "source": [
    "# ติดตั้งไลบรารี (หากยังไม่ได้ติดตั้ง)\n",
    "# !pip install matplotlib seaborn pandas numpy\n",
    "\n",
    "# นำเข้าไลบรารีที่จำเป็น\n",
    "import matplotlib.pyplot as plt\n",
    "import seaborn as sns\n",
    "import pandas as pd\n",
    "import numpy as np\n",
    "\n",
    "# ตั้งค่าสไตล์ของ Seaborn\n",
    "sns.set(style=\"whitegrid\")\n",
    "\n",
    "# ตั้งค่าให้แสดงกราฟใน Jupyter Notebook\n",
    "%matplotlib inline\n",
    "\n",
    "# ตั้งค่าขนาดกราฟเริ่มต้น\n",
    "plt.rcParams['figure.figsize'] = (10, 6)\n",
    "\n",
    "# ตั้งค่าให้แสดงฟอนต์ภาษาไทยได้ (ถ้าใช้ภาษาไทย)\n",
    "# plt.rcParams['font.family'] = 'Tahoma'\n",
    "\n",
    "# ตรวจสอบเวอร์ชันของไลบรารี\n",
    "print(f\"Matplotlib version: {plt.__version__}\")\n",
    "print(f\"Seaborn version: {sns.__version__}\")\n",
    "print(f\"Pandas version: {pd.__version__}\")\n",
    "print(f\"NumPy version: {np.__version__}\")"
   ]
  },
  {
   "cell_type": "markdown",
   "metadata": {},
   "source": [
    "## 3. สร้างข้อมูลสำหรับการทดลอง\n",
    "\n",
    "เราจะสร้างข้อมูลจำลองขึ้นมาเพื่อใช้ในการทดลองสร้าง Data Visualization"
   ]
  },
  {
   "cell_type": "code",
   "execution_count": null,
   "metadata": {},
   "outputs": [],
   "source": [
    "# สร้าง DataFrame สำหรับทดลอง\n",
    "np.random.seed(42)  # ตั้งค่า seed เพื่อให้ผลลัพธ์เหมือนกันทุกครั้ง\n",
    "\n",
    "# สร้างข้อมูลยอดขาย\n",
    "dates = pd.date_range('2023-01-01', periods=12, freq='M')\n",
    "sales_data = {\n",
    "    'date': dates,\n",
    "    'sales': np.random.randint(100, 500, size=len(dates)),\n",
    "    'expenses': np.random.randint(50, 300, size=len(dates)),\n",
    "    'category': np.random.choice(['A', 'B', 'C'], size=len(dates))\n",
    "}\n",
    "sales_df = pd.DataFrame(sales_data)\n",
    "sales_df['profit'] = sales_df['sales'] - sales_df['expenses']\n",
    "sales_df['month'] = sales_df['date'].dt.strftime('%b')\n",
    "\n",
    "# สร้างข้อมูลผลิตภัณฑ์\n",
    "products = ['Product A', 'Product B', 'Product C', 'Product D', 'Product E']\n",
    "product_data = {\n",
    "    'product': products,\n",
    "    'sales': np.random.randint(100, 1000, size=len(products)),\n",
    "    'customer_rating': np.random.uniform(3.5, 5.0, size=len(products)),\n",
    "    'market_share': np.random.uniform(0.05, 0.25, size=len(products))\n",
    "}\n",
    "product_df = pd.DataFrame(product_data)\n",
    "\n",
    "# สร้างข้อมูลลูกค้า\n",
    "n_customers = 100\n",
    "customer_data = {\n",
    "    'age': np.random.randint(18, 70, size=n_customers),\n",
    "    'income': np.random.randint(15000, 80000, size=n_customers),\n",
    "    'spending': np.random.randint(1000, 20000, size=n_customers),\n",
    "    'region': np.random.choice(['North', 'South', 'East', 'West', 'Central'], size=n_customers),\n",
    "    'satisfaction': np.random.uniform(1, 5, size=n_customers)\n",
    "}\n",
    "customer_df = pd.DataFrame(customer_data)\n",
    "\n",
    "# แสดงตัวอย่างข้อมูล\n",
    "print(\"ข้อมูลยอดขาย:\")\n",
    "display(sales_df.head())\n",
    "\n",
    "print(\"\\nข้อมูลผลิตภัณฑ์:\")\n",
    "display(product_df.head())\n",
    "\n",
    "print(\"\\nข้อมูลลูกค้า:\")\n",
    "display(customer_df.head())"
   ]
  },
  {
   "cell_type": "markdown",
   "metadata": {},
   "source": [
    "## 4. การสร้างกราฟพื้นฐานด้วย Matplotlib\n",
    "\n",
    "Matplotlib เป็นไลบรารีพื้นฐานสำหรับการสร้างกราฟใน Python เราจะเริ่มต้นด้วยการสร้างกราฟประเภทต่างๆ\n",
    "\n",
    "### 4.1 กราฟเส้น (Line Plot)"
   ]
  },
  {
   "cell_type": "code",
   "execution_count": null,
   "metadata": {},
   "outputs": [],
   "source": [
    "# สร้างกราฟเส้นแสดงยอดขายตามเวลา\n",
    "plt.figure(figsize=(12, 6))\n",
    "plt.plot(sales_df['date'], sales_df['sales'], marker='o', linestyle='-', color='blue', label='ยอดขาย')\n",
    "plt.plot(sales_df['date'], sales_df['expenses'], marker='s', linestyle='--', color='red', label='ค่าใช้จ่าย')\n",
    "plt.plot(sales_df['date'], sales_df['profit'], marker='^', linestyle='-.', color='green', label='กำไร')\n",
    "\n",
    "plt.title('ยอดขาย ค่าใช้จ่าย และกำไรรายเดือน ปี 2023', fontsize=16)\n",
    "plt.xlabel('เดือน', fontsize=12)\n",
    "plt.ylabel('จำนวนเงิน (บาท)', fontsize=12)\n",
    "plt.grid(True, linestyle='--', alpha=0.7)\n",
    "plt.legend()\n",
    "\n",
    "# ปรับการแสดงวันที่บนแกน x\n",
    "plt.xticks(sales_df['date'], sales_df['month'], rotation=45)\n",
    "\n",
    "# เพิ่มการแสดงค่าที่จุดข้อมูลสำหรับกำไร\n",
    "for i, profit in enumerate(sales_df['profit']):\n",
    "    plt.annotate(f'{profit}', (sales_df['date'][i], profit), \n",
    "                 textcoords=\"offset points\", xytext=(0,10), ha='center')\n",
    "\n",
    "plt.tight_layout()\n",
    "plt.show()"
   ]
  },
  {
   "cell_type": "markdown",
   "metadata": {},
   "source": [
    "### 4.2 กราฟแท่ง (Bar Plot)"
   ]
  },
  {
   "cell_type": "code",
   "execution_count": null,
   "metadata": {},
   "outputs": [],
   "source": [
    "# สร้างกราฟแท่งแสดงยอดขายของแต่ละผลิตภัณฑ์\n",
    "plt.figure(figsize=(10, 6))\n",
    "bars = plt.bar(product_df['product'], product_df['sales'], color='skyblue', edgecolor='navy')\n",
    "\n",
    "plt.title('ยอดขายตามผลิตภัณฑ์', fontsize=16)\n",
    "plt.xlabel('ผลิตภัณฑ์', fontsize=12)\n",
    "plt.ylabel('ยอดขาย (บาท)', fontsize=12)\n",
    "plt.grid(axis='y', linestyle='--', alpha=0.7)\n",
    "\n",
    "# เพิ่มค่าบนกราฟแท่ง\n",
    "for bar in bars:\n",
    "    height = bar.get_height()\n",
    "    plt.text(bar.get_x() + bar.get_width()/2., height + 10,\n",
    "             f'{height:,}', ha='center', va='bottom')\n",
    "\n",
    "plt.tight_layout()\n",
    "plt.show()"
   ]
  },
  {
   "cell_type": "markdown",
   "metadata": {},
   "source": [
    "### 4.3 กราฟแท่งแนวนอน (Horizontal Bar Plot)"
   ]
  },
  {
   "cell_type": "code",
   "execution_count": null,
   "metadata": {},
   "outputs": [],
   "source": [
    "# จัดเรียงข้อมูลตามยอดขาย\n",
    "product_sorted = product_df.sort_values('sales', ascending=True)\n",
    "\n",
    "# สร้างกราฟแท่งแนวนอน\n",
    "plt.figure(figsize=(10, 6))\n",
    "bars = plt.barh(product_sorted['product'], product_sorted['sales'], color='lightgreen', edgecolor='darkgreen')\n",
    "\n",
    "plt.title('ยอดขายตามผลิตภัณฑ์ (เรียงลำดับ)', fontsize=16)\n",
    "plt.xlabel('ยอดขาย (บาท)', fontsize=12)\n",
    "plt.ylabel('ผลิตภัณฑ์', fontsize=12)\n",
    "plt.grid(axis='x', linestyle='--', alpha=0.7)\n",
    "\n",
    "# เพิ่มค่าในกราฟแท่ง\n",
    "for bar in bars:\n",
    "    width = bar.get_width()\n",
    "    plt.text(width + 10, bar.get_y() + bar.get_height()/2.,\n",
    "             f'{width:,}', va='center')\n",
    "\n",
    "plt.tight_layout()\n",
    "plt.show()"
   ]
  },
  {
   "cell_type": "markdown",
   "metadata": {},
   "source": [
    "### 4.4 กราฟวงกลม (Pie Chart)"
   ]
  },
  {
   "cell_type": "code",
   "execution_count": null,
   "metadata": {},
   "outputs": [],
   "source": [
    "# สร้างกราฟวงกลมแสดงส่วนแบ่งตลาดของผลิตภัณฑ์\n",
    "plt.figure(figsize=(10, 8))\n",
    "plt.pie(product_df['market_share'], labels=product_df['product'], \n",
    "        autopct='%1.1f%%', startangle=90, shadow=True,\n",
    "        wedgeprops={'edgecolor': 'black'},\n",
    "        textprops={'fontsize': 12})\n",
    "\n",
    "plt.title('ส่วนแบ่งตลาดของผลิตภัณฑ์', fontsize=16)\n",
    "plt.axis('equal')  # ทำให้วงกลมเป็นวงกลมจริงๆ ไม่บิดเบี้ยว\n",
    "plt.tight_layout()\n",
    "plt.show()"
   ]
  },
  {
   "cell_type": "markdown",
   "metadata": {},
   "source": [
    "### 4.5 กราฟกระจาย (Scatter Plot)"
   ]
  },
  {
   "cell_type": "code",
   "execution_count": null,
   "metadata": {},
   "outputs": [],
   "source": [
    "# สร้างกราฟกระจายแสดงความสัมพันธ์ระหว่างอายุและรายได้ของลูกค้า\n",
    "plt.figure(figsize=(10, 6))\n",
    "plt.scatter(customer_df['age'], customer_df['income'], \n",
    "            s=customer_df['spending']/100,  # ขนาดจุดขึ้นอยู่กับค่าใช้จ่าย\n",
    "            c=customer_df['satisfaction'],  # สีขึ้นอยู่กับความพึงพอใจ\n",
    "            cmap='viridis', alpha=0.7)\n",
    "\n",
    "plt.colorbar(label='ระดับความพึงพอใจ')\n",
    "plt.title('ความสัมพันธ์ระหว่างอายุ รายได้ และค่าใช้จ่ายของลูกค้า', fontsize=16)\n",
    "plt.xlabel('อายุ (ปี)', fontsize=12)\n",
    "plt.ylabel('รายได้ (บาท)', fontsize=12)\n",
    "plt.grid(True, linestyle='--', alpha=0.7)\n",
    "\n",
    "# เพิ่มคำอธิบายเกี่ยวกับขนาดของจุด\n",
    "plt.figtext(0.15, 0.02, 'หมายเหตุ: ขนาดของจุดแสดงถึงค่าใช้จ่ายของลูกค้า', fontsize=10)\n",
    "\n",
    "plt.tight_layout()\n",
    "plt.show()"
   ]
  },
  {
   "cell_type": "markdown",
   "metadata": {},
   "source": [
    "### 4.6 ฮีสโตแกรม (Histogram)"
   ]
  },
  {
   "cell_type": "code",
   "execution_count": null,
   "metadata": {},
   "outputs": [],
   "source": [
    "# สร้างฮีสโตแกรมแสดงการกระจายของอายุลูกค้า\n",
    "plt.figure(figsize=(10, 6))\n",
    "plt.hist(customer_df['age'], bins=10, color='purple', alpha=0.7, edgecolor='black')\n",
    "\n",
    "plt.title('การกระจายของอายุลูกค้า', fontsize=16)\n",
    "plt.xlabel('อายุ (ปี)', fontsize=12)\n",
    "plt.ylabel('จำนวนลูกค้า', fontsize=12)\n",
    "plt.grid(True, linestyle='--', alpha=0.7)\n",
    "\n",
    "# เพิ่มค่าเฉลี่ยและค่ามัธยฐาน\n",
    "mean_age = customer_df['age'].mean()\n",
    "median_age = customer_df['age'].median()\n",
    "plt.axvline(mean_age, color='red', linestyle='--', linewidth=2, label=f'ค่าเฉลี่ย: {mean_age:.1f}')\n",
    "plt.axvline(median_age, color='green', linestyle='-', linewidth=2, label=f'ค่ามัธยฐาน: {median_age:.1f}')\n",
    "plt.legend()\n",
    "\n",
    "plt.tight_layout()\n",
    "plt.show()"
   ]
  },
  {
   "cell_type": "markdown",
   "metadata": {},
   "source": [
    "### 4.7 การสร้างกราฟย่อยหลายกราฟ (Subplots)"
   ]
  },
  {
   "cell_type": "code",
   "execution_count": null,
   "metadata": {},
   "outputs": [],
   "source": [
    "# สร้างกราฟย่อยหลายกราฟในตารางเดียวกัน\n",
    "fig, axes = plt.subplots(2, 2, figsize=(14, 10))\n",
    "\n",
    "# กราฟแรก: กราฟเส้นแสดงยอดขายและค่าใช้จ่าย\n",
    "axes[0, 0].plot(sales_df['month'], sales_df['sales'], marker='o', color='blue', label='ยอดขาย')\n",
    "axes[0, 0].plot(sales_df['month'], sales_df['expenses'], marker='s', color='red', label='ค่าใช้จ่าย')\n",
    "axes[0, 0].set_title('ยอดขายและค่าใช้จ่ายรายเดือน')\n",
    "axes[0, 0].set_xlabel('เดือน')\n",
    "axes[0, 0].set_ylabel('จำนวนเงิน (บาท)')\n",
    "axes[0, 0].legend()\n",
    "axes[0, 0].grid(True, linestyle='--', alpha=0.7)\n",
    "axes[0, 0].tick_params(axis='x', rotation=45)\n",
    "\n",
    "# กราฟที่สอง: กราฟแท่งแสดงยอดขายตามผลิตภัณฑ์\n",
    "bars = axes[0, 1].bar(product_df['product'], product_df['sales'], color='skyblue')\n",
    "axes[0, 1].set_title('ยอดขายตามผลิตภัณฑ์')\n",
    "axes[0, 1].set_xlabel('ผลิตภัณฑ์')\n",
    "axes[0, 1].set_ylabel('ยอดขาย (บาท)')\n",
    "axes[0, 1].tick_params(axis='x', rotation=45)\n",
    "axes[0, 1].grid(axis='y', linestyle='--', alpha=0.7)\n",
    "\n",
    "# กราฟที่สาม: ฮีสโตแกรมแสดงการกระจายของรายได้ลูกค้า\n",
    "axes[1, 0].hist(customer_df['income'], bins=10, color='green', alpha=0.7, edgecolor='black')\n",
    "axes[1, 0].set_title('การกระจายของรายได้ลูกค้า')\n",
    "axes[1, 0].set_xlabel('รายได้ (บาท)')\n",
    "axes[1, 0].set_ylabel('จำนวนลูกค้า')\n",
    "axes[1, 0].grid(True, linestyle='--', alpha=0.7)\n",
    "\n",
    "# กราฟที่สี่: กราฟวงกลมแสดงลูกค้าตามภูมิภาค\n",
    "region_counts = customer_df['region'].value_counts()\n",
    "axes[1, 1].pie(region_counts, labels=region_counts.index, autopct='%1.1f%%', startangle=90,\n",
    "               shadow=True, wedgeprops={'edgecolor': 'black'})\n",
    "axes[1, 1].set_title('สัดส่วนลูกค้าตามภูมิภาค')\n",
    "axes[1, 1].axis('equal')\n",
    "\n",
    "plt.tight_layout()\n",
    "plt.suptitle('ภาพรวมข้อมูลธุรกิจ', fontsize=20, y=1.02)\n",
    "plt.subplots_adjust(top=0.9)\n",
    "plt.show()"
   ]
  },
  {
   "cell_type": "markdown",
   "metadata": {},
   "source": [
    "## 5. การสร้างการแสดงผลข้อมูลด้วย Seaborn\n",
    "\n",
    "Seaborn เป็นไลบรารีที่สร้างขึ้นบน Matplotlib แต่มีความสามารถในการสร้างกราฟที่สวยงามและซับซ้อนได้ง่ายกว่า\n",
    "\n",
    "### 5.1 การตั้งค่าสไตล์ของ Seaborn"
   ]
  },
  {
   "cell_type": "code",
   "execution_count": null,
   "metadata": {},
   "outputs": [],
   "source": [
    "# ตัวอย่างการตั้งค่าสไตล์ต่างๆ ของ Seaborn\n",
    "styles = ['whitegrid', 'darkgrid', 'white', 'dark', 'ticks']\n",
    "contexts = ['paper', 'notebook', 'talk', 'poster']\n",
    "\n",
    "# แสดงตัวอย่างสไตล์ต่างๆ\n",
    "fig, axes = plt.subplots(len(styles), 1, figsize=(10, 15))\n",
    "\n",
    "for i, style in enumerate(styles):\n",
    "    sns.set_style(style)\n",
    "    ax = axes[i]\n",
    "    sns.lineplot(x=sales_df['month'], y=sales_df['sales'], ax=ax)\n",
    "    ax.set_title(f'Style: {style}')\n",
    "    ax.set_xlabel('เดือน')\n",
    "    ax.set_ylabel('ยอดขาย')\n",
    "    \n",
    "plt.tight_layout()\n",
    "plt.show()\n",
    "\n",
    "# กลับไปใช้สไตล์ whitegrid\n",
    "sns.set_style(\"whitegrid\")"
   ]
  },
  {
   "cell_type": "markdown",
   "metadata": {},
   "source": [
    "### 5.2 การสร้างกราฟเส้นด้วย Seaborn (Line Plot)"
   ]
  },
  {
   "cell_type": "code",
   "execution_count": null,
   "metadata": {},
   "outputs": [],
   "source": [
    "# สร้างกราฟเส้นด้วย Seaborn\n",
    "plt.figure(figsize=(12, 6))\n",
    "sns.lineplot(data=sales_df, x='month', y='sales', marker='o', label='ยอดขาย')\n",
    "sns.lineplot(data=sales_df, x='month', y='expenses', marker='s', label='ค่าใช้จ่าย')\n",
    "sns.lineplot(data=sales_df, x='month', y='profit', marker='^', label='กำไร')\n",
    "\n",
    "plt.title('ยอดขาย ค่าใช้จ่าย และกำไรรายเดือน ปี 2023', fontsize=16)\n",
    "plt.xlabel('เดือน', fontsize=12)\n",
    "plt.ylabel('จำนวนเงิน (บาท)', fontsize=12)\n",
    "plt.xticks(rotation=45)\n",
    "plt.legend(title='ประเภท')\n",
    "\n",
    "plt.tight_layout()\n",
    "plt.show()"
   ]
  },
  {
   "cell_type": "markdown",
   "metadata": {},
   "source": [
    "### 5.3 การสร้างกราฟแท่งด้วย Seaborn (Bar Plot)"
   ]
  },
  {
   "cell_type": "code",
   "execution_count": null,
   "metadata": {},
   "outputs": [],
   "source": [
    "# สร้างกราฟแท่งด้วย Seaborn\n",
    "plt.figure(figsize=(12, 6))\n",
    "sns.barplot(data=product_df, x='product', y='sales', hue='product', palette='viridis')\n",
    "\n",
    "plt.title('ยอดขายตามผลิตภัณฑ์', fontsize=16)\n",
    "plt.xlabel('ผลิตภัณฑ์', fontsize=12)\n",
    "plt.ylabel('ยอดขาย (บาท)', fontsize=12)\n",
    "plt.xticks(rotation=45)\n",
    "plt.legend().remove()  # ลบ legend เนื่องจากมีสีเหมือนกับแท่ง\n",
    "\n",
    "# เพิ่มค่าบนกราฟแท่ง\n",
    "for i, v in enumerate(product_df['sales']):\n",
    "    plt.text(i, v + 10, f\"{v:,}\", ha='center')\n",
    "\n",
    "plt.tight_layout()\n",
    "plt.show()"
   ]
  },
  {
   "cell_type": "markdown",
   "metadata": {},
   "source": [
    "### 5.4 การสร้างแผนภูมิกล่อง (Box Plot)"
   ]
  },
  {
   "cell_type": "code",
   "execution_count": null,
   "metadata": {},
   "outputs": [],
   "source": [
    "# เตรียมข้อมูลสำหรับ Box Plot\n",
    "melted_sales = pd.melt(sales_df, id_vars='category', value_vars=['sales', 'expenses', 'profit'],\n",
    "                        var_name='metric', value_name='value')\n",
    "\n",
    "# สร้าง Box Plot\n",
    "plt.figure(figsize=(12, 6))\n",
    "sns.boxplot(data=melted_sales, x='category', y='value', hue='metric', palette='Set2')\n",
    "\n",
    "plt.title('การเปรียบเทียบยอดขาย ค่าใช้จ่าย และกำไรตามหมวดหมู่', fontsize=16)\n",
    "plt.xlabel('หมวดหมู่', fontsize=12)\n",
    "plt.ylabel('จำนวนเงิน (บาท)', fontsize=12)\n",
    "plt.legend(title='ตัวชี้วัด')\n",
    "\n",
    "plt.tight_layout()\n",
    "plt.show()"
   ]
  },
  {
   "cell_type": "markdown",
   "metadata": {},
   "source": [
    "### 5.5 การสร้างกราฟกระจาย (Scatter Plot) ด้วย Seaborn"
   ]
  },
  {
   "cell_type": "code",
   "execution_count": null,
   "metadata": {},
   "outputs": [],
   "source": [
    "# สร้างกราฟกระจายด้วย Seaborn\n",
    "plt.figure(figsize=(10, 6))\n",
    "sns.scatterplot(data=customer_df, x='age', y='income', \n",
    "                hue='region', size='spending', sizes=(20, 200),\n",
    "                palette='deep')\n",
    "\n",
    "plt.title('ความสัมพันธ์ระหว่างอายุ รายได้ ค่าใช้จ่าย และภูมิภาคของลูกค้า', fontsize=16)\n",
    "plt.xlabel('อายุ (ปี)', fontsize=12)\n",
    "plt.ylabel('รายได้ (บาท)', fontsize=12)\n",
    "plt.legend(title='ภูมิภาค', bbox_to_anchor=(1.05, 1), loc='upper left')\n",
    "\n",
    "plt.tight_layout()\n",
    "plt.show()"
   ]
  },
  {
   "cell_type": "markdown",
   "metadata": {},
   "source": [
    "### 5.6 การสร้างแผนที่ความร้อน (Heatmap)"
   ]
  },
  {
   "cell_type": "code",
   "execution_count": null,
   "metadata": {},
   "outputs": [],
   "source": [
    "# สร้างข้อมูลสำหรับ Heatmap โดยใช้ความสัมพันธ์ของข้อมูลลูกค้า\n",
    "correlation = customer_df.corr()\n",
    "\n",
    "# สร้าง Heatmap\n",
    "plt.figure(figsize=(10, 8))\n",
    "sns.heatmap(correlation, annot=True, cmap='coolwarm', fmt='.2f', linewidths=.5)\n",
    "\n",
    "plt.title('ความสัมพันธ์ระหว่างตัวแปรของข้อมูลลูกค้า', fontsize=16)\n",
    "\n",
    "plt.tight_layout()\n",
    "plt.show()"
   ]
  },
  {
   "cell_type": "markdown",
   "metadata": {},
   "source": [
    "### 5.7 การสร้างกราฟคู่ (Pair Plot)"
   ]
  },
  {
   "cell_type": "code",
   "execution_count": null,
   "metadata": {},
   "outputs": [],
   "source": [
    "# สร้าง Pair Plot เพื่อดูความสัมพันธ์ระหว่างตัวแปรต่างๆ\n",
    "plt.figure(figsize=(12, 10))\n",
    "sns.pairplot(customer_df[['age', 'income', 'spending', 'satisfaction']], \n",
    "             hue='satisfaction', palette='viridis', diag_kind='kde', height=2.5)\n",
    "\n",
    "plt.suptitle('ความสัมพันธ์ระหว่างตัวแปรต่างๆ ของข้อมูลลูกค้า', fontsize=16, y=1.02)\n",
    "\n",
    "plt.tight_layout()\n",
    "plt.show()"
   ]
  },
  {
   "cell_type": "markdown",
   "metadata": {},
   "source": [
    "### 5.8 การสร้างกราฟการกระจาย (Distribution Plot)"
   ]
  },
  {
   "cell_type": "code",
   "execution_count": null,
   "metadata": {},
   "outputs": [],
   "source": [
    "# สร้างกราฟการกระจายของข้อมูลลูกค้า\n",
    "plt.figure(figsize=(15, 10))\n",
    "\n",
    "plt.subplot(2, 2, 1)\n",
    "sns.histplot(customer_df['age'], kde=True, color='blue')\n",
    "plt.title('การกระจายของอายุลูกค้า')\n",
    "plt.xlabel('อายุ (ปี)')\n",
    "plt.ylabel('จำนวนลูกค้า')\n",
    "\n",
    "plt.subplot(2, 2, 2)\n",
    "sns.histplot(customer_df['income'], kde=True, color='green')\n",
    "plt.title('การกระจายของรายได้ลูกค้า')\n",
    "plt.xlabel('รายได้ (บาท)')\n",
    "plt.ylabel('จำนวนลูกค้า')\n",
    "\n",
    "plt.subplot(2, 2, 3)\n",
    "sns.histplot(customer_df['spending'], kde=True, color='red')\n",
    "plt.title('การกระจายของค่าใช้จ่ายลูกค้า')\n",
    "plt.xlabel('ค่าใช้จ่าย (บาท)')\n",
    "plt.ylabel('จำนวนลูกค้า')\n",
    "\n",
    "plt.subplot(2, 2, 4)\n",
    "sns.histplot(customer_df['satisfaction'], kde=True, bins=10, color='purple')\n",
    "plt.title('การกระจายของความพึงพอใจลูกค้า')\n",
    "plt.xlabel('ระดับความพึงพอใจ (1-5)')\n",
    "plt.ylabel('จำนวนลูกค้า')\n",
    "\n",
    "plt.tight_layout()\n",
    "plt.suptitle('การกระจายของข้อมูลลูกค้า', fontsize=16, y=1.02)\n",
    "plt.subplots_adjust(top=0.9)\n",
    "plt.show()"
   ]
  },
  {
   "cell_type": "markdown",
   "metadata": {},
   "source": [
    "### 5.9 การสร้างกราฟเส้นที่มีช่วงความเชื่อมั่น (Line Plot with Confidence Interval)"
   ]
  },
  {
   "cell_type": "code",
   "execution_count": null,
   "metadata": {},
   "outputs": [],
   "source": [
    "# เตรียมข้อมูลสำหรับกราฟเส้นที่มีช่วงความเชื่อมั่น\n",
    "# สร้างข้อมูลจำลองเพิ่มเติม\n",
    "monthly_data = pd.DataFrame({\n",
    "    'month': np.repeat(sales_df['month'], 5),\n",
    "    'sales': np.random.normal(loc=sales_df['sales'].values.repeat(5), scale=50),\n",
    "    'year': np.random.choice(['2023', '2024'], size=5*len(sales_df['month']))\n",
    "})\n",
    "\n",
    "# สร้างกราฟเส้นที่มีช่วงความเชื่อมั่น\n",
    "plt.figure(figsize=(12, 6))\n",
    "sns.lineplot(data=monthly_data, x='month', y='sales', hue='year', style='year',\n",
    "             markers=True, dashes=False, ci=95)\n",
    "\n",
    "plt.title('ยอดขายรายเดือนปี 2023-2024 พร้อมช่วงความเชื่อมั่น 95%', fontsize=16)\n",
    "plt.xlabel('เดือน', fontsize=12)\n",
    "plt.ylabel('ยอดขาย (บาท)', fontsize=12)\n",
    "plt.xticks(rotation=45)\n",
    "plt.legend(title='ปี')\n",
    "\n",
    "plt.tight_layout()\n",
    "plt.show()"
   ]
  },
  {
   "cell_type": "markdown",
   "metadata": {},
   "source": [
    "## 6. การเลือกใช้ประเภทของการแสดงผลข้อมูลให้เหมาะสม\n",
    "\n",
    "การเลือกใช้ประเภทของการแสดงผลข้อมูลให้เหมาะสมกับข้อมูลและวัตถุประสงค์เป็นสิ่งสำคัญ ต่อไปนี้เป็นแนวทางในการเลือกใช้:"
   ]
  },
  {
   "cell_type": "markdown",
   "metadata": {},
   "source": [
    "### 6.1 การเลือกใช้ประเภทของกราฟตามประเภทข้อมูลและวัตถุประสงค์\n",
    "\n",
    "#### เมื่อต้องการแสดงการเปลี่ยนแปลงตามเวลา:\n",
    "- **กราฟเส้น (Line Plot)**: เหมาะสำหรับแสดงแนวโน้มและการเปลี่ยนแปลงที่ต่อเนื่องตามเวลา\n",
    "- **กราฟแท่ง (Bar Plot)**: เหมาะสำหรับแสดงการเปลี่ยนแปลงในช่วงเวลาที่ไม่ต่อเนื่อง\n",
    "- **กราฟพื้นที่ (Area Plot)**: เหมาะสำหรับแสดงปริมาณและการเปลี่ยนแปลงสะสมตามเวลา\n",
    "\n",
    "#### เมื่อต้องการเปรียบเทียบค่าระหว่างกลุ่ม:\n",
    "- **กราฟแท่ง (Bar Plot)**: เหมาะสำหรับเปรียบเทียบค่าระหว่างกลุ่มต่างๆ\n",
    "- **กราฟแท่งแนวนอน (Horizontal Bar Plot)**: เหมาะสำหรับเปรียบเทียบค่าระหว่างกลุ่มที่มีชื่อยาว\n",
    "- **แผนภูมิกล่อง (Box Plot)**: เหมาะสำหรับแสดงการกระจายและเปรียบเทียบสถิติสำคัญระหว่างกลุ่ม\n",
    "\n",
    "#### เมื่อต้องการแสดงสัดส่วน:\n",
    "- **กราฟวงกลม (Pie Chart)**: เหมาะสำหรับแสดงสัดส่วนของทั้งหมด แต่ควรมีไม่เกิน 5-7 กลุ่ม\n",
    "- **กราฟแท่งที่เป็นเปอร์เซ็นต์ (Percentage Stacked Bar Chart)**: เหมาะสำหรับแสดงสัดส่วนที่มีหลายกลุ่ม\n",
    "- **กราฟวงแหวน (Donut Chart)**: คล้ายกับกราฟวงกลมแต่มีรูตรงกลาง\n",
    "\n",
    "#### เมื่อต้องการแสดงความสัมพันธ์:\n",
    "- **กราฟกระจาย (Scatter Plot)**: เหมาะสำหรับแสดงความสัมพันธ์ระหว่างตัวแปร 2 ตัว\n",
    "- **แผนที่ความร้อน (Heatmap)**: เหมาะสำหรับแสดงความสัมพันธ์ระหว่างตัวแปรหลายตัว\n",
    "- **กราฟคู่ (Pair Plot)**: เหมาะสำหรับแสดงความสัมพันธ์ระหว่างตัวแปรหลายคู่\n",
    "\n",
    "#### เมื่อต้องการแสดงการกระจาย:\n",
    "- **ฮีสโตแกรม (Histogram)**: เหมาะสำหรับแสดงการกระจายของข้อมูลตัวแปรเดียว\n",
    "- **กราฟการกระจาย (Distribution Plot)**: เหมาะสำหรับแสดงการกระจายของข้อมูลพร้อมเส้นโค้งความหนาแน่น\n",
    "- **แผนภูมิกล่อง (Box Plot)**: เหมาะสำหรับแสดงการกระจายและสถิติสำคัญเช่น ค่ามัธยฐาน, quartiles\n",
    "- **แผนภูมิไวโอลิน (Violin Plot)**: เหมาะสำหรับแสดงการกระจายของข้อมูลและความหนาแน่น"
   ]
  },
  {
   "cell_type": "markdown",
   "metadata": {},
   "source": [
    "### 6.2 หลักการออกแบบการแสดงผลข้อมูลที่ดี\n",
    "\n",
    "1. **ความชัดเจนเป็นหัวใจสำคัญ**\n",
    "   - มีชื่อกราฟ (Title) ที่ชัดเจนและสื่อความหมาย\n",
    "   - มีคำอธิบายแกน (Axis Labels) ที่ชัดเจนและมีหน่วย\n",
    "   - ใช้สีที่แตกต่างกันอย่างเหมาะสม\n",
    "   - มีคำอธิบายส่วนประกอบ (Legend) ที่เข้าใจง่าย\n",
    "\n",
    "2. **ความเรียบง่าย (Simplicity)**\n",
    "   - ลดความรกรุงรังของข้อมูล (Data Ink Ratio)\n",
    "   - แสดงเฉพาะข้อมูลที่จำเป็น\n",
    "   - ใช้ Grid Lines อย่างเหมาะสม\n",
    "   - หลีกเลี่ยงการใช้เทคนิคพิเศษที่ไม่จำเป็น (3D, เงา)\n",
    "\n",
    "3. **การใช้สีอย่างมีประสิทธิภาพ**\n",
    "   - ใช้สีอย่างมีวัตถุประสงค์และมีความหมาย\n",
    "   - ใช้ความตัดกันของสีอย่างเหมาะสม\n",
    "   - คำนึงถึงผู้ที่มีปัญหาในการมองเห็นสี (Colorblind-friendly)\n",
    "   - ใช้ Colormap ที่เหมาะสมกับประเภทข้อมูล\n",
    "\n",
    "4. **การจัดวางองค์ประกอบ**\n",
    "   - จัดวางกราฟให้มีความสมดุล\n",
    "   - ใช้พื้นที่อย่างมีประสิทธิภาพ\n",
    "   - ระวังการซ้อนทับของข้อความหรือองค์ประกอบ\n",
    "   - เรียงลำดับข้อมูลอย่างมีความหมาย\n",
    "\n",
    "5. **การปรับแต่งตามกลุ่มเป้าหมาย**\n",
    "   - ปรับขนาดตัวอักษรให้อ่านง่าย\n",
    "   - ใช้ภาษาที่เหมาะสมกับกลุ่มเป้าหมาย\n",
    "   - พิจารณาความรู้พื้นฐานของผู้ชม\n",
    "   - เพิ่มการอธิบายเพิ่มเติมหากจำเป็น"
   ]
  },
  {
   "cell_type": "markdown",
   "metadata": {},
   "source": [
    "## 7. แบบฝึกหัด: สร้างและปรับแต่งการแสดงผลข้อมูล\n",
    "\n",
    "ให้สร้างแดชบอร์ดสำหรับแสดงข้อมูลลูกค้าและยอดขาย โดยใช้ข้อมูลที่มีอยู่ ประกอบด้วย:\n",
    "\n",
    "1. การกระจายของรายได้และค่าใช้จ่ายของลูกค้าตามภูมิภาค\n",
    "2. ความสัมพันธ์ระหว่างอายุและความพึงพอใจของลูกค้า\n",
    "3. แนวโน้มยอดขายและกำไรตามเวลา\n",
    "4. การเปรียบเทียบยอดขายและคะแนนความพึงพอใจของผลิตภัณฑ์\n",
    "\n",
    "ให้เลือกใช้ประเภทของกราฟให้เหมาะสมกับข้อมูลและวัตถุประสงค์ พร้อมทั้งปรับแต่งให้อ่านง่ายและสวยงาม"
   ]
  },
  {
   "cell_type": "code",
   "execution_count": null,
   "metadata": {},
   "outputs": [],
   "source": [
    "# เพิ่มโค้ดของคุณที่นี่\n",
    "# สร้างแดชบอร์ดข้อมูลลูกค้าและยอดขาย\n",
    "\n",
    "# สร้างตัวแปรเพื่อเก็บข้อมูลที่จำเป็น\n",
    "\n",
    "# สร้าง subplots สำหรับแดชบอร์ด\n",
    "fig, axes = plt.subplots(2, 2, figsize=(20, 16))\n",
    "\n",
    "# 1. การกระจายของรายได้และค่าใช้จ่ายของลูกค้าตามภูมิภาค\n",
    "\n",
    "# 2. ความสัมพันธ์ระหว่างอายุและความพึงพอใจของลูกค้า\n",
    "\n",
    "# 3. แนวโน้มยอดขายและกำไรตามเวลา\n",
    "\n",
    "# 4. การเปรียบเทียบยอดขายและคะแนนความพึงพอใจของผลิตภัณฑ์\n",
    "\n",
    "# ปรับแต่งแดชบอร์ด\n",
    "plt.tight_layout()\n",
    "plt.suptitle('แดชบอร์ดข้อมูลลูกค้าและยอดขาย', fontsize=24, y=1.02)\n",
    "plt.subplots_adjust(top=0.95)\n",
    "plt.show()"
   ]
  },
  {
   "cell_type": "markdown",
   "metadata": {},
   "source": [
    "## 8. สรุป\n",
    "\n",
    "การแสดงผลข้อมูล (Data Visualization) เป็นเครื่องมือสำคัญในการสื่อสารข้อมูลและสนับสนุนการตัดสินใจ การเลือกใช้ประเภทของการแสดงผลข้อมูลให้เหมาะสมกับข้อมูลและวัตถุประสงค์จะช่วยให้การสื่อสารมีประสิทธิภาพมากขึ้น\n",
    "\n",
    "ในบทเรียนนี้ เราได้เรียนรู้:\n",
    "- ความสำคัญของการแสดงผลข้อมูล\n",
    "- การสร้างกราฟพื้นฐานด้วย Matplotlib\n",
    "- การสร้างการแสดงผลข้อมูลที่สวยงามด้วย Seaborn\n",
    "- หลักการเลือกใช้ประเภทของการแสดงผลข้อมูล\n",
    "- หลักการออกแบบการแสดงผลข้อมูลที่ดี\n",
    "\n",
    "ทักษะเหล่านี้จะช่วยให้คุณสามารถนำเสนอข้อมูลได้อย่างมีประสิทธิภาพและน่าสนใจ ซึ่งเป็นส่วนสำคัญในการทำงานด้าน Data Science และ Data Analytics\n",
    "\n",
    "---\n",
    "\n",
    "## แหล่งข้อมูลเพิ่มเติม\n",
    "\n",
    "1. [Matplotlib Documentation](https://matplotlib.org/stable/contents.html)\n",
    "2. [Seaborn Documentation](https://seaborn.pydata.org/tutorial.html)\n",
    "3. [Data Visualization with Python](https://www.python-graph-gallery.com/)\n",
    "4. [Storytelling with Data](http://www.storytellingwithdata.com/)\n",
    "5. [Information is Beautiful](https://informationisbeautiful.net/)"
   ]
  }
 ],
 "metadata": {
  "kernelspec": {
   "display_name": "Python 3 (ipykernel)",
   "language": "python",
   "name": "python3"
  },
  "language_info": {
   "codemirror_mode": {
    "name": "ipython",
    "version": 3
   },
   "file_extension": ".py",
   "mimetype": "text/x-python",
   "name": "python",
   "nbconvert_exporter": "python",
   "pygments_lexer": "ipython3",
   "version": "3.10.16"
  }
 },
 "nbformat": 4,
 "nbformat_minor": 4
}